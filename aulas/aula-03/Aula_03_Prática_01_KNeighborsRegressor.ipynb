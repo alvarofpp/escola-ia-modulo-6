{
 "cells": [
  {
   "cell_type": "markdown",
   "metadata": {
    "colab_type": "text",
    "id": "NlymPQVIJxkY"
   },
   "source": [
    "O presente notebook possui a intenção de prever o preço de imóveis do Rio de Janeiro. O algoritmo escolhido foi **KNeighborsRegressor**."
   ]
  },
  {
   "cell_type": "markdown",
   "metadata": {
    "colab_type": "text",
    "id": "ITzX6LHtS0DS"
   },
   "source": [
    "# Sobre o KNeighborsRegressor\n",
    "Se trata de um algoritmo de regressão baseada nos k-vizinhos mais próximos. O alvo é previsto pela interpolação local dos alvos associados aos vizinhos mais próximos no conjunto de treinamento. Ele funciona da seguinte forma:\n",
    "\n",
    "1. Selecionamos k vizinhos semelhantes mais próximos, usando algum cálculo de distância, com as quais queremos comparar.\n",
    "1. Agora iremos calcular a semelhança entre cada vizinho e o nosso dado usando uma métrica de similaridade\n",
    "1. Então classificamos cada vizinho usando nossa métrica de similaridade e selecionamos os primeiros k vizinhos.\n",
    "1. Por fim, calculamos o valor médio dos k vizinhos semelhantes e o usamos como nosso valor de tabela."
   ]
  },
  {
   "cell_type": "markdown",
   "metadata": {
    "colab_type": "text",
    "id": "-mtRjbNUJuYw"
   },
   "source": [
    "# Depêndencias iniciais\n",
    "Iremos agora importar as principais bibliotecas, sendo elas:\n",
    "\n",
    "- [Numpy](https://numpy.org/): é um pacote fundamental para a computação científica com Python, usado principalmente para realizar cálculos em _arrays_ multidimensionais.\n",
    "- [Pandas](https://pandas.pydata.org/): é um pacote que fornece estruturas de dados de alto desempenho e fáceis de usar, além de conter ferramentas de análise de dados."
   ]
  },
  {
   "cell_type": "code",
   "execution_count": 0,
   "metadata": {
    "colab": {},
    "colab_type": "code",
    "id": "KezlrUwIKb6Q"
   },
   "outputs": [],
   "source": [
    "import numpy as np\n",
    "import pandas as pd"
   ]
  },
  {
   "cell_type": "markdown",
   "metadata": {
    "colab_type": "text",
    "id": "i5dt9lVtJubH"
   },
   "source": [
    "# O dataset\n",
    "Nessa primeira parte, iremos carregar o _dataset_ na estrutura de dados que utilizaremos, que será o [DataFrame](https://pandas.pydata.org/pandas-docs/stable/reference/api/pandas.DataFrame.html)."
   ]
  },
  {
   "cell_type": "code",
   "execution_count": 0,
   "metadata": {
    "colab": {},
    "colab_type": "code",
    "id": "UfnXOjCNLkPf"
   },
   "outputs": [],
   "source": [
    "# Lendo arquivo CSV\n",
    "df_train = pd.read_csv(\"kn_train.csv\")"
   ]
  },
  {
   "cell_type": "code",
   "execution_count": 0,
   "metadata": {
    "colab": {},
    "colab_type": "code",
    "id": "RJkF0n6-MxAA"
   },
   "outputs": [],
   "source": [
    "# Conhecendo a quantidade de linhas e colunas do dataset, respectivamente\n",
    "print(\"train:= \", df_train.shape)"
   ]
  },
  {
   "cell_type": "code",
   "execution_count": 0,
   "metadata": {
    "colab": {},
    "colab_type": "code",
    "id": "p58oSkoS3f9M"
   },
   "outputs": [],
   "source": [
    "df_train.columns"
   ]
  },
  {
   "cell_type": "markdown",
   "metadata": {
    "colab_type": "text",
    "id": "SuxYP1iU3YwW"
   },
   "source": [
    "O _dataset_ possui as seguintes colunas (total de 26 colunas):\n",
    "\n",
    "- **host_response_time**: tempo de resposta do host;\n",
    "- **host_response_rate**: a taxa de resposta do host;\n",
    "- **host_neighbourhood**: o bairro que o host se localiza;\n",
    "- **host_listings_count**: número de outras listagens que o host possui;\n",
    "- **neighbourhood**: o bairro no qual o espaço se localiza;\n",
    "- **city**: a cidade onde fica o espaço;\n",
    "- **state**: o estado em que o espaço fica;\n",
    "- **zipcode**: o código postal em que fica o espaço;\n",
    "- **latitude**: dimensão da latitude das coordenadas geográficas;\n",
    "- **longitude**: dimensão de longitude das coordenadas geográficas;\n",
    "- **property_type**: o tipo da propriedade;\n",
    "- **room_type**: o tipo de espaço de convivência;\n",
    "- **accommodates**: o número de pessoas que o aluguel pode acomodar;\n",
    "- **bathrooms**: número de banheiros incluídos no aluguel;\n",
    "- **bedrooms**: número de quartos incluídos no aluguel;\n",
    "- **beds**: número de camas incluídas no aluguel;\n",
    "- **bed_type**: o tipo da cama;\n",
    "- **security_deposit**: depósito reembolsável, em caso de danos;\n",
    "- **cleaning_fee**: taxa adicional usada para limpar o espaço após a saída do hóspede;\n",
    "- **extra_people**: taxa adicional para pessoas extras; \n",
    "- **minimum_nights**: número mínimo de noites que um hóspede pode ficar no aluguel;\n",
    "- **maximum_nights**: número máximo de noites que um hóspede pode ficar no aluguel;\n",
    "- **number_of_reviews**: número de comentários que os hóspedes anteriores deixaram;\n",
    "- **review_scores_rating**: pontuação do espaço;\n",
    "- **reviews_per_month**: quantidade de reviews que o espaço recebe por mês;\n",
    "- **price**: preço do aluguel."
   ]
  },
  {
   "cell_type": "markdown",
   "metadata": {
    "colab_type": "text",
    "id": "GjiRbq-yJudH"
   },
   "source": [
    "## Explorando o dataset\n",
    "Aqui iremos utilizar alguns métodos do pandas para conhecermos melhor o nosso _DataFrame_. Os métodos serão:\n",
    "- [**pandas.DataFrame.head**](https://pandas.pydata.org/pandas-docs/stable/reference/api/pandas.DataFrame.head.html): mostra as primeiras _n_ linhas do nosso _dataset_. Por padrão serão as 5 primeiras linhas.\n",
    "- [**pandas.DataFrame.info**](https://pandas.pydata.org/pandas-docs/stable/reference/api/pandas.DataFrame.info.html): imprime informações sobre o nosso _DataFrame_, incluindo o tipo de índice, os tipos de coluna, valores não nulos e uso de memória.\n",
    "- [**pandas.DataFrame.describe**](https://pandas.pydata.org/pandas-docs/stable/reference/api/pandas.DataFrame.describe.html): mostra estatísticas descritivas sobre as colunas do nosso _DataFrame_, como: a tendência central, a dispersão e a forma da distribuição de um conjunto de dados.\n",
    "\n",
    "**Exercício**:\n",
    "1. Utilize o método `head()` para verificar as primeiras 5 linhas do nosso _dataset_.\n",
    "1. Utilize o método `info()` para ver informações sobre o nosso _dataset_.\n",
    "1. Utilize o método `describe()` para verificar os valores estatísticos descritivos nosso _dataset_."
   ]
  },
  {
   "cell_type": "code",
   "execution_count": 0,
   "metadata": {
    "colab": {},
    "colab_type": "code",
    "id": "NUsGfqE7Ly9C"
   },
   "outputs": [],
   "source": [
    "# Verificando as primeiras 5 linhas do nosso DataFrame\n",
    "df_train._____()"
   ]
  },
  {
   "cell_type": "code",
   "execution_count": 0,
   "metadata": {
    "colab": {},
    "colab_type": "code",
    "id": "dBUjOXA7Ly_f"
   },
   "outputs": [],
   "source": [
    "# Mais informações sobre o DataFrame\n",
    "df_train._____()"
   ]
  },
  {
   "cell_type": "code",
   "execution_count": 0,
   "metadata": {
    "colab": {},
    "colab_type": "code",
    "id": "KQu2C0PZLzB3"
   },
   "outputs": [],
   "source": [
    "# Verificando detalhes estatísticos do DataFrame\n",
    "df_train._____()"
   ]
  },
  {
   "cell_type": "markdown",
   "metadata": {
    "colab_type": "text",
    "id": "M7rMbuImJufn"
   },
   "source": [
    "# Limpando, preparando e manipulando os dados\n",
    "Nessa etapa, iremos realizar o processo de limpeza, preparação e manipulação dos dados do nosso _DataFrame_. Nesse primeiro momento temos que decidir quais as colunas que iremos usar no nosso modelo. Para isso iremos verificar as correlações das colunas com a coluna _price_ usando:\n",
    "- [**pandas.DataFrame.corr**](https://pandas.pydata.org/pandas-docs/stable/reference/api/pandas.DataFrame.corr.html): calcula a correlação entre todas as colunas. Usaremos o parâmetro **method** para especificar o método que iremos usar para calcular a correlação.\n",
    "- [**pandas.Series.sort_values**](https://pandas.pydata.org/pandas-docs/stable/reference/api/pandas.Series.sort_values.html): ordena os valores.\n",
    "\n",
    "**Exercícios**:\n",
    "1. Calcule a correlação entre todas as colunas usando o método `corr()`.\n",
    "  1. Passe como valor para **method** a _string_ `'pearson'`.\n",
    "1. Ordene os valores."
   ]
  },
  {
   "cell_type": "code",
   "execution_count": 0,
   "metadata": {
    "colab": {},
    "colab_type": "code",
    "id": "jQy5TKq3M6L_"
   },
   "outputs": [],
   "source": [
    "# Usamos a correlação de Pearson e ordenamos os valores\n",
    "columns_corr = df_train._____(method=_____)['price']._____()\n",
    "print(columns_corr)"
   ]
  },
  {
   "cell_type": "markdown",
   "metadata": {
    "colab_type": "text",
    "id": "Q2CGzw69zx5U"
   },
   "source": [
    "## Filtrando as colunas que queremos\n",
    "Após verificarmos a correlação das colunas entre si, iremos selecionar as 5 melhores colunas mais a coluna _price_.\n",
    "\n",
    "Estamos usando:\n",
    "- [**pandas.Series.index**](https://pandas.pydata.org/pandas-docs/stable/reference/api/pandas.Series.index.html): pega os índices da `Series`.\n",
    "- [**pandas.Series.tolist**](https://pandas.pydata.org/pandas-docs/stable/reference/api/pandas.Series.tolist.html): converte para a estrutura de dados lista.\n",
    "\n",
    "**Exercícios**:\n",
    "1. Selecione as 5 melhores colunas mais a coluna `price`. Observação: as 5 melhores colunas são as que apresentam melhor correlação com nosso alvo (`price`).\n",
    "1. Pegue os índices.\n",
    "1. Converta a saída para `list`."
   ]
  },
  {
   "cell_type": "code",
   "execution_count": 0,
   "metadata": {
    "colab": {},
    "colab_type": "code",
    "id": "UztEm96ezx_u"
   },
   "outputs": [],
   "source": [
    "# Colunas do DataFrame que iremos usar\n",
    "target_cols = columns_corr[_____]._____._____()\n",
    "print(target_cols)"
   ]
  },
  {
   "cell_type": "code",
   "execution_count": 0,
   "metadata": {
    "colab": {},
    "colab_type": "code",
    "id": "Xkw2Rni4NIim"
   },
   "outputs": [],
   "source": [
    "# Filtramos o DataFrame para apenas as colunas que queremos usar\n",
    "clean_train = df_train[target_cols]\n",
    "# Mostramos as dimensões do DataFrame\n",
    "print(clean_train.shape)"
   ]
  },
  {
   "cell_type": "code",
   "execution_count": 0,
   "metadata": {
    "colab": {},
    "colab_type": "code",
    "id": "ToKV3kZpNWqA"
   },
   "outputs": [],
   "source": [
    "# Algumas informações sobre o DataFrame\n",
    "clean_train.info()"
   ]
  },
  {
   "cell_type": "markdown",
   "metadata": {
    "colab_type": "text",
    "id": "XAaqBEioJujw"
   },
   "source": [
    "## Tratando os valores nulos\n",
    "Anteriormente podemos notar que as colunas **beds**, **bedrooms** e **bathrooms** possuem valores nulos, portanto agora iremos adicionar a média dos valores da coluna em cada célula NA."
   ]
  },
  {
   "cell_type": "code",
   "execution_count": 0,
   "metadata": {
    "colab": {},
    "colab_type": "code",
    "id": "FnuzDaC8O3hb"
   },
   "outputs": [],
   "source": [
    "# Colunas que iremos preencher os valores NA com a média\n",
    "fillna_mean = ['beds', 'bedrooms', 'bathrooms']"
   ]
  },
  {
   "cell_type": "markdown",
   "metadata": {
    "colab_type": "text",
    "id": "j9vdX4S-PoE-"
   },
   "source": [
    "Para realizarmos a operação de adicionarmos a média em cada campo nulo, iremos utilizar duas funções:\n",
    "- [**pandas.DataFrame.fillna**](https://pandas.pydata.org/pandas-docs/stable/reference/api/pandas.DataFrame.fillna.html): preenche os valores de NA/NaN na coluna. Iremos especificar o valor que queremos aplicar nesses campos com o parâmetro **value**. O parâmetro **inplace** indica que não queremos retornar um novo _DataFrame_, que é para preencher o _DataFrame_ local.\n",
    "- [**pandas.DataFrame.mean**](https://pandas.pydata.org/pandas-docs/stable/reference/api/pandas.DataFrame.mean.html): retorna a média dos valores.\n",
    "\n",
    "**Exercícios**:\n",
    "1. Aplique o método `fillna()` na coluna dentro do `for`.\n",
    "1. Como argumento para **value**, atribua a média daquela coluna usando o método `mean()`.\n",
    "1. Passe `True` como argumento para **inplace**."
   ]
  },
  {
   "cell_type": "code",
   "execution_count": 0,
   "metadata": {
    "colab": {},
    "colab_type": "code",
    "id": "uNqgsX5ZNbLg"
   },
   "outputs": [],
   "source": [
    "# Adicionamos as médias em cada campo NA/NaN\n",
    "for col in fillna_mean:\n",
    "  clean_train[col]._____(\n",
    "      value=_____._____(),\n",
    "      inplace=_____\n",
    "  )"
   ]
  },
  {
   "cell_type": "code",
   "execution_count": 0,
   "metadata": {
    "colab": {},
    "colab_type": "code",
    "id": "9FudpmyQOHr3"
   },
   "outputs": [],
   "source": [
    "# Verificando as informações do nosso dataset\n",
    "clean_train.info()"
   ]
  },
  {
   "cell_type": "code",
   "execution_count": 0,
   "metadata": {
    "colab": {},
    "colab_type": "code",
    "id": "Tg-h4w76NhCg"
   },
   "outputs": [],
   "source": [
    "# Verificando a alteração dos valores nas estatísticas descritivas\n",
    "clean_train.describe()"
   ]
  },
  {
   "cell_type": "markdown",
   "metadata": {
    "colab_type": "text",
    "id": "MqlVrNFFOj54"
   },
   "source": [
    "### Observações\n",
    "Quais observações você pode fazer sobre os dados limpos em relação aos dados sujos?"
   ]
  },
  {
   "cell_type": "markdown",
   "metadata": {
    "colab_type": "text",
    "id": "VdUCKefnZayf"
   },
   "source": [
    "## Normalização\n",
    "Como o algoritmo **KNeighborsRegressor** funciona melhor se todos os dados estiverem na mesma escala. Portanto iremos normalizar os dados para o intervalo [0, 1]. Para isso iremos usar:\n",
    "- [**MinMaxScaler**](https://scikit-learn.org/stable/modules/generated/sklearn.preprocessing.MinMaxScaler.html): transforma os dados para valores em um determinado intervalo. Por padrão é o intervalo que queremos: [0, 1].\n",
    "  - [**fit_transform**](https://scikit-learn.org/stable/modules/generated/sklearn.preprocessing.MinMaxScaler.html#sklearn.preprocessing.MinMaxScaler.fit_transform): aplica o _fit_ e, logo após, o _transform_ nos dados.\n",
    "- [**pandas.DataFrame.columns**](https://pandas.pydata.org/pandas-docs/stable/reference/api/pandas.DataFrame.columns.html): retorna as _labels_ das colunas do _DataFrame_.\n",
    "- [**pandas.DataFrame.values**](https://pandas.pydata.org/pandas-docs/stable/reference/api/pandas.DataFrame.values.html): retorna os valores do _DataFrame_.\n",
    "\n",
    "**Exercícios**:\n",
    "1. Aplique `MinMaxScaler().fit_transform()` nos dados do nosso _DataFrame_.\n",
    "1. Crie um novo _DataFrame_ e passe as colunas em `columns`."
   ]
  },
  {
   "cell_type": "code",
   "execution_count": 0,
   "metadata": {
    "colab": {},
    "colab_type": "code",
    "id": "0MiF2LVzBpd1"
   },
   "outputs": [],
   "source": [
    "from sklearn.preprocessing import MinMaxScaler"
   ]
  },
  {
   "cell_type": "code",
   "execution_count": 0,
   "metadata": {
    "colab": {},
    "colab_type": "code",
    "id": "fAGvYy3OBOAt"
   },
   "outputs": [],
   "source": [
    "# Normalizando os dados\n",
    "normalized_train = _____()._____(clean_train._____)\n",
    "# Criamos um novo DataFrame com os dados normalizados\n",
    "normalized_train = pd.DataFrame(normalized_train, columns=clean_train._____)\n",
    "# Colocamos a coluna de preço para o seu valor real\n",
    "normalized_train['price'] = clean_train['price']"
   ]
  },
  {
   "cell_type": "code",
   "execution_count": 0,
   "metadata": {
    "colab": {},
    "colab_type": "code",
    "id": "P4PUMv_HB6v9"
   },
   "outputs": [],
   "source": [
    "# Verificamos as estatísticas descritivas do nosso novo DataFrame\n",
    "normalized_train.describe()"
   ]
  },
  {
   "cell_type": "markdown",
   "metadata": {
    "colab_type": "text",
    "id": "Vxcav5oEQdUo"
   },
   "source": [
    "## Outliers\n",
    "Um _outlier_ é um valor que foge da normalidade dos dados que está inserido, podendo causar anomalias nos resultados obtidos nas análises e modelos treinados. Também são conhecidos como \"pontos fora da curva\".\n",
    "\n",
    "Para realizarmos uma exploração inicial dos dados para identificar a existência de _outliers_, iremos usar:\n",
    "- **[matplotlib](https://matplotlib.org/)**: é uma biblioteca de plotagem de gráficos.\n",
    "- **[seaborn](https://seaborn.pydata.org/)**: é uma biblioteca de visualização de dados baseada no matplotlib. Ele fornece uma interface de alto nível para desenhar gráficos estatísticos atraentes e informativos."
   ]
  },
  {
   "cell_type": "code",
   "execution_count": 0,
   "metadata": {
    "colab": {},
    "colab_type": "code",
    "id": "0D3Je0EgBJ7H"
   },
   "outputs": [],
   "source": [
    "# Visualização\n",
    "import matplotlib.pyplot as plt\n",
    "import seaborn as sns"
   ]
  },
  {
   "cell_type": "markdown",
   "metadata": {
    "colab_type": "text",
    "id": "bMLeGVHc8a2_"
   },
   "source": [
    "Iremos criar uma função chamada `print_eda` que irá nos mostrar alguns gráficos e valores que irão nos ajudar na etapa de exploração e identificação de _outliers_."
   ]
  },
  {
   "cell_type": "code",
   "execution_count": 0,
   "metadata": {
    "colab": {},
    "colab_type": "code",
    "id": "vRQLyqsFQ2gf"
   },
   "outputs": [],
   "source": [
    "# Layout padrão\n",
    "default_layout = (2,3)\n",
    "# Figsize padrão\n",
    "default_figsize = (10,4)\n",
    "\n",
    "def plot_density(df):\n",
    "  \"\"\"Plota o gráfico de densidade.\n",
    "  \"\"\"\n",
    "  df.plot(kind=\"density\",\n",
    "          subplots=True,\n",
    "          sharex=False,\n",
    "          layout=default_layout,\n",
    "          figsize=default_figsize)\n",
    "  plt.tight_layout()\n",
    "  plt.show()\n",
    "\n",
    "def plot_box(df):\n",
    "  \"\"\"Plota o boxplot.\n",
    "  \"\"\"\n",
    "  df.plot(kind=\"box\",\n",
    "          subplots=True,\n",
    "          sharex=False,\n",
    "          layout=default_layout,\n",
    "          figsize=default_figsize)\n",
    "  plt.tight_layout()\n",
    "  plt.show()\n",
    "  \n",
    "def print_eda(df):\n",
    "  \"\"\"Mostra gráficos e valores relacionados a etapa de\n",
    "  Exploratory Data Analysis (EDA).\"\"\"\n",
    "  hr = '--------------------------------------------------------------'\n",
    "  print(\"Density\")\n",
    "  plot_density(df)\n",
    "\n",
    "  print(hr)\n",
    "  print(\"Box\")\n",
    "  plot_box(df)\n",
    "\n",
    "  print(hr)\n",
    "  print(\"Shape\")\n",
    "  print(df.shape)\n",
    "\n",
    "  print(hr)\n",
    "  print(\"Correlação\")\n",
    "  print(df.corr()['price'].sort_values())\n",
    "\n",
    "  print(hr)\n",
    "  print(\"Heatmap\")\n",
    "  sns.heatmap(df.corr())"
   ]
  },
  {
   "cell_type": "code",
   "execution_count": 0,
   "metadata": {
    "colab": {},
    "colab_type": "code",
    "id": "WS9wRVynwjZv"
   },
   "outputs": [],
   "source": [
    "# Mostrando os gráficos e valores dos dados que temos até agora\n",
    "print_eda(normalized_train)"
   ]
  },
  {
   "cell_type": "markdown",
   "metadata": {
    "colab_type": "text",
    "id": "2_Pmr3f4yIKo"
   },
   "source": [
    "Para tratar esses valores, iremos usar duas técnicas e, posteriormente, escolher a que melhor comportou nos nossos dados. As técnicas serão:\n",
    "- [Z-score](https://www.statisticshowto.datasciencecentral.com/probability-and-statistics/z-score/): nos permite comparar um valor específico com a população, levando-se em conta o valor típico e a dispersão.\n",
    "- [IQR](https://pt-pt.khanacademy.org/math/statistics-probability/summarizing-quantitative-data/interquartile-range-iqr/a/interquartile-range-review): também conhecida como amplitude interquartil, é uma medida da dispersão dos dados em torno da medida de centralidade."
   ]
  },
  {
   "cell_type": "code",
   "execution_count": 0,
   "metadata": {
    "colab": {},
    "colab_type": "code",
    "id": "c-ylK-47OrSn"
   },
   "outputs": [],
   "source": [
    "from sklearn.preprocessing import StandardScaler"
   ]
  },
  {
   "cell_type": "markdown",
   "metadata": {
    "colab_type": "text",
    "id": "oYLYzdLOZ4we"
   },
   "source": [
    "Estamos usando:\n",
    "- [**pandas.DataFrame.copy**](https://pandas.pydata.org/pandas-docs/stable/reference/api/pandas.DataFrame.copy.html): cria uma cópia do _DataFrame_.\n",
    "- [**pandas.DataFrame.quantile**](https://pandas.pydata.org/pandas-docs/stable/reference/api/pandas.DataFrame.quantile.html): retorne valores no quantil fornecido sobre o eixo solicitado.\n",
    "- [**pandas.DataFrame.all**](https://pandas.pydata.org/pandas-docs/stable/reference/api/pandas.DataFrame.all.html): retorne se todos os elementos são `True`, potencialmente sobre um eixo.\n",
    "\n",
    "**Exercícios**:\n",
    "- Para IQR:\n",
    "  1. Copie o _DataFrame_.\n",
    "  1. Pegue os valores que definem os eixos dos quartis 1 e 3.\n",
    "- Para Z-Score:\n",
    "  1. Crie o escalar com `StandardScaler` e aplique `fit_transform()` nos dados."
   ]
  },
  {
   "cell_type": "code",
   "execution_count": 0,
   "metadata": {
    "colab": {},
    "colab_type": "code",
    "id": "Qgjuq4AGQ8ZG"
   },
   "outputs": [],
   "source": [
    "def clean_outliers(data, algorithm='iqr'):\n",
    "  \"\"\"Essa função limpa os outliers, podendo ser escolhido o algoritmo\n",
    "  IQR ou Z-Score.\n",
    "  \n",
    "  Return: df\n",
    "    O dataframe com os outliers tratados.\n",
    "  \"\"\"\n",
    "  df = data._____()\n",
    "  if algorithm == \"iqr\":\n",
    "    Q1 = df._____(0.25)\n",
    "    Q3 = df._____(0.75)\n",
    "    IQR = Q3 - Q1\n",
    "    low = Q1 - 1.5 * IQR\n",
    "    up = Q3 + 1.5 * IQR\n",
    "    df = df[((df > low).all(axis=1) & (df < up).all(axis=1))]\n",
    "  elif algorithm == \"z-score\":\n",
    "    df = pd.DataFrame(_____()._____(df),\n",
    "                            columns=df.columns,\n",
    "                            index=df.index)\n",
    "    df = df[(df < 2.698).all(axis=1) & (df > -2.698).all(axis=1)]\n",
    "  return df"
   ]
  },
  {
   "cell_type": "code",
   "execution_count": 0,
   "metadata": {
    "colab": {},
    "colab_type": "code",
    "id": "jgVJ8q3sQ8bm"
   },
   "outputs": [],
   "source": [
    "train_iqr = clean_outliers(normalized_train,\"iqr\")\n",
    "train_z_score = clean_outliers(normalized_train,\"z-score\")\n",
    "train_z_score['price'] = normalized_train.loc[train_z_score.index.tolist()]['price']"
   ]
  },
  {
   "cell_type": "code",
   "execution_count": 0,
   "metadata": {
    "colab": {},
    "colab_type": "code",
    "id": "3q5dA6KsQ8eE"
   },
   "outputs": [],
   "source": [
    "print_eda(train_iqr)"
   ]
  },
  {
   "cell_type": "code",
   "execution_count": 0,
   "metadata": {
    "colab": {},
    "colab_type": "code",
    "id": "OZAH0WieQ8gX"
   },
   "outputs": [],
   "source": [
    "print_eda(train_z_score)"
   ]
  },
  {
   "cell_type": "markdown",
   "metadata": {
    "colab_type": "text",
    "id": "BaK4o23n9cGl"
   },
   "source": [
    "### Comparação\n",
    "Compare os dados pelo IQR e Z-Score. Converse com seus colegas para chegarem a uma conclusão."
   ]
  },
  {
   "cell_type": "markdown",
   "metadata": {
    "colab_type": "text",
    "id": "lxcZwZYQJuov"
   },
   "source": [
    "# Modelo inicial\n",
    "No treinamento inicial, iremos treinar 3 modelos:\n",
    "1. Com os dados limpos e normalizados (**normalized_train**);\n",
    "1. Com os dados após IQR (**train_iqr**);\n",
    "1. Com os dados após Z-Score (**train_z_score**).\n",
    "\n",
    "Iremos verificar o RMSE de cada um, para decidirmos qual _DataFrame_ usar. Após, na etapa de encontrar o melhor modelo, iremos aplicar vários modelos nos dados com o melhor RMSE. Por fim, iremos melhorar o nosso modelo final e aplicá-lo nas variáveis de teste.\n",
    "\n",
    "Iremos usar:\n",
    "\n",
    "- **[numpy.sqrt](https://docs.scipy.org/doc/numpy/reference/generated/numpy.sqrt.html)**: calcula a raiz quadrada do valor passado.\n",
    "- **[sklearn.metrics.mean_squared_error](https://scikit-learn.org/stable/modules/generated/sklearn.metrics.mean_squared_error.html)**: calcula o erro médio quadrático.\n",
    "- **[sklearn.model_selection.train_test_split](https://scikit-learn.org/stable/modules/generated/sklearn.model_selection.train_test_split.html)**: divide matrizes em subconjuntos aleatórios de treino e teste."
   ]
  },
  {
   "cell_type": "code",
   "execution_count": 0,
   "metadata": {
    "colab": {},
    "colab_type": "code",
    "id": "y0yKqc3LCc6l"
   },
   "outputs": [],
   "source": [
    "from sklearn.metrics import mean_squared_error\n",
    "from sklearn.neighbors import KNeighborsRegressor\n",
    "from sklearn.model_selection import train_test_split"
   ]
  },
  {
   "cell_type": "markdown",
   "metadata": {
    "colab_type": "text",
    "id": "kAcj36pjKDMw"
   },
   "source": [
    "## Treinamento inicial\n",
    "A ordem dos modelos será igual a anteriormente citada."
   ]
  },
  {
   "cell_type": "code",
   "execution_count": 0,
   "metadata": {
    "colab": {},
    "colab_type": "code",
    "id": "yVMRgqs-TiZI"
   },
   "outputs": [],
   "source": [
    "# 10% para teste, 90% para treino\n",
    "test_size = 0.10\n",
    "# Semente usada pelo gerador de números aleatórios\n",
    "seed = 20"
   ]
  },
  {
   "cell_type": "markdown",
   "metadata": {
    "colab_type": "text",
    "id": "wAmLHh8Cs5LT"
   },
   "source": [
    "Estamos usando:\n",
    "- [**pandas.DataFrame.drop**](https://pandas.pydata.org/pandas-docs/stable/reference/api/pandas.DataFrame.drop.html): retirar linhas ou colunas usando rótulos.\n",
    "\n",
    "**Exercícios**:\n",
    "A seguir, você irá treinar 3 modelos básicos. Em todos eles, execute os seguintes passos:\n",
    "\n",
    "- Em `train_test_split`:\n",
    "  1. Passe, como primeiro argumento, todos dos dados de `normalized_train`, com exceção da coluna `price`.\n",
    "  1. Passe, como segundo argumento, a coluna `price`.\n",
    "  1. Para `test_size`, passe a variável `test_size`.\n",
    "  1. Para `random_state`, passe `seed`.\n",
    "- Em `KNeighborsRegressor`:\n",
    "  1. Para `n_neighbors`, passe como argumento o valor `5`.\n",
    "  1. Para `n_jobs`, passe como argumento o valor `-1`.\n",
    "- Realize o `fit`.\n",
    "- Realize o `predict`.\n",
    "- Calcule o RMSE.\n",
    "\n",
    "Ao final, compare o resultado dos modelos."
   ]
  },
  {
   "cell_type": "markdown",
   "metadata": {
    "colab_type": "text",
    "id": "trCgVl6QTEXB"
   },
   "source": [
    "### Modelo com os dados limpos e normalizados\n",
    "_DataFrame_ utilizado: `normalized_train`."
   ]
  },
  {
   "cell_type": "code",
   "execution_count": 0,
   "metadata": {
    "colab": {},
    "colab_type": "code",
    "id": "RGaqRpo5Tfz3"
   },
   "outputs": [],
   "source": [
    "# Separamos o X e Y de treino e teste\n",
    "X_train, X_test, Y_train, Y_test = train_test_split(normalized_train.drop(axis=1,labels=[\"price\"]), \n",
    "                                                    normalized_train[_____],\n",
    "                                                    test_size=_____, \n",
    "                                                    random_state=_____)\n",
    "# Imprime as dimensões de X para treino e teste\n",
    "print(X_train.shape, X_test.shape)"
   ]
  },
  {
   "cell_type": "code",
   "execution_count": 0,
   "metadata": {
    "colab": {},
    "colab_type": "code",
    "id": "ybe-FszUTEve"
   },
   "outputs": [],
   "source": [
    "# Modelo básico inicial\n",
    "knn = KNeighborsRegressor(_____=5, _____=-1)\n",
    "\n",
    "# Treina o modelo básico\n",
    "knn.fit(X_train, Y_train)\n",
    "\n",
    "# Predizer os preços\n",
    "predict = knn._____(X_test)"
   ]
  },
  {
   "cell_type": "code",
   "execution_count": 0,
   "metadata": {
    "colab": {},
    "colab_type": "code",
    "id": "gkBVL0--TEyO"
   },
   "outputs": [],
   "source": [
    "# RMSE\n",
    "rmse = np.sqrt(_____(Y_test,predict))\n",
    "print(rmse)"
   ]
  },
  {
   "cell_type": "markdown",
   "metadata": {
    "colab_type": "text",
    "id": "1pxUT9yRTE5H"
   },
   "source": [
    "### Modelo com os dados após IQR\n",
    "_DataFrame_ utilizado: `train_iqr`."
   ]
  },
  {
   "cell_type": "code",
   "execution_count": 0,
   "metadata": {
    "colab": {},
    "colab_type": "code",
    "id": "I9DuNkPETe8v"
   },
   "outputs": [],
   "source": [
    "# Separamos o X e Y de treino e teste\n",
    "X_train, X_test, Y_train, Y_test = train_test_split(train_iqr.drop(axis=1,labels=[\"price\"]), \n",
    "                                                    train_iqr[_____],\n",
    "                                                    _____=test_size, \n",
    "                                                    _____=seed)\n",
    "# Imprime as dimensões de X para treino e teste\n",
    "print(X_train.shape,X_test.shape)"
   ]
  },
  {
   "cell_type": "code",
   "execution_count": 0,
   "metadata": {
    "colab": {},
    "colab_type": "code",
    "id": "tLDR_MIqTE_g"
   },
   "outputs": [],
   "source": [
    "# Modelo básico inicial\n",
    "knn = KNeighborsRegressor(_____=5, n_jobs=_____)\n",
    "\n",
    "# Treina o modelo básico\n",
    "knn._____(X_train, Y_train)\n",
    "\n",
    "# Predizer os preços\n",
    "predict = knn.predict(X_test)"
   ]
  },
  {
   "cell_type": "code",
   "execution_count": 0,
   "metadata": {
    "colab": {},
    "colab_type": "code",
    "id": "V89R59n6TFBu"
   },
   "outputs": [],
   "source": [
    "# RMSE\n",
    "rmse = np._____(mean_squared_error(Y_test,predict))\n",
    "print(rmse)"
   ]
  },
  {
   "cell_type": "markdown",
   "metadata": {
    "colab_type": "text",
    "id": "FMZWS21jTFHr"
   },
   "source": [
    "### Modelo com os dados após Z-Score\n",
    "_DataFrame_ utilizado: `train_z_score`."
   ]
  },
  {
   "cell_type": "code",
   "execution_count": 0,
   "metadata": {
    "colab": {},
    "colab_type": "code",
    "id": "ptgzrRklTehX"
   },
   "outputs": [],
   "source": [
    "# Separamos o X e Y de treino e teste\n",
    "X_train, X_test, Y_train, Y_test = train_test_split(_____, \n",
    "                                                    _____[\"price\"],\n",
    "                                                    _____=test_size, \n",
    "                                                    random_state=_____)\n",
    "# Imprime as dimensões de X para treino e teste\n",
    "print(X_train.shape,X_test.shape)"
   ]
  },
  {
   "cell_type": "code",
   "execution_count": 0,
   "metadata": {
    "colab": {},
    "colab_type": "code",
    "id": "kLKqTYNFTFOu"
   },
   "outputs": [],
   "source": [
    "# Modelo básico inicial\n",
    "knn = KNeighborsRegressor(n_neighbors=_____, n_jobs=_____)\n",
    "\n",
    "# Treina o modelo básico\n",
    "knn._____(X_train, Y_train)\n",
    "\n",
    "# Predizer os preços\n",
    "predict = knn._____(X_test)"
   ]
  },
  {
   "cell_type": "code",
   "execution_count": 0,
   "metadata": {
    "colab": {},
    "colab_type": "code",
    "id": "nfWPUvXUTFRG"
   },
   "outputs": [],
   "source": [
    "# RMSE\n",
    "rmse = np._____(_____(Y_test,predict))\n",
    "print(rmse)"
   ]
  },
  {
   "cell_type": "markdown",
   "metadata": {
    "colab_type": "text",
    "id": "t1dReBJPzwGU"
   },
   "source": [
    "### Comparação\n",
    "Compare os 3 modelos e verifique qual é o melhor entre eles."
   ]
  }
 ],
 "metadata": {
  "colab": {
   "collapsed_sections": [],
   "name": "Aula 03 - Prática 01 - KNeighborsRegressor.ipynb",
   "provenance": [],
   "toc_visible": true
  },
  "kernelspec": {
   "display_name": "Python 3",
   "language": "python",
   "name": "python3"
  },
  "language_info": {
   "codemirror_mode": {
    "name": "ipython",
    "version": 3
   },
   "file_extension": ".py",
   "mimetype": "text/x-python",
   "name": "python",
   "nbconvert_exporter": "python",
   "pygments_lexer": "ipython3",
   "version": "3.7.3"
  },
  "toc": {
   "base_numbering": 1,
   "nav_menu": {},
   "number_sections": true,
   "sideBar": true,
   "skip_h1_title": false,
   "title_cell": "Table of Contents",
   "title_sidebar": "Contents",
   "toc_cell": false,
   "toc_position": {},
   "toc_section_display": true,
   "toc_window_display": false
  },
  "varInspector": {
   "cols": {
    "lenName": 16,
    "lenType": 16,
    "lenVar": 40
   },
   "kernels_config": {
    "python": {
     "delete_cmd_postfix": "",
     "delete_cmd_prefix": "del ",
     "library": "var_list.py",
     "varRefreshCmd": "print(var_dic_list())"
    },
    "r": {
     "delete_cmd_postfix": ") ",
     "delete_cmd_prefix": "rm(",
     "library": "var_list.r",
     "varRefreshCmd": "cat(var_dic_list()) "
    }
   },
   "types_to_exclude": [
    "module",
    "function",
    "builtin_function_or_method",
    "instance",
    "_Feature"
   ],
   "window_display": false
  }
 },
 "nbformat": 4,
 "nbformat_minor": 1
}
