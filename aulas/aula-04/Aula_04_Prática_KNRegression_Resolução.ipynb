{
 "cells": [
  {
   "cell_type": "markdown",
   "metadata": {
    "colab_type": "text",
    "id": "NlymPQVIJxkY"
   },
   "source": [
    "O presente notebook possui a intenção de prever o preço de imóveis do Rio de Janeiro. O algoritmo escolhido foi **KNeighborsRegressor**."
   ]
  },
  {
   "cell_type": "markdown",
   "metadata": {
    "colab_type": "text",
    "id": "ITzX6LHtS0DS"
   },
   "source": [
    "# Sobre o KNeighborsRegressor\n",
    "Se trata de um algoritmo de regressão baseada nos k-vizinhos mais próximos. O alvo é previsto pela interpolação local dos alvos associados aos vizinhos mais próximos no conjunto de treinamento. Ele funciona da seguinte forma:\n",
    "\n",
    "1. Selecionamos k vizinhos semelhantes mais próximos, usando algum cálculo de distância, com as quais queremos comparar.\n",
    "1. Agora iremos calcular a semelhança entre cada vizinho e o nosso dado usando uma métrica de similaridade\n",
    "1. Então classificamos cada vizinho usando nossa métrica de similaridade e selecionamos os primeiros k vizinhos.\n",
    "1. Por fim, calculamos o valor médio dos k vizinhos semelhantes e o usamos como nosso valor de tabela."
   ]
  },
  {
   "cell_type": "markdown",
   "metadata": {
    "colab_type": "text",
    "id": "-mtRjbNUJuYw"
   },
   "source": [
    "# Depêndencias iniciais\n",
    "Iremos agora importar as principais bibliotecas, sendo elas:\n",
    "\n",
    "- [Numpy](https://numpy.org/): é um pacote fundamental para a computação científica com Python, usado principalmente para realizar cálculos em _arrays_ multidimensionais.\n",
    "- [Pandas](https://pandas.pydata.org/): é um pacote que fornece estruturas de dados de alto desempenho e fáceis de usar, além de conter ferramentas de análise de dados."
   ]
  },
  {
   "cell_type": "code",
   "execution_count": 0,
   "metadata": {
    "colab": {},
    "colab_type": "code",
    "id": "KezlrUwIKb6Q"
   },
   "outputs": [],
   "source": [
    "import numpy as np\n",
    "import pandas as pd"
   ]
  },
  {
   "cell_type": "markdown",
   "metadata": {
    "colab_type": "text",
    "id": "i5dt9lVtJubH"
   },
   "source": [
    "# O dataset\n",
    "Nessa primeira parte, iremos carregar o _dataset_ na estrutura de dados que utilizaremos, que será o [DataFrame](https://pandas.pydata.org/pandas-docs/stable/reference/api/pandas.DataFrame.html)."
   ]
  },
  {
   "cell_type": "code",
   "execution_count": 0,
   "metadata": {
    "colab": {},
    "colab_type": "code",
    "id": "UfnXOjCNLkPf"
   },
   "outputs": [],
   "source": [
    "# Lendo arquivo CSV\n",
    "df_train = pd.read_csv(\"kn_train.csv\")"
   ]
  },
  {
   "cell_type": "code",
   "execution_count": 0,
   "metadata": {
    "colab": {
     "base_uri": "https://localhost:8080/",
     "height": 34
    },
    "colab_type": "code",
    "id": "RJkF0n6-MxAA",
    "outputId": "15cc9c91-d647-49e9-d274-7d7275f8400e"
   },
   "outputs": [
    {
     "name": "stdout",
     "output_type": "stream",
     "text": [
      "train:=  (9000, 26)\n"
     ]
    }
   ],
   "source": [
    "# Conhecendo a quantidade de linhas e colunas do dataset, respectivamente\n",
    "print(\"train:= \", df_train.shape)"
   ]
  },
  {
   "cell_type": "code",
   "execution_count": 0,
   "metadata": {
    "colab": {
     "base_uri": "https://localhost:8080/",
     "height": 158
    },
    "colab_type": "code",
    "id": "p58oSkoS3f9M",
    "outputId": "299189a0-56b0-4540-bddc-82b84886d171"
   },
   "outputs": [
    {
     "data": {
      "text/plain": [
       "Index(['host_response_time', 'host_response_rate', 'host_neighbourhood',\n",
       "       'host_listings_count', 'neighbourhood', 'city', 'state', 'zipcode',\n",
       "       'latitude', 'longitude', 'property_type', 'room_type', 'accommodates',\n",
       "       'bathrooms', 'bedrooms', 'beds', 'bed_type', 'security_deposit',\n",
       "       'cleaning_fee', 'extra_people', 'minimum_nights', 'maximum_nights',\n",
       "       'number_of_reviews', 'review_scores_rating', 'reviews_per_month',\n",
       "       'price'],\n",
       "      dtype='object')"
      ]
     },
     "execution_count": 59,
     "metadata": {
      "tags": []
     },
     "output_type": "execute_result"
    }
   ],
   "source": [
    "df_train.columns"
   ]
  },
  {
   "cell_type": "markdown",
   "metadata": {
    "colab_type": "text",
    "id": "SuxYP1iU3YwW"
   },
   "source": [
    "O _dataset_ possui as seguintes colunas (total de 26 colunas):\n",
    "\n",
    "- **host_response_time**: tempo de resposta do host;\n",
    "- **host_response_rate**: a taxa de resposta do host;\n",
    "- **host_neighbourhood**: o bairro que o host se localiza;\n",
    "- **host_listings_count**: número de outras listagens que o host possui;\n",
    "- **neighbourhood**: o bairro no qual o espaço se localiza;\n",
    "- **city**: a cidade onde fica o espaço;\n",
    "- **state**: o estado em que o espaço fica;\n",
    "- **zipcode**: o código postal em que fica o espaço;\n",
    "- **latitude**: dimensão da latitude das coordenadas geográficas;\n",
    "- **longitude**: dimensão de longitude das coordenadas geográficas;\n",
    "- **property_type**: o tipo da propriedade;\n",
    "- **room_type**: o tipo de espaço de convivência;\n",
    "- **accommodates**: o número de pessoas que o aluguel pode acomodar;\n",
    "- **bathrooms**: número de banheiros incluídos no aluguel;\n",
    "- **bedrooms**: número de quartos incluídos no aluguel;\n",
    "- **beds**: número de camas incluídas no aluguel;\n",
    "- **bed_type**: o tipo da cama;\n",
    "- **security_deposit**: depósito reembolsável, em caso de danos;\n",
    "- **cleaning_fee**: taxa adicional usada para limpar o espaço após a saída do hóspede;\n",
    "- **extra_people**: taxa adicional para pessoas extras; \n",
    "- **minimum_nights**: número mínimo de noites que um hóspede pode ficar no aluguel;\n",
    "- **maximum_nights**: número máximo de noites que um hóspede pode ficar no aluguel;\n",
    "- **number_of_reviews**: número de comentários que os hóspedes anteriores deixaram;\n",
    "- **review_scores_rating**: pontuação do espaço;\n",
    "- **reviews_per_month**: quantidade de reviews que o espaço recebe por mês;\n",
    "- **price**: preço do aluguel."
   ]
  },
  {
   "cell_type": "markdown",
   "metadata": {
    "colab_type": "text",
    "id": "GjiRbq-yJudH"
   },
   "source": [
    "## Explorando o dataset\n",
    "Aqui iremos utilizar alguns métodos do pandas para conhecermos melhor o nosso _DataFrame_. Os métodos serão:\n",
    "- **[head](https://pandas.pydata.org/pandas-docs/stable/reference/api/pandas.DataFrame.head.html)**: mostra as primeiras _n_ linhas do nosso _dataset_. Por padrão serão as 5 primeiras linhas.\n",
    "- **[info](https://pandas.pydata.org/pandas-docs/stable/reference/api/pandas.DataFrame.info.html)**: imprime informações sobre o nosso _DataFrame_, incluindo o tipo de índice, os tipos de coluna, valores não nulos e uso de memória.\n",
    "\n",
    "- **[describe](https://pandas.pydata.org/pandas-docs/stable/reference/api/pandas.DataFrame.describe.html)**: mostra estatísticas descritivas sobre as colunas do nosso _DataFrame_, como: a tendência central, a dispersão e a forma da distribuição de um conjunto de dados."
   ]
  },
  {
   "cell_type": "code",
   "execution_count": 0,
   "metadata": {
    "colab": {
     "base_uri": "https://localhost:8080/",
     "height": 301
    },
    "colab_type": "code",
    "id": "NUsGfqE7Ly9C",
    "outputId": "21b5304e-e701-4ad1-fb7c-d554bd1019ad"
   },
   "outputs": [
    {
     "data": {
      "text/html": [
       "<div>\n",
       "<style scoped>\n",
       "    .dataframe tbody tr th:only-of-type {\n",
       "        vertical-align: middle;\n",
       "    }\n",
       "\n",
       "    .dataframe tbody tr th {\n",
       "        vertical-align: top;\n",
       "    }\n",
       "\n",
       "    .dataframe thead th {\n",
       "        text-align: right;\n",
       "    }\n",
       "</style>\n",
       "<table border=\"1\" class=\"dataframe\">\n",
       "  <thead>\n",
       "    <tr style=\"text-align: right;\">\n",
       "      <th></th>\n",
       "      <th>host_response_time</th>\n",
       "      <th>host_response_rate</th>\n",
       "      <th>host_neighbourhood</th>\n",
       "      <th>host_listings_count</th>\n",
       "      <th>neighbourhood</th>\n",
       "      <th>city</th>\n",
       "      <th>state</th>\n",
       "      <th>zipcode</th>\n",
       "      <th>latitude</th>\n",
       "      <th>longitude</th>\n",
       "      <th>property_type</th>\n",
       "      <th>room_type</th>\n",
       "      <th>accommodates</th>\n",
       "      <th>bathrooms</th>\n",
       "      <th>bedrooms</th>\n",
       "      <th>beds</th>\n",
       "      <th>bed_type</th>\n",
       "      <th>security_deposit</th>\n",
       "      <th>cleaning_fee</th>\n",
       "      <th>extra_people</th>\n",
       "      <th>minimum_nights</th>\n",
       "      <th>maximum_nights</th>\n",
       "      <th>number_of_reviews</th>\n",
       "      <th>review_scores_rating</th>\n",
       "      <th>reviews_per_month</th>\n",
       "      <th>price</th>\n",
       "    </tr>\n",
       "  </thead>\n",
       "  <tbody>\n",
       "    <tr>\n",
       "      <th>0</th>\n",
       "      <td>within an hour</td>\n",
       "      <td>84%</td>\n",
       "      <td>Ipanema</td>\n",
       "      <td>12.0</td>\n",
       "      <td>Ipanema</td>\n",
       "      <td>Rio De Janeiro</td>\n",
       "      <td>Rj</td>\n",
       "      <td>22411-002</td>\n",
       "      <td>-22.98262</td>\n",
       "      <td>-43.20720</td>\n",
       "      <td>Apartment</td>\n",
       "      <td>Entire home/apt</td>\n",
       "      <td>4</td>\n",
       "      <td>2.0</td>\n",
       "      <td>2.0</td>\n",
       "      <td>2.0</td>\n",
       "      <td>Real Bed</td>\n",
       "      <td>$500.00</td>\n",
       "      <td>$130.00</td>\n",
       "      <td>$23.00</td>\n",
       "      <td>2</td>\n",
       "      <td>1125</td>\n",
       "      <td>21</td>\n",
       "      <td>81.0</td>\n",
       "      <td>0.32</td>\n",
       "      <td>309.0</td>\n",
       "    </tr>\n",
       "    <tr>\n",
       "      <th>1</th>\n",
       "      <td>within a day</td>\n",
       "      <td>50%</td>\n",
       "      <td>Barra da Tijuca</td>\n",
       "      <td>1.0</td>\n",
       "      <td>Barra da Tijuca</td>\n",
       "      <td>Barra da Tijuca</td>\n",
       "      <td>Rio de Janeiro</td>\n",
       "      <td>22630-010</td>\n",
       "      <td>-23.01124</td>\n",
       "      <td>-43.32676</td>\n",
       "      <td>Apartment</td>\n",
       "      <td>Entire home/apt</td>\n",
       "      <td>2</td>\n",
       "      <td>1.0</td>\n",
       "      <td>1.0</td>\n",
       "      <td>1.0</td>\n",
       "      <td>Real Bed</td>\n",
       "      <td>NaN</td>\n",
       "      <td>NaN</td>\n",
       "      <td>$0.00</td>\n",
       "      <td>1</td>\n",
       "      <td>1125</td>\n",
       "      <td>5</td>\n",
       "      <td>88.0</td>\n",
       "      <td>1.15</td>\n",
       "      <td>351.0</td>\n",
       "    </tr>\n",
       "    <tr>\n",
       "      <th>2</th>\n",
       "      <td>within an hour</td>\n",
       "      <td>99%</td>\n",
       "      <td>Ipanema</td>\n",
       "      <td>340.0</td>\n",
       "      <td>Copacabana</td>\n",
       "      <td>Copacabana</td>\n",
       "      <td>Rio de Janeiro</td>\n",
       "      <td>22081-010</td>\n",
       "      <td>-22.98264</td>\n",
       "      <td>-43.19115</td>\n",
       "      <td>Apartment</td>\n",
       "      <td>Entire home/apt</td>\n",
       "      <td>8</td>\n",
       "      <td>3.5</td>\n",
       "      <td>3.0</td>\n",
       "      <td>7.0</td>\n",
       "      <td>Real Bed</td>\n",
       "      <td>$1,000.00</td>\n",
       "      <td>$190.00</td>\n",
       "      <td>$48.00</td>\n",
       "      <td>4</td>\n",
       "      <td>1125</td>\n",
       "      <td>1</td>\n",
       "      <td>100.0</td>\n",
       "      <td>0.06</td>\n",
       "      <td>398.0</td>\n",
       "    </tr>\n",
       "    <tr>\n",
       "      <th>3</th>\n",
       "      <td>within a few hours</td>\n",
       "      <td>100%</td>\n",
       "      <td>Lagoa</td>\n",
       "      <td>7.0</td>\n",
       "      <td>Lagoa</td>\n",
       "      <td>Rio de Janeiro</td>\n",
       "      <td>Rio de Janeiro</td>\n",
       "      <td>22061</td>\n",
       "      <td>-22.97651</td>\n",
       "      <td>-43.19890</td>\n",
       "      <td>Apartment</td>\n",
       "      <td>Entire home/apt</td>\n",
       "      <td>10</td>\n",
       "      <td>3.0</td>\n",
       "      <td>3.0</td>\n",
       "      <td>6.0</td>\n",
       "      <td>Real Bed</td>\n",
       "      <td>$1,972.00</td>\n",
       "      <td>$498.00</td>\n",
       "      <td>$174.00</td>\n",
       "      <td>3</td>\n",
       "      <td>120</td>\n",
       "      <td>7</td>\n",
       "      <td>94.0</td>\n",
       "      <td>0.13</td>\n",
       "      <td>849.0</td>\n",
       "    </tr>\n",
       "    <tr>\n",
       "      <th>4</th>\n",
       "      <td>within a day</td>\n",
       "      <td>75%</td>\n",
       "      <td>Joá</td>\n",
       "      <td>4.0</td>\n",
       "      <td>Joá</td>\n",
       "      <td>Rio de Janeiro</td>\n",
       "      <td>RJ</td>\n",
       "      <td>22611-021</td>\n",
       "      <td>-23.00995</td>\n",
       "      <td>-43.28959</td>\n",
       "      <td>House</td>\n",
       "      <td>Entire home/apt</td>\n",
       "      <td>2</td>\n",
       "      <td>1.5</td>\n",
       "      <td>1.0</td>\n",
       "      <td>2.0</td>\n",
       "      <td>Real Bed</td>\n",
       "      <td>NaN</td>\n",
       "      <td>NaN</td>\n",
       "      <td>$100.00</td>\n",
       "      <td>2</td>\n",
       "      <td>9</td>\n",
       "      <td>1</td>\n",
       "      <td>100.0</td>\n",
       "      <td>0.09</td>\n",
       "      <td>70.0</td>\n",
       "    </tr>\n",
       "  </tbody>\n",
       "</table>\n",
       "</div>"
      ],
      "text/plain": [
       "   host_response_time host_response_rate  ... reviews_per_month  price\n",
       "0      within an hour                84%  ...              0.32  309.0\n",
       "1        within a day                50%  ...              1.15  351.0\n",
       "2      within an hour                99%  ...              0.06  398.0\n",
       "3  within a few hours               100%  ...              0.13  849.0\n",
       "4        within a day                75%  ...              0.09   70.0\n",
       "\n",
       "[5 rows x 26 columns]"
      ]
     },
     "execution_count": 60,
     "metadata": {
      "tags": []
     },
     "output_type": "execute_result"
    }
   ],
   "source": [
    "# Verificando as primeiras 5 linhas do nosso DataFrame\n",
    "df_train.head()"
   ]
  },
  {
   "cell_type": "code",
   "execution_count": 0,
   "metadata": {
    "colab": {
     "base_uri": "https://localhost:8080/",
     "height": 567
    },
    "colab_type": "code",
    "id": "dBUjOXA7Ly_f",
    "outputId": "be6d9063-57a5-40d4-a7b4-3ce6299f8f91"
   },
   "outputs": [
    {
     "name": "stdout",
     "output_type": "stream",
     "text": [
      "<class 'pandas.core.frame.DataFrame'>\n",
      "RangeIndex: 9000 entries, 0 to 8999\n",
      "Data columns (total 26 columns):\n",
      "host_response_time      6489 non-null object\n",
      "host_response_rate      6489 non-null object\n",
      "host_neighbourhood      6344 non-null object\n",
      "host_listings_count     8997 non-null float64\n",
      "neighbourhood           8748 non-null object\n",
      "city                    8988 non-null object\n",
      "state                   8990 non-null object\n",
      "zipcode                 8603 non-null object\n",
      "latitude                9000 non-null float64\n",
      "longitude               9000 non-null float64\n",
      "property_type           9000 non-null object\n",
      "room_type               9000 non-null object\n",
      "accommodates            9000 non-null int64\n",
      "bathrooms               8984 non-null float64\n",
      "bedrooms                8995 non-null float64\n",
      "beds                    8994 non-null float64\n",
      "bed_type                9000 non-null object\n",
      "security_deposit        5999 non-null object\n",
      "cleaning_fee            7254 non-null object\n",
      "extra_people            9000 non-null object\n",
      "minimum_nights          9000 non-null int64\n",
      "maximum_nights          9000 non-null int64\n",
      "number_of_reviews       9000 non-null int64\n",
      "review_scores_rating    9000 non-null float64\n",
      "reviews_per_month       8999 non-null float64\n",
      "price                   9000 non-null float64\n",
      "dtypes: float64(9), int64(4), object(13)\n",
      "memory usage: 1.8+ MB\n"
     ]
    }
   ],
   "source": [
    "# Mais informações sobre o DataFrame\n",
    "df_train.info()"
   ]
  },
  {
   "cell_type": "code",
   "execution_count": 0,
   "metadata": {
    "colab": {
     "base_uri": "https://localhost:8080/",
     "height": 307
    },
    "colab_type": "code",
    "id": "KQu2C0PZLzB3",
    "outputId": "c0449328-c3f2-46d0-a185-2a5d6e8fc2d2"
   },
   "outputs": [
    {
     "data": {
      "text/html": [
       "<div>\n",
       "<style scoped>\n",
       "    .dataframe tbody tr th:only-of-type {\n",
       "        vertical-align: middle;\n",
       "    }\n",
       "\n",
       "    .dataframe tbody tr th {\n",
       "        vertical-align: top;\n",
       "    }\n",
       "\n",
       "    .dataframe thead th {\n",
       "        text-align: right;\n",
       "    }\n",
       "</style>\n",
       "<table border=\"1\" class=\"dataframe\">\n",
       "  <thead>\n",
       "    <tr style=\"text-align: right;\">\n",
       "      <th></th>\n",
       "      <th>host_listings_count</th>\n",
       "      <th>latitude</th>\n",
       "      <th>longitude</th>\n",
       "      <th>accommodates</th>\n",
       "      <th>bathrooms</th>\n",
       "      <th>bedrooms</th>\n",
       "      <th>beds</th>\n",
       "      <th>minimum_nights</th>\n",
       "      <th>maximum_nights</th>\n",
       "      <th>number_of_reviews</th>\n",
       "      <th>review_scores_rating</th>\n",
       "      <th>reviews_per_month</th>\n",
       "      <th>price</th>\n",
       "    </tr>\n",
       "  </thead>\n",
       "  <tbody>\n",
       "    <tr>\n",
       "      <th>count</th>\n",
       "      <td>8997.000000</td>\n",
       "      <td>9000.000000</td>\n",
       "      <td>9000.000000</td>\n",
       "      <td>9000.000000</td>\n",
       "      <td>8984.000000</td>\n",
       "      <td>8995.000000</td>\n",
       "      <td>8994.000000</td>\n",
       "      <td>9000.000000</td>\n",
       "      <td>9000.000000</td>\n",
       "      <td>9000.000000</td>\n",
       "      <td>9000.000000</td>\n",
       "      <td>8999.000000</td>\n",
       "      <td>9000.000000</td>\n",
       "    </tr>\n",
       "    <tr>\n",
       "      <th>mean</th>\n",
       "      <td>9.105591</td>\n",
       "      <td>-22.966473</td>\n",
       "      <td>-43.233905</td>\n",
       "      <td>3.980111</td>\n",
       "      <td>1.563947</td>\n",
       "      <td>1.514619</td>\n",
       "      <td>2.500334</td>\n",
       "      <td>3.587556</td>\n",
       "      <td>661.760444</td>\n",
       "      <td>15.352000</td>\n",
       "      <td>94.323333</td>\n",
       "      <td>0.610770</td>\n",
       "      <td>367.890000</td>\n",
       "    </tr>\n",
       "    <tr>\n",
       "      <th>std</th>\n",
       "      <td>37.763230</td>\n",
       "      <td>0.031795</td>\n",
       "      <td>0.083452</td>\n",
       "      <td>2.267514</td>\n",
       "      <td>0.855437</td>\n",
       "      <td>0.963927</td>\n",
       "      <td>1.891312</td>\n",
       "      <td>17.968985</td>\n",
       "      <td>1584.354138</td>\n",
       "      <td>28.800757</td>\n",
       "      <td>9.774358</td>\n",
       "      <td>0.827369</td>\n",
       "      <td>966.137214</td>\n",
       "    </tr>\n",
       "    <tr>\n",
       "      <th>min</th>\n",
       "      <td>0.000000</td>\n",
       "      <td>-23.072620</td>\n",
       "      <td>-43.706640</td>\n",
       "      <td>1.000000</td>\n",
       "      <td>0.000000</td>\n",
       "      <td>0.000000</td>\n",
       "      <td>0.000000</td>\n",
       "      <td>1.000000</td>\n",
       "      <td>1.000000</td>\n",
       "      <td>0.000000</td>\n",
       "      <td>20.000000</td>\n",
       "      <td>0.010000</td>\n",
       "      <td>0.000000</td>\n",
       "    </tr>\n",
       "    <tr>\n",
       "      <th>25%</th>\n",
       "      <td>1.000000</td>\n",
       "      <td>-22.984172</td>\n",
       "      <td>-43.230123</td>\n",
       "      <td>2.000000</td>\n",
       "      <td>1.000000</td>\n",
       "      <td>1.000000</td>\n",
       "      <td>1.000000</td>\n",
       "      <td>2.000000</td>\n",
       "      <td>30.000000</td>\n",
       "      <td>2.000000</td>\n",
       "      <td>93.000000</td>\n",
       "      <td>0.100000</td>\n",
       "      <td>131.000000</td>\n",
       "    </tr>\n",
       "    <tr>\n",
       "      <th>50%</th>\n",
       "      <td>2.000000</td>\n",
       "      <td>-22.971590</td>\n",
       "      <td>-43.193475</td>\n",
       "      <td>4.000000</td>\n",
       "      <td>1.000000</td>\n",
       "      <td>1.000000</td>\n",
       "      <td>2.000000</td>\n",
       "      <td>2.000000</td>\n",
       "      <td>1125.000000</td>\n",
       "      <td>4.000000</td>\n",
       "      <td>98.000000</td>\n",
       "      <td>0.280000</td>\n",
       "      <td>208.000000</td>\n",
       "    </tr>\n",
       "    <tr>\n",
       "      <th>75%</th>\n",
       "      <td>3.000000</td>\n",
       "      <td>-22.953230</td>\n",
       "      <td>-43.184848</td>\n",
       "      <td>5.000000</td>\n",
       "      <td>2.000000</td>\n",
       "      <td>2.000000</td>\n",
       "      <td>3.000000</td>\n",
       "      <td>3.000000</td>\n",
       "      <td>1125.000000</td>\n",
       "      <td>14.000000</td>\n",
       "      <td>100.000000</td>\n",
       "      <td>0.770000</td>\n",
       "      <td>374.000000</td>\n",
       "    </tr>\n",
       "    <tr>\n",
       "      <th>max</th>\n",
       "      <td>340.000000</td>\n",
       "      <td>-22.751700</td>\n",
       "      <td>-43.104620</td>\n",
       "      <td>16.000000</td>\n",
       "      <td>9.000000</td>\n",
       "      <td>13.000000</td>\n",
       "      <td>30.000000</td>\n",
       "      <td>1095.000000</td>\n",
       "      <td>99999.000000</td>\n",
       "      <td>341.000000</td>\n",
       "      <td>100.000000</td>\n",
       "      <td>8.280000</td>\n",
       "      <td>35501.000000</td>\n",
       "    </tr>\n",
       "  </tbody>\n",
       "</table>\n",
       "</div>"
      ],
      "text/plain": [
       "       host_listings_count     latitude  ...  reviews_per_month         price\n",
       "count          8997.000000  9000.000000  ...        8999.000000   9000.000000\n",
       "mean              9.105591   -22.966473  ...           0.610770    367.890000\n",
       "std              37.763230     0.031795  ...           0.827369    966.137214\n",
       "min               0.000000   -23.072620  ...           0.010000      0.000000\n",
       "25%               1.000000   -22.984172  ...           0.100000    131.000000\n",
       "50%               2.000000   -22.971590  ...           0.280000    208.000000\n",
       "75%               3.000000   -22.953230  ...           0.770000    374.000000\n",
       "max             340.000000   -22.751700  ...           8.280000  35501.000000\n",
       "\n",
       "[8 rows x 13 columns]"
      ]
     },
     "execution_count": 62,
     "metadata": {
      "tags": []
     },
     "output_type": "execute_result"
    }
   ],
   "source": [
    "# Verificando detalhes estatísticos do DataFrame\n",
    "df_train.describe()  "
   ]
  },
  {
   "cell_type": "markdown",
   "metadata": {
    "colab_type": "text",
    "id": "M7rMbuImJufn"
   },
   "source": [
    "# Limpando, preparando e manipulando os dados\n",
    "Nessa etapa, iremos realizar o processo de limpeza, preparação e manipulação dos dados do nosso _DataFrame_. Nesse primeiro momento temos que decidir quais as colunas que iremos usar no nosso modelo. Para isso iremos verificar as correlações das colunas com a coluna _price_ usando:\n",
    "- **[corr](https://pandas.pydata.org/pandas-docs/stable/reference/api/pandas.DataFrame.corr.html)**: calcula a correlação entre todas as colunas. Usaremos o parâmetro **method** para especificar o método que iremos usar para calcular a correlação.\n",
    "- **[sort_values](https://pandas.pydata.org/pandas-docs/stable/reference/api/pandas.Series.sort_values.html)**: ordena os valores."
   ]
  },
  {
   "cell_type": "code",
   "execution_count": 0,
   "metadata": {
    "colab": {
     "base_uri": "https://localhost:8080/",
     "height": 265
    },
    "colab_type": "code",
    "id": "jQy5TKq3M6L_",
    "outputId": "5005f3c7-28f3-46c4-8a37-de7b45b2347c"
   },
   "outputs": [
    {
     "name": "stdout",
     "output_type": "stream",
     "text": [
      "latitude               -0.079550\n",
      "reviews_per_month      -0.077585\n",
      "number_of_reviews      -0.051673\n",
      "longitude              -0.016096\n",
      "maximum_nights          0.007182\n",
      "host_listings_count     0.021250\n",
      "review_scores_rating    0.028816\n",
      "minimum_nights          0.061752\n",
      "beds                    0.157388\n",
      "accommodates            0.201935\n",
      "bedrooms                0.236029\n",
      "bathrooms               0.242736\n",
      "price                   1.000000\n",
      "Name: price, dtype: float64\n"
     ]
    }
   ],
   "source": [
    "# Usamos a correlação de Pearson e ordenamos os valores\n",
    "columns_corr = df_train.corr(method='pearson')['price'].sort_values()\n",
    "print(columns_corr)"
   ]
  },
  {
   "cell_type": "markdown",
   "metadata": {
    "colab_type": "text",
    "id": "Q2CGzw69zx5U"
   },
   "source": [
    "## Filtrando as colunas que queremos\n",
    "Após verificarmos a correlação das colunas entre si, iremos selecionar as 5 melhores colunas mais a coluna _price_."
   ]
  },
  {
   "cell_type": "code",
   "execution_count": 0,
   "metadata": {
    "colab": {
     "base_uri": "https://localhost:8080/",
     "height": 34
    },
    "colab_type": "code",
    "id": "UztEm96ezx_u",
    "outputId": "12f09ccb-7caa-439c-8d15-971eaa2c0e6b"
   },
   "outputs": [
    {
     "name": "stdout",
     "output_type": "stream",
     "text": [
      "['minimum_nights', 'beds', 'accommodates', 'bedrooms', 'bathrooms', 'price']\n"
     ]
    }
   ],
   "source": [
    "# Colunas do DataFrame que iremos usar\n",
    "target_cols = columns_corr[-6:].index.tolist()\n",
    "print(target_cols)"
   ]
  },
  {
   "cell_type": "code",
   "execution_count": 0,
   "metadata": {
    "colab": {
     "base_uri": "https://localhost:8080/",
     "height": 34
    },
    "colab_type": "code",
    "id": "Xkw2Rni4NIim",
    "outputId": "662815dc-06b5-4ecc-f5d7-0d3a3b118b40"
   },
   "outputs": [
    {
     "name": "stdout",
     "output_type": "stream",
     "text": [
      "(9000, 6)\n"
     ]
    }
   ],
   "source": [
    "# Filtramos o DataFrame para apenas as colunas que queremos usar\n",
    "clean_train = df_train[target_cols]\n",
    "# Mostramos as dimensões do DataFrame\n",
    "print(clean_train.shape)"
   ]
  },
  {
   "cell_type": "code",
   "execution_count": 0,
   "metadata": {
    "colab": {
     "base_uri": "https://localhost:8080/",
     "height": 212
    },
    "colab_type": "code",
    "id": "ToKV3kZpNWqA",
    "outputId": "f25051d9-813d-411c-f40c-42c70b1f618d"
   },
   "outputs": [
    {
     "name": "stdout",
     "output_type": "stream",
     "text": [
      "<class 'pandas.core.frame.DataFrame'>\n",
      "RangeIndex: 9000 entries, 0 to 8999\n",
      "Data columns (total 6 columns):\n",
      "minimum_nights    9000 non-null int64\n",
      "beds              8994 non-null float64\n",
      "accommodates      9000 non-null int64\n",
      "bedrooms          8995 non-null float64\n",
      "bathrooms         8984 non-null float64\n",
      "price             9000 non-null float64\n",
      "dtypes: float64(4), int64(2)\n",
      "memory usage: 422.0 KB\n"
     ]
    }
   ],
   "source": [
    "# Algumas informações sobre o DataFrame\n",
    "clean_train.info()"
   ]
  },
  {
   "cell_type": "markdown",
   "metadata": {
    "colab_type": "text",
    "id": "XAaqBEioJujw"
   },
   "source": [
    "## Tratando os valores nulos\n",
    "Anteriormente podemos notar que as colunas **beds**, **bedrooms** e **bathrooms** possuem valores nulos, portanto agora iremos adicionar a média dos valores da coluna em cada célula NA."
   ]
  },
  {
   "cell_type": "code",
   "execution_count": 0,
   "metadata": {
    "colab": {},
    "colab_type": "code",
    "id": "FnuzDaC8O3hb"
   },
   "outputs": [],
   "source": [
    "# Colunas que iremos preencher os valores NA com a média\n",
    "fillna_mean = ['beds', 'bedrooms', 'bathrooms']"
   ]
  },
  {
   "cell_type": "markdown",
   "metadata": {
    "colab_type": "text",
    "id": "j9vdX4S-PoE-"
   },
   "source": [
    "Para realizarmos a operação de adicionarmos a média em cada campo nulo, iremos utilizar duas funções:\n",
    "- **[fillna](https://pandas.pydata.org/pandas-docs/stable/reference/api/pandas.DataFrame.fillna.html)**: preenche os valores de NA/NaN na coluna. Iremos especificar o valor que queremos aplicar nesses campos com o parâmetro **value**. O parâmetro **inplace** indica que não queremos retornar um novo _DataFrame_, que é para preencher o _DataFrame_ local.\n",
    "- **[mean](https://pandas.pydata.org/pandas-docs/stable/reference/api/pandas.DataFrame.mean.html)**: retorna a média dos valores."
   ]
  },
  {
   "cell_type": "code",
   "execution_count": 0,
   "metadata": {
    "colab": {
     "base_uri": "https://localhost:8080/",
     "height": 105
    },
    "colab_type": "code",
    "id": "uNqgsX5ZNbLg",
    "outputId": "ee89da77-c540-4378-dce4-b2034a0dfb8e"
   },
   "outputs": [
    {
     "name": "stderr",
     "output_type": "stream",
     "text": [
      "/usr/local/lib/python3.6/dist-packages/pandas/core/generic.py:6130: SettingWithCopyWarning: \n",
      "A value is trying to be set on a copy of a slice from a DataFrame\n",
      "\n",
      "See the caveats in the documentation: http://pandas.pydata.org/pandas-docs/stable/indexing.html#indexing-view-versus-copy\n",
      "  self._update_inplace(new_data)\n"
     ]
    }
   ],
   "source": [
    "# Adicionamos as médias em cada campo NA/NaN\n",
    "for col in fillna_mean:\n",
    "  clean_train[col].fillna(\n",
    "      value=clean_train[col].mean(),\n",
    "      inplace=True\n",
    "  )"
   ]
  },
  {
   "cell_type": "code",
   "execution_count": 0,
   "metadata": {
    "colab": {
     "base_uri": "https://localhost:8080/",
     "height": 212
    },
    "colab_type": "code",
    "id": "9FudpmyQOHr3",
    "outputId": "e0da848d-5fd9-4a54-e4fa-7c8de8c03d83"
   },
   "outputs": [
    {
     "name": "stdout",
     "output_type": "stream",
     "text": [
      "<class 'pandas.core.frame.DataFrame'>\n",
      "RangeIndex: 9000 entries, 0 to 8999\n",
      "Data columns (total 6 columns):\n",
      "minimum_nights    9000 non-null int64\n",
      "beds              9000 non-null float64\n",
      "accommodates      9000 non-null int64\n",
      "bedrooms          9000 non-null float64\n",
      "bathrooms         9000 non-null float64\n",
      "price             9000 non-null float64\n",
      "dtypes: float64(4), int64(2)\n",
      "memory usage: 422.0 KB\n"
     ]
    }
   ],
   "source": [
    "clean_train.info()"
   ]
  },
  {
   "cell_type": "code",
   "execution_count": 0,
   "metadata": {
    "colab": {
     "base_uri": "https://localhost:8080/",
     "height": 287
    },
    "colab_type": "code",
    "id": "Tg-h4w76NhCg",
    "outputId": "41e198c5-f5a0-4e31-d78b-af0b6ce10128"
   },
   "outputs": [
    {
     "data": {
      "text/html": [
       "<div>\n",
       "<style scoped>\n",
       "    .dataframe tbody tr th:only-of-type {\n",
       "        vertical-align: middle;\n",
       "    }\n",
       "\n",
       "    .dataframe tbody tr th {\n",
       "        vertical-align: top;\n",
       "    }\n",
       "\n",
       "    .dataframe thead th {\n",
       "        text-align: right;\n",
       "    }\n",
       "</style>\n",
       "<table border=\"1\" class=\"dataframe\">\n",
       "  <thead>\n",
       "    <tr style=\"text-align: right;\">\n",
       "      <th></th>\n",
       "      <th>minimum_nights</th>\n",
       "      <th>beds</th>\n",
       "      <th>accommodates</th>\n",
       "      <th>bedrooms</th>\n",
       "      <th>bathrooms</th>\n",
       "      <th>price</th>\n",
       "    </tr>\n",
       "  </thead>\n",
       "  <tbody>\n",
       "    <tr>\n",
       "      <th>count</th>\n",
       "      <td>9000.000000</td>\n",
       "      <td>9000.000000</td>\n",
       "      <td>9000.000000</td>\n",
       "      <td>9000.000000</td>\n",
       "      <td>9000.000000</td>\n",
       "      <td>9000.000000</td>\n",
       "    </tr>\n",
       "    <tr>\n",
       "      <th>mean</th>\n",
       "      <td>3.587556</td>\n",
       "      <td>2.500334</td>\n",
       "      <td>3.980111</td>\n",
       "      <td>1.514619</td>\n",
       "      <td>1.563947</td>\n",
       "      <td>367.890000</td>\n",
       "    </tr>\n",
       "    <tr>\n",
       "      <th>std</th>\n",
       "      <td>17.968985</td>\n",
       "      <td>1.890681</td>\n",
       "      <td>2.267514</td>\n",
       "      <td>0.963659</td>\n",
       "      <td>0.854676</td>\n",
       "      <td>966.137214</td>\n",
       "    </tr>\n",
       "    <tr>\n",
       "      <th>min</th>\n",
       "      <td>1.000000</td>\n",
       "      <td>0.000000</td>\n",
       "      <td>1.000000</td>\n",
       "      <td>0.000000</td>\n",
       "      <td>0.000000</td>\n",
       "      <td>0.000000</td>\n",
       "    </tr>\n",
       "    <tr>\n",
       "      <th>25%</th>\n",
       "      <td>2.000000</td>\n",
       "      <td>1.000000</td>\n",
       "      <td>2.000000</td>\n",
       "      <td>1.000000</td>\n",
       "      <td>1.000000</td>\n",
       "      <td>131.000000</td>\n",
       "    </tr>\n",
       "    <tr>\n",
       "      <th>50%</th>\n",
       "      <td>2.000000</td>\n",
       "      <td>2.000000</td>\n",
       "      <td>4.000000</td>\n",
       "      <td>1.000000</td>\n",
       "      <td>1.000000</td>\n",
       "      <td>208.000000</td>\n",
       "    </tr>\n",
       "    <tr>\n",
       "      <th>75%</th>\n",
       "      <td>3.000000</td>\n",
       "      <td>3.000000</td>\n",
       "      <td>5.000000</td>\n",
       "      <td>2.000000</td>\n",
       "      <td>2.000000</td>\n",
       "      <td>374.000000</td>\n",
       "    </tr>\n",
       "    <tr>\n",
       "      <th>max</th>\n",
       "      <td>1095.000000</td>\n",
       "      <td>30.000000</td>\n",
       "      <td>16.000000</td>\n",
       "      <td>13.000000</td>\n",
       "      <td>9.000000</td>\n",
       "      <td>35501.000000</td>\n",
       "    </tr>\n",
       "  </tbody>\n",
       "</table>\n",
       "</div>"
      ],
      "text/plain": [
       "       minimum_nights         beds  ...    bathrooms         price\n",
       "count     9000.000000  9000.000000  ...  9000.000000   9000.000000\n",
       "mean         3.587556     2.500334  ...     1.563947    367.890000\n",
       "std         17.968985     1.890681  ...     0.854676    966.137214\n",
       "min          1.000000     0.000000  ...     0.000000      0.000000\n",
       "25%          2.000000     1.000000  ...     1.000000    131.000000\n",
       "50%          2.000000     2.000000  ...     1.000000    208.000000\n",
       "75%          3.000000     3.000000  ...     2.000000    374.000000\n",
       "max       1095.000000    30.000000  ...     9.000000  35501.000000\n",
       "\n",
       "[8 rows x 6 columns]"
      ]
     },
     "execution_count": 70,
     "metadata": {
      "tags": []
     },
     "output_type": "execute_result"
    }
   ],
   "source": [
    "# Verificando a alteração dos valores nas estatísticas descritivas\n",
    "clean_train.describe()"
   ]
  },
  {
   "cell_type": "markdown",
   "metadata": {
    "colab_type": "text",
    "id": "MqlVrNFFOj54"
   },
   "source": [
    "**Observações**:\n",
    "- Todos os valores de **count** agora são 9000;\n",
    "- A média (**mean**) permaneceu o mesmo valor, o que já era esperado;\n",
    "- Os valores de **std** nas colunas **bathrooms**, **bedrooms** e **beds** diminuiram um pouco, o que já era esperado."
   ]
  },
  {
   "cell_type": "markdown",
   "metadata": {
    "colab_type": "text",
    "id": "8tdu-xyowBAB"
   },
   "source": [
    "## Normalização\n",
    "Como o algoritmo **KNeighborsRegressor** funciona melhor se todos os dados estiverem na mesma escala. Portanto iremos normalizar os dados para o intervalo [0, 1]. Para isso iremos usar:\n",
    "- **[MinMaxScaler](https://scikit-learn.org/stable/modules/generated/sklearn.preprocessing.MinMaxScaler.html)**: transforma os dados para valores em um determinado intervalo. Por padrão é o intervalo que queremos: [0, 1]."
   ]
  },
  {
   "cell_type": "code",
   "execution_count": 0,
   "metadata": {
    "colab": {},
    "colab_type": "code",
    "id": "0MiF2LVzBpd1"
   },
   "outputs": [],
   "source": [
    "from sklearn.preprocessing import MinMaxScaler"
   ]
  },
  {
   "cell_type": "code",
   "execution_count": 0,
   "metadata": {
    "colab": {},
    "colab_type": "code",
    "id": "fAGvYy3OBOAt"
   },
   "outputs": [],
   "source": [
    "# Normalizando os dados\n",
    "normalized_train = MinMaxScaler().fit_transform(clean_train.values)\n",
    "# Criamos um novo DataFrame com os dados normalizados\n",
    "normalized_train = pd.DataFrame(normalized_train, columns=clean_train.columns)\n",
    "# Colocamos a coluna de preço para o seu valor real\n",
    "normalized_train['price'] = clean_train['price']"
   ]
  },
  {
   "cell_type": "code",
   "execution_count": 0,
   "metadata": {
    "colab": {
     "base_uri": "https://localhost:8080/",
     "height": 287
    },
    "colab_type": "code",
    "id": "P4PUMv_HB6v9",
    "outputId": "bd2f83ab-df55-4c0f-f3b0-e96e07ba9476"
   },
   "outputs": [
    {
     "data": {
      "text/html": [
       "<div>\n",
       "<style scoped>\n",
       "    .dataframe tbody tr th:only-of-type {\n",
       "        vertical-align: middle;\n",
       "    }\n",
       "\n",
       "    .dataframe tbody tr th {\n",
       "        vertical-align: top;\n",
       "    }\n",
       "\n",
       "    .dataframe thead th {\n",
       "        text-align: right;\n",
       "    }\n",
       "</style>\n",
       "<table border=\"1\" class=\"dataframe\">\n",
       "  <thead>\n",
       "    <tr style=\"text-align: right;\">\n",
       "      <th></th>\n",
       "      <th>minimum_nights</th>\n",
       "      <th>beds</th>\n",
       "      <th>accommodates</th>\n",
       "      <th>bedrooms</th>\n",
       "      <th>bathrooms</th>\n",
       "      <th>price</th>\n",
       "    </tr>\n",
       "  </thead>\n",
       "  <tbody>\n",
       "    <tr>\n",
       "      <th>count</th>\n",
       "      <td>9000.000000</td>\n",
       "      <td>9000.000000</td>\n",
       "      <td>9000.000000</td>\n",
       "      <td>9000.000000</td>\n",
       "      <td>9000.000000</td>\n",
       "      <td>9000.000000</td>\n",
       "    </tr>\n",
       "    <tr>\n",
       "      <th>mean</th>\n",
       "      <td>0.002365</td>\n",
       "      <td>0.083344</td>\n",
       "      <td>0.198674</td>\n",
       "      <td>0.116509</td>\n",
       "      <td>0.173772</td>\n",
       "      <td>367.890000</td>\n",
       "    </tr>\n",
       "    <tr>\n",
       "      <th>std</th>\n",
       "      <td>0.016425</td>\n",
       "      <td>0.063023</td>\n",
       "      <td>0.151168</td>\n",
       "      <td>0.074128</td>\n",
       "      <td>0.094964</td>\n",
       "      <td>966.137214</td>\n",
       "    </tr>\n",
       "    <tr>\n",
       "      <th>min</th>\n",
       "      <td>0.000000</td>\n",
       "      <td>0.000000</td>\n",
       "      <td>0.000000</td>\n",
       "      <td>0.000000</td>\n",
       "      <td>0.000000</td>\n",
       "      <td>0.000000</td>\n",
       "    </tr>\n",
       "    <tr>\n",
       "      <th>25%</th>\n",
       "      <td>0.000914</td>\n",
       "      <td>0.033333</td>\n",
       "      <td>0.066667</td>\n",
       "      <td>0.076923</td>\n",
       "      <td>0.111111</td>\n",
       "      <td>131.000000</td>\n",
       "    </tr>\n",
       "    <tr>\n",
       "      <th>50%</th>\n",
       "      <td>0.000914</td>\n",
       "      <td>0.066667</td>\n",
       "      <td>0.200000</td>\n",
       "      <td>0.076923</td>\n",
       "      <td>0.111111</td>\n",
       "      <td>208.000000</td>\n",
       "    </tr>\n",
       "    <tr>\n",
       "      <th>75%</th>\n",
       "      <td>0.001828</td>\n",
       "      <td>0.100000</td>\n",
       "      <td>0.266667</td>\n",
       "      <td>0.153846</td>\n",
       "      <td>0.222222</td>\n",
       "      <td>374.000000</td>\n",
       "    </tr>\n",
       "    <tr>\n",
       "      <th>max</th>\n",
       "      <td>1.000000</td>\n",
       "      <td>1.000000</td>\n",
       "      <td>1.000000</td>\n",
       "      <td>1.000000</td>\n",
       "      <td>1.000000</td>\n",
       "      <td>35501.000000</td>\n",
       "    </tr>\n",
       "  </tbody>\n",
       "</table>\n",
       "</div>"
      ],
      "text/plain": [
       "       minimum_nights         beds  ...    bathrooms         price\n",
       "count     9000.000000  9000.000000  ...  9000.000000   9000.000000\n",
       "mean         0.002365     0.083344  ...     0.173772    367.890000\n",
       "std          0.016425     0.063023  ...     0.094964    966.137214\n",
       "min          0.000000     0.000000  ...     0.000000      0.000000\n",
       "25%          0.000914     0.033333  ...     0.111111    131.000000\n",
       "50%          0.000914     0.066667  ...     0.111111    208.000000\n",
       "75%          0.001828     0.100000  ...     0.222222    374.000000\n",
       "max          1.000000     1.000000  ...     1.000000  35501.000000\n",
       "\n",
       "[8 rows x 6 columns]"
      ]
     },
     "execution_count": 73,
     "metadata": {
      "tags": []
     },
     "output_type": "execute_result"
    }
   ],
   "source": [
    "# Verificamos as estatísticas descritivas do nosso novo DataFrame\n",
    "normalized_train.describe()"
   ]
  },
  {
   "cell_type": "markdown",
   "metadata": {
    "colab_type": "text",
    "id": "Vxcav5oEQdUo"
   },
   "source": [
    "## Outliers\n",
    "Um _outlier_ é um valor que foge da normalidade dos dados que está inserido, podendo causar anomalias nos resultados obtidos nas análises e modelos treinados. Também são conhecidos como \"pontos fora da curva\".\n",
    "\n",
    "Para realizarmos uma exploração inicial dos dados para identificar a existência de _outliers_, iremos usar:\n",
    "- **[matplotlib](https://matplotlib.org/)**: é uma biblioteca de plotagem de gráficos.\n",
    "- **[seaborn](https://seaborn.pydata.org/)**: é uma biblioteca de visualização de dados baseada no matplotlib. Ele fornece uma interface de alto nível para desenhar gráficos estatísticos atraentes e informativos."
   ]
  },
  {
   "cell_type": "code",
   "execution_count": 0,
   "metadata": {
    "colab": {},
    "colab_type": "code",
    "id": "0D3Je0EgBJ7H"
   },
   "outputs": [],
   "source": [
    "# Visualização\n",
    "import matplotlib.pyplot as plt\n",
    "import seaborn as sns"
   ]
  },
  {
   "cell_type": "markdown",
   "metadata": {
    "colab_type": "text",
    "id": "bMLeGVHc8a2_"
   },
   "source": [
    "Iremos criar uma função chamada `print_eda` que irá nos mostrar alguns gráficos e valores que irão nos ajudar na etapa de exploração e identificação de _outliers_."
   ]
  },
  {
   "cell_type": "code",
   "execution_count": 0,
   "metadata": {
    "colab": {},
    "colab_type": "code",
    "id": "vRQLyqsFQ2gf"
   },
   "outputs": [],
   "source": [
    "# Layout padrão\n",
    "default_layout = (2,3)\n",
    "# Figsize padrão\n",
    "default_figsize = (10,4)\n",
    "\n",
    "def plot_density(df):\n",
    "  \"\"\"Plota o gráfico de densidade.\n",
    "  \"\"\"\n",
    "  df.plot(kind=\"density\",\n",
    "          subplots=True,\n",
    "          sharex=False,\n",
    "          layout=default_layout,\n",
    "          figsize=default_figsize)\n",
    "  plt.tight_layout()\n",
    "  plt.show()\n",
    "\n",
    "def plot_box(df):\n",
    "  \"\"\"Plota o boxplot.\n",
    "  \"\"\"\n",
    "  df.plot(kind=\"box\",\n",
    "          subplots=True,\n",
    "          sharex=False,\n",
    "          layout=default_layout,\n",
    "          figsize=default_figsize)\n",
    "  plt.tight_layout()\n",
    "  plt.show()\n",
    "  \n",
    "def print_eda(df):\n",
    "  \"\"\"Mostra gráficos e valores relacionados a etapa de\n",
    "  Exploratory Data Analysis (EDA).\"\"\"\n",
    "  hr = '--------------------------------------------------------------'\n",
    "  print(\"Density\")\n",
    "  plot_density(df)\n",
    "\n",
    "  print(hr)\n",
    "  print(\"Box\")\n",
    "  plot_box(df)\n",
    "\n",
    "  print(hr)\n",
    "  print(\"Shape\")\n",
    "  print(df.shape)\n",
    "\n",
    "  print(hr)\n",
    "  print(\"Correlação\")\n",
    "  print(df.corr()['price'].sort_values())\n",
    "\n",
    "  print(hr)\n",
    "  print(\"Heatmap\")\n",
    "  sns.heatmap(df.corr())"
   ]
  },
  {
   "cell_type": "code",
   "execution_count": 0,
   "metadata": {
    "colab": {
     "base_uri": "https://localhost:8080/",
     "height": 1000
    },
    "colab_type": "code",
    "id": "WS9wRVynwjZv",
    "outputId": "130c358d-1ef3-49de-971d-b41a8ec757ee"
   },
   "outputs": [
    {
     "name": "stdout",
     "output_type": "stream",
     "text": [
      "Density\n"
     ]
    },
    {
     "data": {
      "image/png": "[encoded data removed]",
      "text/plain": [
       "<Figure size 720x288 with 6 Axes>"
      ]
     },
     "metadata": {
      "tags": []
     },
     "output_type": "display_data"
    },
    {
     "name": "stdout",
     "output_type": "stream",
     "text": [
      "--------------------------------------------------------------\n",
      "Box\n"
     ]
    },
    {
     "data": {
      "image/png": "[encoded data removed]",
      "text/plain": [
       "<Figure size 720x288 with 6 Axes>"
      ]
     },
     "metadata": {
      "tags": []
     },
     "output_type": "display_data"
    },
    {
     "name": "stdout",
     "output_type": "stream",
     "text": [
      "--------------------------------------------------------------\n",
      "Shape\n",
      "(9000, 6)\n",
      "--------------------------------------------------------------\n",
      "Correlação\n",
      "minimum_nights    0.061752\n",
      "beds              0.157380\n",
      "accommodates      0.201935\n",
      "bedrooms          0.236026\n",
      "bathrooms         0.242715\n",
      "price             1.000000\n",
      "Name: price, dtype: float64\n",
      "--------------------------------------------------------------\n",
      "Heatmap\n"
     ]
    },
    {
     "data": {
      "image/png": "[encoded data removed]",
      "text/plain": [
       "<Figure size 432x288 with 2 Axes>"
      ]
     },
     "metadata": {
      "tags": []
     },
     "output_type": "display_data"
    }
   ],
   "source": [
    "# Mostrando os gráficos e valores dos dados que temos até agora\n",
    "print_eda(normalized_train)"
   ]
  },
  {
   "cell_type": "markdown",
   "metadata": {
    "colab_type": "text",
    "id": "2_Pmr3f4yIKo"
   },
   "source": [
    "Para tratar esses valores, iremos usar duas técnicas e, posteriormente, escolher a que melhor comportou nos nossos dados. As técnicas serão:\n",
    "- [Z-score](https://www.statisticshowto.datasciencecentral.com/probability-and-statistics/z-score/): nos permite comparar um valor específico com a população, levando-se em conta o valor típico e a dispersão.\n",
    "- [IQR](https://pt-pt.khanacademy.org/math/statistics-probability/summarizing-quantitative-data/interquartile-range-iqr/a/interquartile-range-review): também conhecida como amplitude interquartil, é uma medida da dispersão dos dados em torno da medida de centralidade."
   ]
  },
  {
   "cell_type": "code",
   "execution_count": 0,
   "metadata": {
    "colab": {},
    "colab_type": "code",
    "id": "c-ylK-47OrSn"
   },
   "outputs": [],
   "source": [
    "from sklearn.preprocessing import StandardScaler"
   ]
  },
  {
   "cell_type": "code",
   "execution_count": 0,
   "metadata": {
    "colab": {},
    "colab_type": "code",
    "id": "Qgjuq4AGQ8ZG"
   },
   "outputs": [],
   "source": [
    "def clean_outliers(data, algorithm='iqr'):\n",
    "  \"\"\"Essa função limpa os outliers, podendo ser escolhido o algoritmo\n",
    "  IQR ou Z-Score.\n",
    "  \n",
    "  Return: df\n",
    "    O dataframe com os outliers tratados.\n",
    "  \"\"\"\n",
    "  df = data.copy()\n",
    "  if algorithm == \"iqr\":\n",
    "    Q1 = df.quantile(0.25)\n",
    "    Q3 = df.quantile(0.75)\n",
    "    IQR = Q3 - Q1\n",
    "    low = Q1 - 1.5 * IQR\n",
    "    up = Q3 + 1.5 * IQR\n",
    "    df = df[((df > low).all(axis=1) & (df < up).all(axis=1))]\n",
    "  elif algorithm == \"z-score\":\n",
    "    df = pd.DataFrame(StandardScaler().fit_transform(df),\n",
    "                            columns=df.columns,\n",
    "                            index=df.index)\n",
    "    df = df[(df < 2.698).all(axis=1) & (df > -2.698).all(axis=1)]\n",
    "  return df"
   ]
  },
  {
   "cell_type": "code",
   "execution_count": 0,
   "metadata": {
    "colab": {},
    "colab_type": "code",
    "id": "jgVJ8q3sQ8bm"
   },
   "outputs": [],
   "source": [
    "train_iqr = clean_outliers(normalized_train,\"iqr\")\n",
    "train_z_score = clean_outliers(normalized_train,\"z-score\")\n",
    "train_z_score['price'] = normalized_train.loc[train_z_score.index.tolist()]['price']"
   ]
  },
  {
   "cell_type": "code",
   "execution_count": 0,
   "metadata": {
    "colab": {
     "base_uri": "https://localhost:8080/",
     "height": 1000
    },
    "colab_type": "code",
    "id": "3q5dA6KsQ8eE",
    "outputId": "6587f5dd-97bc-4a25-9465-bb055b4bee0a"
   },
   "outputs": [
    {
     "name": "stdout",
     "output_type": "stream",
     "text": [
      "Density\n"
     ]
    },
    {
     "data": {
      "image/png": "[encoded data removed]",
      "text/plain": [
       "<Figure size 720x288 with 6 Axes>"
      ]
     },
     "metadata": {
      "tags": []
     },
     "output_type": "display_data"
    },
    {
     "name": "stdout",
     "output_type": "stream",
     "text": [
      "--------------------------------------------------------------\n",
      "Box\n"
     ]
    },
    {
     "data": {
      "image/png": "[encoded data removed]",
      "text/plain": [
       "<Figure size 720x288 with 6 Axes>"
      ]
     },
     "metadata": {
      "tags": []
     },
     "output_type": "display_data"
    },
    {
     "name": "stdout",
     "output_type": "stream",
     "text": [
      "--------------------------------------------------------------\n",
      "Shape\n",
      "(6816, 6)\n",
      "--------------------------------------------------------------\n",
      "Correlação\n",
      "minimum_nights    0.185207\n",
      "beds              0.329370\n",
      "bathrooms         0.392960\n",
      "accommodates      0.445633\n",
      "bedrooms          0.450245\n",
      "price             1.000000\n",
      "Name: price, dtype: float64\n",
      "--------------------------------------------------------------\n",
      "Heatmap\n"
     ]
    },
    {
     "data": {
      "image/png": "[encoded data removed]",
      "text/plain": [
       "<Figure size 432x288 with 2 Axes>"
      ]
     },
     "metadata": {
      "tags": []
     },
     "output_type": "display_data"
    }
   ],
   "source": [
    "print_eda(train_iqr)"
   ]
  },
  {
   "cell_type": "code",
   "execution_count": 0,
   "metadata": {
    "colab": {
     "base_uri": "https://localhost:8080/",
     "height": 1000
    },
    "colab_type": "code",
    "id": "OZAH0WieQ8gX",
    "outputId": "40703d3e-3d07-48d3-e080-65a99dc6f585"
   },
   "outputs": [
    {
     "name": "stdout",
     "output_type": "stream",
     "text": [
      "Density\n"
     ]
    },
    {
     "data": {
      "image/png": "[encoded data removed]",
      "text/plain": [
       "<Figure size 720x288 with 6 Axes>"
      ]
     },
     "metadata": {
      "tags": []
     },
     "output_type": "display_data"
    },
    {
     "name": "stdout",
     "output_type": "stream",
     "text": [
      "--------------------------------------------------------------\n",
      "Box\n"
     ]
    },
    {
     "data": {
      "image/png": "[encoded data removed]",
      "text/plain": [
       "<Figure size 720x288 with 6 Axes>"
      ]
     },
     "metadata": {
      "tags": []
     },
     "output_type": "display_data"
    },
    {
     "name": "stdout",
     "output_type": "stream",
     "text": [
      "--------------------------------------------------------------\n",
      "Shape\n",
      "(8556, 6)\n",
      "--------------------------------------------------------------\n",
      "Correlação\n",
      "minimum_nights    0.074771\n",
      "beds              0.340120\n",
      "accommodates      0.438538\n",
      "bathrooms         0.447135\n",
      "bedrooms          0.479439\n",
      "price             1.000000\n",
      "Name: price, dtype: float64\n",
      "--------------------------------------------------------------\n",
      "Heatmap\n"
     ]
    },
    {
     "data": {
      "image/png": "[encoded data removed]",
      "text/plain": [
       "<Figure size 432x288 with 2 Axes>"
      ]
     },
     "metadata": {
      "tags": []
     },
     "output_type": "display_data"
    }
   ],
   "source": [
    "print_eda(train_z_score)"
   ]
  },
  {
   "cell_type": "markdown",
   "metadata": {
    "colab_type": "text",
    "id": "BaK4o23n9cGl"
   },
   "source": [
    "O método _z-score_ permitiu termos uma quantidade maior de dados para podermos treinar, aumentando inclusive a correlação entre as colunas com _price_, porém tratou os _outliers_ de forma menos eficiente quanto ao _IQR_. Para decidirmos de forma mais firme, a seguir iremos treinar 3 modelos básicos e observaremos os seus [RMSE](https://www.statisticshowto.datasciencecentral.com/rmse/) para podermos escolher qual _DataFrame_ iremos utilizar para treinar nosso modelo."
   ]
  },
  {
   "cell_type": "markdown",
   "metadata": {
    "colab_type": "text",
    "id": "lxcZwZYQJuov"
   },
   "source": [
    "# Modelo inicial\n",
    "No treinamento inicial, iremos treinar 3 modelos:\n",
    "1. Com os dados limpos e normalizados (**normalized_train**);\n",
    "1. Com os dados após IQR (**train_iqr**);\n",
    "1. Com os dados após Z-Score (**train_z_score**).\n",
    "\n",
    "Iremos verificar o RMSE de cada um, para decidirmos qual _DataFrame_ usar. Após, na etapa de encontrar o melhor modelo, iremos aplicar vários modelos nos dados com o melhor RMSE. Por fim, iremos melhorar o nosso modelo final e aplicá-lo nas variáveis de teste.\n",
    "\n",
    "Iremos usar:\n",
    "\n",
    "- **[sqrt](https://docs.scipy.org/doc/numpy/reference/generated/numpy.sqrt.html)**: calcula a raiz quadrada do valor passado.\n",
    "- **[mean_squared_error](https://scikit-learn.org/stable/modules/generated/sklearn.metrics.mean_squared_error.html)**: calcula o erro médio quadrático.\n",
    "- **[train_test_split](https://scikit-learn.org/stable/modules/generated/sklearn.model_selection.train_test_split.html)**: divide matrizes em subconjuntos aleatórios de treino e teste."
   ]
  },
  {
   "cell_type": "code",
   "execution_count": 0,
   "metadata": {
    "colab": {},
    "colab_type": "code",
    "id": "y0yKqc3LCc6l"
   },
   "outputs": [],
   "source": [
    "from sklearn.metrics import mean_squared_error\n",
    "from sklearn.neighbors import KNeighborsRegressor\n",
    "from sklearn.model_selection import train_test_split"
   ]
  },
  {
   "cell_type": "markdown",
   "metadata": {
    "colab_type": "text",
    "id": "kAcj36pjKDMw"
   },
   "source": [
    "## Treinamento inicial\n",
    "A ordem dos modelos será igual a anteriormente citada."
   ]
  },
  {
   "cell_type": "code",
   "execution_count": 0,
   "metadata": {
    "colab": {},
    "colab_type": "code",
    "id": "yVMRgqs-TiZI"
   },
   "outputs": [],
   "source": [
    "# 10% para teste, 90% para treino\n",
    "test_size = 0.10\n",
    "# Semente usada pelo gerador de números aleatórios\n",
    "seed = 20"
   ]
  },
  {
   "cell_type": "markdown",
   "metadata": {
    "colab_type": "text",
    "id": "trCgVl6QTEXB"
   },
   "source": [
    "### Modelo com os dados limpos e normalizados\n",
    "_DataFrame_ utilizado: `normalized_train`."
   ]
  },
  {
   "cell_type": "code",
   "execution_count": 0,
   "metadata": {
    "colab": {
     "base_uri": "https://localhost:8080/",
     "height": 34
    },
    "colab_type": "code",
    "id": "RGaqRpo5Tfz3",
    "outputId": "fd6ba620-af46-4153-f868-74d04ed448cd"
   },
   "outputs": [
    {
     "name": "stdout",
     "output_type": "stream",
     "text": [
      "(8100, 5) (900, 5)\n"
     ]
    }
   ],
   "source": [
    "# Separamos o X e Y de treino e teste\n",
    "X_train, X_test, Y_train, Y_test = train_test_split(normalized_train.drop(axis=1,labels=[\"price\"]), \n",
    "                                                    normalized_train[\"price\"],\n",
    "                                                    test_size=test_size, \n",
    "                                                    random_state=seed)\n",
    "# Imprime as dimensões de X para treino e teste\n",
    "print(X_train.shape, X_test.shape)"
   ]
  },
  {
   "cell_type": "code",
   "execution_count": 0,
   "metadata": {
    "colab": {},
    "colab_type": "code",
    "id": "ybe-FszUTEve"
   },
   "outputs": [],
   "source": [
    "# Modelo básico inicial\n",
    "knn = KNeighborsRegressor(n_neighbors=5, n_jobs=-1)\n",
    "\n",
    "# Treina o modelo básico\n",
    "knn.fit(X_train, Y_train)\n",
    "\n",
    "# Predizer os preços\n",
    "predict = knn.predict(X_test)"
   ]
  },
  {
   "cell_type": "code",
   "execution_count": 0,
   "metadata": {
    "colab": {
     "base_uri": "https://localhost:8080/",
     "height": 34
    },
    "colab_type": "code",
    "id": "gkBVL0--TEyO",
    "outputId": "821de04b-b49d-4de5-d7db-620aac696878"
   },
   "outputs": [
    {
     "name": "stdout",
     "output_type": "stream",
     "text": [
      "1333.5310495739413\n"
     ]
    }
   ],
   "source": [
    "# RMSE\n",
    "rmse = np.sqrt(mean_squared_error(Y_test,predict))\n",
    "print(rmse)"
   ]
  },
  {
   "cell_type": "markdown",
   "metadata": {
    "colab_type": "text",
    "id": "1pxUT9yRTE5H"
   },
   "source": [
    "### Modelo com os dados após IQR\n",
    "_DataFrame_ utilizado: `train_iqr`."
   ]
  },
  {
   "cell_type": "code",
   "execution_count": 0,
   "metadata": {
    "colab": {
     "base_uri": "https://localhost:8080/",
     "height": 34
    },
    "colab_type": "code",
    "id": "I9DuNkPETe8v",
    "outputId": "2ccc3a3d-8f83-4e94-882b-9fa77aac299d"
   },
   "outputs": [
    {
     "name": "stdout",
     "output_type": "stream",
     "text": [
      "(6134, 5) (682, 5)\n"
     ]
    }
   ],
   "source": [
    "# Separamos o X e Y de treino e teste\n",
    "X_train, X_test, Y_train, Y_test = train_test_split(train_iqr.drop(axis=1,labels=[\"price\"]), \n",
    "                                                    train_iqr[\"price\"],\n",
    "                                                    test_size=test_size, \n",
    "                                                    random_state=seed)\n",
    "# Imprime as dimensões de X para treino e teste\n",
    "print(X_train.shape,X_test.shape)"
   ]
  },
  {
   "cell_type": "code",
   "execution_count": 0,
   "metadata": {
    "colab": {},
    "colab_type": "code",
    "id": "tLDR_MIqTE_g"
   },
   "outputs": [],
   "source": [
    "# Modelo básico inicial\n",
    "knn = KNeighborsRegressor(n_neighbors=5, n_jobs=-1)\n",
    "\n",
    "# Treina o modelo básico\n",
    "knn.fit(X_train, Y_train)\n",
    "\n",
    "# Predizer os preços\n",
    "predict = knn.predict(X_test)"
   ]
  },
  {
   "cell_type": "code",
   "execution_count": 0,
   "metadata": {
    "colab": {
     "base_uri": "https://localhost:8080/",
     "height": 34
    },
    "colab_type": "code",
    "id": "V89R59n6TFBu",
    "outputId": "c7416602-68f9-4d92-fc53-92e0e5aa0a72"
   },
   "outputs": [
    {
     "name": "stdout",
     "output_type": "stream",
     "text": [
      "129.95883692995903\n"
     ]
    }
   ],
   "source": [
    "# RMSE\n",
    "rmse = np.sqrt(mean_squared_error(Y_test,predict))\n",
    "print(rmse)"
   ]
  },
  {
   "cell_type": "markdown",
   "metadata": {
    "colab_type": "text",
    "id": "FMZWS21jTFHr"
   },
   "source": [
    "### Modelo com os dados após Z-Score\n",
    "_DataFrame_ utilizado: `train_z_score`."
   ]
  },
  {
   "cell_type": "code",
   "execution_count": 0,
   "metadata": {
    "colab": {
     "base_uri": "https://localhost:8080/",
     "height": 34
    },
    "colab_type": "code",
    "id": "ptgzrRklTehX",
    "outputId": "de748827-4d8d-49fd-fbd8-992d7356b43e"
   },
   "outputs": [
    {
     "name": "stdout",
     "output_type": "stream",
     "text": [
      "(7700, 5) (856, 5)\n"
     ]
    }
   ],
   "source": [
    "# Separamos o X e Y de treino e teste\n",
    "X_train, X_test, Y_train, Y_test = train_test_split(train_z_score.drop(axis=1,labels=[\"price\"]), \n",
    "                                                    train_z_score[\"price\"],\n",
    "                                                    test_size=test_size, \n",
    "                                                    random_state=seed)\n",
    "# Imprime as dimensões de X para treino e teste\n",
    "print(X_train.shape,X_test.shape)"
   ]
  },
  {
   "cell_type": "code",
   "execution_count": 0,
   "metadata": {
    "colab": {},
    "colab_type": "code",
    "id": "kLKqTYNFTFOu"
   },
   "outputs": [],
   "source": [
    "# Modelo básico inicial\n",
    "knn = KNeighborsRegressor(n_neighbors=5, n_jobs=-1)\n",
    "\n",
    "# Treina o modelo básico\n",
    "knn.fit(X_train, Y_train)\n",
    "\n",
    "# Predizer os preços\n",
    "predict = knn.predict(X_test)"
   ]
  },
  {
   "cell_type": "code",
   "execution_count": 0,
   "metadata": {
    "colab": {
     "base_uri": "https://localhost:8080/",
     "height": 34
    },
    "colab_type": "code",
    "id": "nfWPUvXUTFRG",
    "outputId": "0ef4a36b-2003-4d1e-d990-95da633497a9"
   },
   "outputs": [
    {
     "name": "stdout",
     "output_type": "stream",
     "text": [
      "236.6176893948959\n"
     ]
    }
   ],
   "source": [
    "# RMSE\n",
    "rmse = np.sqrt(mean_squared_error(Y_test,predict))\n",
    "print(rmse)"
   ]
  },
  {
   "cell_type": "markdown",
   "metadata": {
    "colab_type": "text",
    "id": "Ne9HYsWaURtP"
   },
   "source": [
    "Iremos usar os dados por IQR, pois teve o melhor valor de RMSE."
   ]
  },
  {
   "cell_type": "code",
   "execution_count": 0,
   "metadata": {
    "colab": {
     "base_uri": "https://localhost:8080/",
     "height": 34
    },
    "colab_type": "code",
    "id": "IcKfqgznUa-H",
    "outputId": "e98b4387-2f03-404f-d8f0-f5dcea277229"
   },
   "outputs": [
    {
     "name": "stdout",
     "output_type": "stream",
     "text": [
      "(6134, 5) (682, 5)\n"
     ]
    }
   ],
   "source": [
    "# Separamos o X e Y de treino e teste\n",
    "X_train, X_test, Y_train, Y_test = train_test_split(train_iqr.drop(axis=1,labels=[\"price\"]),\n",
    "                                                    train_iqr[\"price\"],\n",
    "                                                    test_size=test_size,\n",
    "                                                    random_state=seed)\n",
    "# Imprime as dimensões de X para treino e teste\n",
    "print(X_train.shape, X_test.shape)"
   ]
  },
  {
   "cell_type": "markdown",
   "metadata": {
    "colab_type": "text",
    "id": "jv0BB8R7KDPP"
   },
   "source": [
    "# Encontrando o melhor modelo\n",
    "Agora que sabemos qual _DataFrame_ utilizar, vamos aplicar algumas técnicas de [AutoML](https://www.automl.org/automl/auto-sklearn/) para encontrarmos os melhores parâmetros para o nosso modelo. Usaremos [cross-validation](https://scikit-learn.org/stable/modules/cross_validation.html) para a melhor evolução do modelo.\n",
    "\n",
    "O que estamos usando de novo:\n",
    "\n",
    "- [**sklearn.model_selection.KFold**](https://scikit-learn.org/stable/modules/generated/sklearn.model_selection.KFold.html): K-Folds cross-validator.\n",
    "- [**sklearn.model_selection.cross_val_score**](https://scikit-learn.org/stable/modules/generated/sklearn.model_selection.cross_val_score.html): avaliar o score usando cross-validation.\n",
    "- [**sklearn.pipeline.Pipeline**](https://scikit-learn.org/stable/modules/generated/sklearn.pipeline.Pipeline.html): pipelines que serão aplicados.\n",
    "- [**sklearn.preprocessing.QuantileTransformer**](https://scikit-learn.org/stable/modules/generated/sklearn.preprocessing.QuantileTransformer.html): realiza o `transform` usando quartis.\n",
    "- [**sklearn.preprocessing.Normalizer**](https://scikit-learn.org/stable/modules/generated/sklearn.preprocessing.Normalizer.html): realiza a normalização.\n",
    "- [**sklearn.preprocessing.RobustScaler**](https://scikit-learn.org/stable/modules/generated/sklearn.preprocessing.RobustScaler.html): dimensione recursos usando estatísticas robustas para outliers.\n",
    "- [**sklearn.preprocessing.PowerTransformer**](https://scikit-learn.org/stable/modules/generated/sklearn.preprocessing.PowerTransformer.html): aplica transformação de potência.\n",
    "\n",
    "**Exercícios**:\n",
    "1. Defina o número de _folds_ para `6`.\n",
    "1. Defina a semente de aleatoriedade para `20`.\n",
    "1. Defina os seguintes pipelines:\n",
    "  1. **ScaledKnn**: chame a etapa de `Scaler` e aplique `StandardScaler()`.\n",
    "  1. **NormalizedKnn**: chame a etapa de `Normalizer` e aplique `Normalizer()`.\n",
    "  1. **RobustedKnn**: chame a etapa de `Robust` e aplique `RobustScaler()`.\n",
    "  1. **QuantiledKnn**: chame a etapa de `Quantile` e aplique `QuantileTransformer()`.\n",
    "  1. **PoweredKnn**: chame a etapa de `Power` e aplique `PowerTransformer()`."
   ]
  },
  {
   "cell_type": "code",
   "execution_count": 0,
   "metadata": {
    "colab": {},
    "colab_type": "code",
    "id": "WgFrQrGwLDtf"
   },
   "outputs": [],
   "source": [
    "from sklearn.model_selection import KFold\n",
    "from sklearn.model_selection import cross_val_score\n",
    "\n",
    "from sklearn.pipeline import Pipeline\n",
    "\n",
    "from sklearn.preprocessing import Normalizer\n",
    "from sklearn.preprocessing import RobustScaler\n",
    "from sklearn.preprocessing import PowerTransformer\n",
    "from sklearn.preprocessing import QuantileTransformer"
   ]
  },
  {
   "cell_type": "code",
   "execution_count": 0,
   "metadata": {
    "colab": {},
    "colab_type": "code",
    "id": "KC8avktXUKYw"
   },
   "outputs": [],
   "source": [
    "# Opções de teste e métrica de avaliação\n",
    "num_folds = 6\n",
    "seed = 20\n",
    "scoring = 'neg_mean_squared_error'"
   ]
  },
  {
   "cell_type": "code",
   "execution_count": 0,
   "metadata": {
    "colab": {},
    "colab_type": "code",
    "id": "yi47GE6NUKbC"
   },
   "outputs": [],
   "source": [
    "# Pipeline de modelos que iremos aplicar\n",
    "pipelines = []\n",
    "pipelines.append(('NonScaledKnn', \n",
    "                  Pipeline([('KNN',\n",
    "                             KNeighborsRegressor(n_neighbors=5, algorithm=\"brute\",n_jobs=-1))])))\n",
    "pipelines.append(('ScaledKnn', \n",
    "                  Pipeline([('Scaler', \n",
    "                             StandardScaler()),\n",
    "                            ('KNN',\n",
    "                             KNeighborsRegressor(n_neighbors=5, n_jobs=-1))])))\n",
    "pipelines.append(('NormalizedKnn', \n",
    "                  Pipeline([('Normalizer', \n",
    "                             Normalizer()),\n",
    "                            ('KNN',\n",
    "                             KNeighborsRegressor(n_neighbors=5, n_jobs=-1))])))\n",
    "pipelines.append(('RobustedKnn', \n",
    "                  Pipeline([('Robust', \n",
    "                             RobustScaler()),\n",
    "                            ('KNN',\n",
    "                             KNeighborsRegressor(n_neighbors=5, n_jobs=-1))])))\n",
    "pipelines.append(('QuantiledKnn', \n",
    "                  Pipeline([('Quantile', \n",
    "                             QuantileTransformer()),\n",
    "                            ('KNN',\n",
    "                             KNeighborsRegressor(n_neighbors=5, n_jobs=-1))])))\n",
    "pipelines.append(('PoweredKnn', \n",
    "                  Pipeline([('Power', \n",
    "                             PowerTransformer()),\n",
    "                            ('KNN',\n",
    "                             KNeighborsRegressor(n_neighbors=5, n_jobs=-1))])))"
   ]
  },
  {
   "cell_type": "markdown",
   "metadata": {
    "colab_type": "text",
    "id": "_6fAN2RV2y_5"
   },
   "source": [
    "**Exercícios**:\n",
    "1. Atribua a `n_splits` a quantidade de _folds_ definido anteriormente.\n",
    "1. Atribua a `random_state` a semente de aleatoriedade definida anteriormente.\n",
    "1. No `cross_val_score`:\n",
    "  1. Atribua o modelo que você quer treinar.\n",
    "  1. Os dados de treinamento (`X_train`).\n",
    "  1. Os dados de teste (`Y_train`).\n",
    "  1. Atribua a `cv` a quantidade de _folds_ definidas anteriormente.\n"
   ]
  },
  {
   "cell_type": "code",
   "execution_count": 0,
   "metadata": {
    "colab": {
     "base_uri": "https://localhost:8080/",
     "height": 123
    },
    "colab_type": "code",
    "id": "xL_VtyuGUKdX",
    "outputId": "720e8229-25bd-4185-ee54-088d2a6d3b82"
   },
   "outputs": [
    {
     "name": "stdout",
     "output_type": "stream",
     "text": [
      "NonScaledKnn Mean: 128.440132 Std: 25.511721\n",
      "ScaledKnn Mean: 129.289452 Std: 23.217983\n",
      "NormalizedKnn Mean: 130.130816 Std: 26.537210\n",
      "RobustedKnn Mean: 130.216994 Std: 27.474436\n",
      "QuantiledKnn Mean: 130.900427 Std: 28.914489\n",
      "PoweredKnn Mean: 128.968342 Std: 28.916522\n"
     ]
    }
   ],
   "source": [
    "# Aplicar os modelos e verificar a mean e std\n",
    "results = []\n",
    "names = []\n",
    "for name, model in pipelines:\n",
    "  kfold = KFold(n_splits=num_folds, random_state=seed)\n",
    "  cv_results = cross_val_score(model, X_train, Y_train, cv=kfold, scoring=scoring)\n",
    "  results.append(cv_results)\n",
    "  names.append(name)\n",
    "  print(\"%s Mean: %f Std: %f\" % (name, \n",
    "                                 np.sqrt(-cv_results.mean()),\n",
    "                                 np.sqrt(cv_results.std())))"
   ]
  },
  {
   "cell_type": "code",
   "execution_count": 0,
   "metadata": {
    "colab": {
     "base_uri": "https://localhost:8080/",
     "height": 296
    },
    "colab_type": "code",
    "id": "yoEpaYK4U0zx",
    "outputId": "e240ccf3-629d-45a3-bb5e-e2b7127995ac"
   },
   "outputs": [
    {
     "data": {
      "image/png": "[encoded data removed]",
      "text/plain": [
       "<Figure size 432x288 with 1 Axes>"
      ]
     },
     "metadata": {
      "tags": []
     },
     "output_type": "display_data"
    }
   ],
   "source": [
    "# Mostra um conjunto de BoxPlot para cada modelo\n",
    "fig = plt.figure()\n",
    "ax = fig.add_subplot(111)\n",
    "plt.boxplot(results)\n",
    "ax.set_xticklabels(names,rotation=90)\n",
    "plt.title('Scaled Algorithm Comparison')\n",
    "plt.tight_layout()\n",
    "plt.show()"
   ]
  },
  {
   "cell_type": "markdown",
   "metadata": {
    "colab_type": "text",
    "id": "y5ksoREs298B"
   },
   "source": [
    "## Observações\n",
    "Faça observações sobre os resultados dos seus modelos.\n",
    "\n",
    "**ESCOLHA UM MODELO PARA USAR EM DIANTE**."
   ]
  },
  {
   "cell_type": "markdown",
   "metadata": {
    "colab_type": "text",
    "id": "hwRgB7H8WbQP"
   },
   "source": [
    "- **NonScaledKnn**: Possui um **std** mediano (nem tão disperso e nem tão focado), porém com 1 outlier visível no _boxplot_. Os dados são assimétricos para a direita.\n",
    "- **ScaledKnn**: Possui um **std** um pouco mais focado, com uma extensão considerável entre o Q3 e o limite superior no _boxplot_, principalmente se comparado a distância entre o Q1 e o limite inferior. Os dados são assimétricos para a esquerda\n",
    "- **NormalizedKnn**: Possui o **std** mais focado dos modelos, porém com 2 outlier visíveis no _boxplot_, além de comportar uma extensão muito pequeno no seu todo, principalmente se comparado aos outros modelos. Os dados são assimétricos para a direita.\n",
    "- **RobustedKnn**: Possui o pior **std**, ou seja, muito disperso, bastante visível se observar a metade dos dados que encontra-se dentro da extensão entre Q1 e Q3 com a metade dos dados que encontra-se fora dessa extensão no _boxplot_.\n",
    "- **QuantiledKnn**: Possui um **std** indicando dispersão relativamente alta, além de seus dados serem mais assimétricos para a direita.\n",
    "- **PoweredKnn**: Possui um **std** indicando dispersão relativamente alta, ainda com 1 outlier visível no _boxplot_."
   ]
  },
  {
   "cell_type": "markdown",
   "metadata": {
    "colab_type": "text",
    "id": "R_jlQJGBKDRn"
   },
   "source": [
    "## Melhorando o modelo\n",
    "Agora vamos realizar alguns testes para encontrar melhores parâmetros para o nosso modelo já definido.\n",
    "\n",
    "O que estamos usando de novo:\n",
    "- [**sklearn.model_selection.GridSearchCV**](https://scikit-learn.org/stable/modules/generated/sklearn.model_selection.GridSearchCV.html): busca exaustiva por parâmetros específicos.\n",
    "\n",
    "**Exercícios**:\n",
    "- Acesse a documentação e defina quais serão os parâmetros usados na sua malha de busca.\n",
    "- Aplique o escalar escolhido anteriormente.\n"
   ]
  },
  {
   "cell_type": "code",
   "execution_count": 0,
   "metadata": {
    "colab": {
     "base_uri": "https://localhost:8080/",
     "height": 1000
    },
    "colab_type": "code",
    "id": "tan1pjvOzkSE",
    "outputId": "f62e7e11-d812-4f70-e660-d6061c147f1d"
   },
   "outputs": [
    {
     "name": "stdout",
     "output_type": "stream",
     "text": [
      "Best: 121.105506 using {'algorithm': 'brute', 'leaf_size': 10, 'metric': 'manhattan', 'n_jobs': -1, 'n_neighbors': 23, 'weights': 'uniform'}\n",
      "129.386301 (26.840510) with: {'algorithm': 'auto', 'leaf_size': 10, 'metric': 'euclidean', 'n_jobs': -1, 'n_neighbors': 5, 'weights': 'uniform'}\n",
      "126.622928 (28.103173) with: {'algorithm': 'auto', 'leaf_size': 10, 'metric': 'euclidean', 'n_jobs': -1, 'n_neighbors': 7, 'weights': 'uniform'}\n",
      "125.198707 (27.922901) with: {'algorithm': 'auto', 'leaf_size': 10, 'metric': 'euclidean', 'n_jobs': -1, 'n_neighbors': 9, 'weights': 'uniform'}\n",
      "124.191093 (27.955233) with: {'algorithm': 'auto', 'leaf_size': 10, 'metric': 'euclidean', 'n_jobs': -1, 'n_neighbors': 11, 'weights': 'uniform'}\n",
      "123.599685 (27.593009) with: {'algorithm': 'auto', 'leaf_size': 10, 'metric': 'euclidean', 'n_jobs': -1, 'n_neighbors': 13, 'weights': 'uniform'}\n",
      "122.993050 (24.401455) with: {'algorithm': 'auto', 'leaf_size': 10, 'metric': 'euclidean', 'n_jobs': -1, 'n_neighbors': 15, 'weights': 'uniform'}\n",
      "122.241063 (25.042659) with: {'algorithm': 'auto', 'leaf_size': 10, 'metric': 'euclidean', 'n_jobs': -1, 'n_neighbors': 17, 'weights': 'uniform'}\n",
      "121.793245 (24.522566) with: {'algorithm': 'auto', 'leaf_size': 10, 'metric': 'euclidean', 'n_jobs': -1, 'n_neighbors': 19, 'weights': 'uniform'}\n",
      "121.476261 (23.645995) with: {'algorithm': 'auto', 'leaf_size': 10, 'metric': 'euclidean', 'n_jobs': -1, 'n_neighbors': 21, 'weights': 'uniform'}\n",
      "121.315167 (23.343094) with: {'algorithm': 'auto', 'leaf_size': 10, 'metric': 'euclidean', 'n_jobs': -1, 'n_neighbors': 23, 'weights': 'uniform'}\n",
      "129.113807 (25.833218) with: {'algorithm': 'auto', 'leaf_size': 10, 'metric': 'manhattan', 'n_jobs': -1, 'n_neighbors': 5, 'weights': 'uniform'}\n",
      "126.513813 (27.804437) with: {'algorithm': 'auto', 'leaf_size': 10, 'metric': 'manhattan', 'n_jobs': -1, 'n_neighbors': 7, 'weights': 'uniform'}\n",
      "125.032121 (28.092747) with: {'algorithm': 'auto', 'leaf_size': 10, 'metric': 'manhattan', 'n_jobs': -1, 'n_neighbors': 9, 'weights': 'uniform'}\n",
      "124.049009 (27.371900) with: {'algorithm': 'auto', 'leaf_size': 10, 'metric': 'manhattan', 'n_jobs': -1, 'n_neighbors': 11, 'weights': 'uniform'}\n",
      "123.422625 (26.885684) with: {'algorithm': 'auto', 'leaf_size': 10, 'metric': 'manhattan', 'n_jobs': -1, 'n_neighbors': 13, 'weights': 'uniform'}\n",
      "122.966247 (24.640794) with: {'algorithm': 'auto', 'leaf_size': 10, 'metric': 'manhattan', 'n_jobs': -1, 'n_neighbors': 15, 'weights': 'uniform'}\n",
      "122.150829 (25.197264) with: {'algorithm': 'auto', 'leaf_size': 10, 'metric': 'manhattan', 'n_jobs': -1, 'n_neighbors': 17, 'weights': 'uniform'}\n",
      "121.671253 (24.421905) with: {'algorithm': 'auto', 'leaf_size': 10, 'metric': 'manhattan', 'n_jobs': -1, 'n_neighbors': 19, 'weights': 'uniform'}\n",
      "121.325025 (23.698559) with: {'algorithm': 'auto', 'leaf_size': 10, 'metric': 'manhattan', 'n_jobs': -1, 'n_neighbors': 21, 'weights': 'uniform'}\n",
      "121.162183 (23.778692) with: {'algorithm': 'auto', 'leaf_size': 10, 'metric': 'manhattan', 'n_jobs': -1, 'n_neighbors': 23, 'weights': 'uniform'}\n",
      "129.386301 (26.840510) with: {'algorithm': 'auto', 'leaf_size': 10, 'metric': 'minkowski', 'n_jobs': -1, 'n_neighbors': 5, 'weights': 'uniform'}\n",
      "126.622928 (28.103173) with: {'algorithm': 'auto', 'leaf_size': 10, 'metric': 'minkowski', 'n_jobs': -1, 'n_neighbors': 7, 'weights': 'uniform'}\n",
      "125.198707 (27.922901) with: {'algorithm': 'auto', 'leaf_size': 10, 'metric': 'minkowski', 'n_jobs': -1, 'n_neighbors': 9, 'weights': 'uniform'}\n",
      "124.191093 (27.955233) with: {'algorithm': 'auto', 'leaf_size': 10, 'metric': 'minkowski', 'n_jobs': -1, 'n_neighbors': 11, 'weights': 'uniform'}\n",
      "123.599685 (27.593009) with: {'algorithm': 'auto', 'leaf_size': 10, 'metric': 'minkowski', 'n_jobs': -1, 'n_neighbors': 13, 'weights': 'uniform'}\n",
      "122.993050 (24.401455) with: {'algorithm': 'auto', 'leaf_size': 10, 'metric': 'minkowski', 'n_jobs': -1, 'n_neighbors': 15, 'weights': 'uniform'}\n",
      "122.241063 (25.042659) with: {'algorithm': 'auto', 'leaf_size': 10, 'metric': 'minkowski', 'n_jobs': -1, 'n_neighbors': 17, 'weights': 'uniform'}\n",
      "121.793245 (24.522566) with: {'algorithm': 'auto', 'leaf_size': 10, 'metric': 'minkowski', 'n_jobs': -1, 'n_neighbors': 19, 'weights': 'uniform'}\n",
      "121.476261 (23.645995) with: {'algorithm': 'auto', 'leaf_size': 10, 'metric': 'minkowski', 'n_jobs': -1, 'n_neighbors': 21, 'weights': 'uniform'}\n",
      "121.315167 (23.343094) with: {'algorithm': 'auto', 'leaf_size': 10, 'metric': 'minkowski', 'n_jobs': -1, 'n_neighbors': 23, 'weights': 'uniform'}\n",
      "130.404158 (29.205358) with: {'algorithm': 'auto', 'leaf_size': 20, 'metric': 'euclidean', 'n_jobs': -1, 'n_neighbors': 5, 'weights': 'uniform'}\n",
      "127.489932 (29.261635) with: {'algorithm': 'auto', 'leaf_size': 20, 'metric': 'euclidean', 'n_jobs': -1, 'n_neighbors': 7, 'weights': 'uniform'}\n",
      "125.539788 (28.033959) with: {'algorithm': 'auto', 'leaf_size': 20, 'metric': 'euclidean', 'n_jobs': -1, 'n_neighbors': 9, 'weights': 'uniform'}\n",
      "124.183519 (28.288850) with: {'algorithm': 'auto', 'leaf_size': 20, 'metric': 'euclidean', 'n_jobs': -1, 'n_neighbors': 11, 'weights': 'uniform'}\n",
      "123.359396 (27.285048) with: {'algorithm': 'auto', 'leaf_size': 20, 'metric': 'euclidean', 'n_jobs': -1, 'n_neighbors': 13, 'weights': 'uniform'}\n",
      "122.646951 (24.779461) with: {'algorithm': 'auto', 'leaf_size': 20, 'metric': 'euclidean', 'n_jobs': -1, 'n_neighbors': 15, 'weights': 'uniform'}\n",
      "122.169557 (24.015615) with: {'algorithm': 'auto', 'leaf_size': 20, 'metric': 'euclidean', 'n_jobs': -1, 'n_neighbors': 17, 'weights': 'uniform'}\n",
      "121.572558 (23.813537) with: {'algorithm': 'auto', 'leaf_size': 20, 'metric': 'euclidean', 'n_jobs': -1, 'n_neighbors': 19, 'weights': 'uniform'}\n",
      "121.561114 (23.992810) with: {'algorithm': 'auto', 'leaf_size': 20, 'metric': 'euclidean', 'n_jobs': -1, 'n_neighbors': 21, 'weights': 'uniform'}\n",
      "121.377001 (23.527784) with: {'algorithm': 'auto', 'leaf_size': 20, 'metric': 'euclidean', 'n_jobs': -1, 'n_neighbors': 23, 'weights': 'uniform'}\n",
      "130.281000 (28.465390) with: {'algorithm': 'auto', 'leaf_size': 20, 'metric': 'manhattan', 'n_jobs': -1, 'n_neighbors': 5, 'weights': 'uniform'}\n",
      "127.246321 (28.974750) with: {'algorithm': 'auto', 'leaf_size': 20, 'metric': 'manhattan', 'n_jobs': -1, 'n_neighbors': 7, 'weights': 'uniform'}\n",
      "125.464332 (27.906966) with: {'algorithm': 'auto', 'leaf_size': 20, 'metric': 'manhattan', 'n_jobs': -1, 'n_neighbors': 9, 'weights': 'uniform'}\n",
      "124.020306 (28.317222) with: {'algorithm': 'auto', 'leaf_size': 20, 'metric': 'manhattan', 'n_jobs': -1, 'n_neighbors': 11, 'weights': 'uniform'}\n",
      "123.214691 (26.649201) with: {'algorithm': 'auto', 'leaf_size': 20, 'metric': 'manhattan', 'n_jobs': -1, 'n_neighbors': 13, 'weights': 'uniform'}\n",
      "122.472793 (24.503176) with: {'algorithm': 'auto', 'leaf_size': 20, 'metric': 'manhattan', 'n_jobs': -1, 'n_neighbors': 15, 'weights': 'uniform'}\n",
      "122.134688 (24.328718) with: {'algorithm': 'auto', 'leaf_size': 20, 'metric': 'manhattan', 'n_jobs': -1, 'n_neighbors': 17, 'weights': 'uniform'}\n",
      "121.497554 (24.054313) with: {'algorithm': 'auto', 'leaf_size': 20, 'metric': 'manhattan', 'n_jobs': -1, 'n_neighbors': 19, 'weights': 'uniform'}\n",
      "121.429410 (24.170613) with: {'algorithm': 'auto', 'leaf_size': 20, 'metric': 'manhattan', 'n_jobs': -1, 'n_neighbors': 21, 'weights': 'uniform'}\n",
      "121.240223 (24.079695) with: {'algorithm': 'auto', 'leaf_size': 20, 'metric': 'manhattan', 'n_jobs': -1, 'n_neighbors': 23, 'weights': 'uniform'}\n",
      "130.404158 (29.205358) with: {'algorithm': 'auto', 'leaf_size': 20, 'metric': 'minkowski', 'n_jobs': -1, 'n_neighbors': 5, 'weights': 'uniform'}\n",
      "127.489932 (29.261635) with: {'algorithm': 'auto', 'leaf_size': 20, 'metric': 'minkowski', 'n_jobs': -1, 'n_neighbors': 7, 'weights': 'uniform'}\n",
      "125.539788 (28.033959) with: {'algorithm': 'auto', 'leaf_size': 20, 'metric': 'minkowski', 'n_jobs': -1, 'n_neighbors': 9, 'weights': 'uniform'}\n",
      "124.183519 (28.288850) with: {'algorithm': 'auto', 'leaf_size': 20, 'metric': 'minkowski', 'n_jobs': -1, 'n_neighbors': 11, 'weights': 'uniform'}\n",
      "123.359396 (27.285048) with: {'algorithm': 'auto', 'leaf_size': 20, 'metric': 'minkowski', 'n_jobs': -1, 'n_neighbors': 13, 'weights': 'uniform'}\n",
      "122.646951 (24.779461) with: {'algorithm': 'auto', 'leaf_size': 20, 'metric': 'minkowski', 'n_jobs': -1, 'n_neighbors': 15, 'weights': 'uniform'}\n",
      "122.169557 (24.015615) with: {'algorithm': 'auto', 'leaf_size': 20, 'metric': 'minkowski', 'n_jobs': -1, 'n_neighbors': 17, 'weights': 'uniform'}\n",
      "121.572558 (23.813537) with: {'algorithm': 'auto', 'leaf_size': 20, 'metric': 'minkowski', 'n_jobs': -1, 'n_neighbors': 19, 'weights': 'uniform'}\n",
      "121.561114 (23.992810) with: {'algorithm': 'auto', 'leaf_size': 20, 'metric': 'minkowski', 'n_jobs': -1, 'n_neighbors': 21, 'weights': 'uniform'}\n",
      "121.377001 (23.527784) with: {'algorithm': 'auto', 'leaf_size': 20, 'metric': 'minkowski', 'n_jobs': -1, 'n_neighbors': 23, 'weights': 'uniform'}\n",
      "130.404158 (29.205358) with: {'algorithm': 'auto', 'leaf_size': 30, 'metric': 'euclidean', 'n_jobs': -1, 'n_neighbors': 5, 'weights': 'uniform'}\n",
      "127.489932 (29.261635) with: {'algorithm': 'auto', 'leaf_size': 30, 'metric': 'euclidean', 'n_jobs': -1, 'n_neighbors': 7, 'weights': 'uniform'}\n",
      "125.539788 (28.033959) with: {'algorithm': 'auto', 'leaf_size': 30, 'metric': 'euclidean', 'n_jobs': -1, 'n_neighbors': 9, 'weights': 'uniform'}\n",
      "124.183519 (28.288850) with: {'algorithm': 'auto', 'leaf_size': 30, 'metric': 'euclidean', 'n_jobs': -1, 'n_neighbors': 11, 'weights': 'uniform'}\n",
      "123.359396 (27.285048) with: {'algorithm': 'auto', 'leaf_size': 30, 'metric': 'euclidean', 'n_jobs': -1, 'n_neighbors': 13, 'weights': 'uniform'}\n",
      "122.646951 (24.779461) with: {'algorithm': 'auto', 'leaf_size': 30, 'metric': 'euclidean', 'n_jobs': -1, 'n_neighbors': 15, 'weights': 'uniform'}\n",
      "122.169557 (24.015615) with: {'algorithm': 'auto', 'leaf_size': 30, 'metric': 'euclidean', 'n_jobs': -1, 'n_neighbors': 17, 'weights': 'uniform'}\n",
      "121.572558 (23.813537) with: {'algorithm': 'auto', 'leaf_size': 30, 'metric': 'euclidean', 'n_jobs': -1, 'n_neighbors': 19, 'weights': 'uniform'}\n",
      "121.561114 (23.992810) with: {'algorithm': 'auto', 'leaf_size': 30, 'metric': 'euclidean', 'n_jobs': -1, 'n_neighbors': 21, 'weights': 'uniform'}\n",
      "121.377001 (23.527784) with: {'algorithm': 'auto', 'leaf_size': 30, 'metric': 'euclidean', 'n_jobs': -1, 'n_neighbors': 23, 'weights': 'uniform'}\n",
      "130.281000 (28.465390) with: {'algorithm': 'auto', 'leaf_size': 30, 'metric': 'manhattan', 'n_jobs': -1, 'n_neighbors': 5, 'weights': 'uniform'}\n",
      "127.246321 (28.974750) with: {'algorithm': 'auto', 'leaf_size': 30, 'metric': 'manhattan', 'n_jobs': -1, 'n_neighbors': 7, 'weights': 'uniform'}\n",
      "125.464332 (27.906966) with: {'algorithm': 'auto', 'leaf_size': 30, 'metric': 'manhattan', 'n_jobs': -1, 'n_neighbors': 9, 'weights': 'uniform'}\n",
      "124.020306 (28.317222) with: {'algorithm': 'auto', 'leaf_size': 30, 'metric': 'manhattan', 'n_jobs': -1, 'n_neighbors': 11, 'weights': 'uniform'}\n",
      "123.214691 (26.649201) with: {'algorithm': 'auto', 'leaf_size': 30, 'metric': 'manhattan', 'n_jobs': -1, 'n_neighbors': 13, 'weights': 'uniform'}\n",
      "122.472793 (24.503176) with: {'algorithm': 'auto', 'leaf_size': 30, 'metric': 'manhattan', 'n_jobs': -1, 'n_neighbors': 15, 'weights': 'uniform'}\n",
      "122.134688 (24.328718) with: {'algorithm': 'auto', 'leaf_size': 30, 'metric': 'manhattan', 'n_jobs': -1, 'n_neighbors': 17, 'weights': 'uniform'}\n",
      "121.497554 (24.054313) with: {'algorithm': 'auto', 'leaf_size': 30, 'metric': 'manhattan', 'n_jobs': -1, 'n_neighbors': 19, 'weights': 'uniform'}\n",
      "121.429410 (24.170613) with: {'algorithm': 'auto', 'leaf_size': 30, 'metric': 'manhattan', 'n_jobs': -1, 'n_neighbors': 21, 'weights': 'uniform'}\n",
      "121.240223 (24.079695) with: {'algorithm': 'auto', 'leaf_size': 30, 'metric': 'manhattan', 'n_jobs': -1, 'n_neighbors': 23, 'weights': 'uniform'}\n",
      "130.404158 (29.205358) with: {'algorithm': 'auto', 'leaf_size': 30, 'metric': 'minkowski', 'n_jobs': -1, 'n_neighbors': 5, 'weights': 'uniform'}\n",
      "127.489932 (29.261635) with: {'algorithm': 'auto', 'leaf_size': 30, 'metric': 'minkowski', 'n_jobs': -1, 'n_neighbors': 7, 'weights': 'uniform'}\n",
      "125.539788 (28.033959) with: {'algorithm': 'auto', 'leaf_size': 30, 'metric': 'minkowski', 'n_jobs': -1, 'n_neighbors': 9, 'weights': 'uniform'}\n",
      "124.183519 (28.288850) with: {'algorithm': 'auto', 'leaf_size': 30, 'metric': 'minkowski', 'n_jobs': -1, 'n_neighbors': 11, 'weights': 'uniform'}\n",
      "123.359396 (27.285048) with: {'algorithm': 'auto', 'leaf_size': 30, 'metric': 'minkowski', 'n_jobs': -1, 'n_neighbors': 13, 'weights': 'uniform'}\n",
      "122.646951 (24.779461) with: {'algorithm': 'auto', 'leaf_size': 30, 'metric': 'minkowski', 'n_jobs': -1, 'n_neighbors': 15, 'weights': 'uniform'}\n",
      "122.169557 (24.015615) with: {'algorithm': 'auto', 'leaf_size': 30, 'metric': 'minkowski', 'n_jobs': -1, 'n_neighbors': 17, 'weights': 'uniform'}\n",
      "121.572558 (23.813537) with: {'algorithm': 'auto', 'leaf_size': 30, 'metric': 'minkowski', 'n_jobs': -1, 'n_neighbors': 19, 'weights': 'uniform'}\n",
      "121.561114 (23.992810) with: {'algorithm': 'auto', 'leaf_size': 30, 'metric': 'minkowski', 'n_jobs': -1, 'n_neighbors': 21, 'weights': 'uniform'}\n",
      "121.377001 (23.527784) with: {'algorithm': 'auto', 'leaf_size': 30, 'metric': 'minkowski', 'n_jobs': -1, 'n_neighbors': 23, 'weights': 'uniform'}\n",
      "130.041631 (26.091776) with: {'algorithm': 'auto', 'leaf_size': 40, 'metric': 'euclidean', 'n_jobs': -1, 'n_neighbors': 5, 'weights': 'uniform'}\n",
      "126.846387 (26.449220) with: {'algorithm': 'auto', 'leaf_size': 40, 'metric': 'euclidean', 'n_jobs': -1, 'n_neighbors': 7, 'weights': 'uniform'}\n",
      "125.513196 (26.388136) with: {'algorithm': 'auto', 'leaf_size': 40, 'metric': 'euclidean', 'n_jobs': -1, 'n_neighbors': 9, 'weights': 'uniform'}\n",
      "123.817895 (28.053692) with: {'algorithm': 'auto', 'leaf_size': 40, 'metric': 'euclidean', 'n_jobs': -1, 'n_neighbors': 11, 'weights': 'uniform'}\n",
      "123.265614 (25.970747) with: {'algorithm': 'auto', 'leaf_size': 40, 'metric': 'euclidean', 'n_jobs': -1, 'n_neighbors': 13, 'weights': 'uniform'}\n",
      "122.487124 (23.671710) with: {'algorithm': 'auto', 'leaf_size': 40, 'metric': 'euclidean', 'n_jobs': -1, 'n_neighbors': 15, 'weights': 'uniform'}\n",
      "122.168443 (24.356808) with: {'algorithm': 'auto', 'leaf_size': 40, 'metric': 'euclidean', 'n_jobs': -1, 'n_neighbors': 17, 'weights': 'uniform'}\n",
      "121.774475 (25.117238) with: {'algorithm': 'auto', 'leaf_size': 40, 'metric': 'euclidean', 'n_jobs': -1, 'n_neighbors': 19, 'weights': 'uniform'}\n",
      "121.490768 (24.825914) with: {'algorithm': 'auto', 'leaf_size': 40, 'metric': 'euclidean', 'n_jobs': -1, 'n_neighbors': 21, 'weights': 'uniform'}\n",
      "121.396366 (23.260719) with: {'algorithm': 'auto', 'leaf_size': 40, 'metric': 'euclidean', 'n_jobs': -1, 'n_neighbors': 23, 'weights': 'uniform'}\n",
      "129.969357 (24.811405) with: {'algorithm': 'auto', 'leaf_size': 40, 'metric': 'manhattan', 'n_jobs': -1, 'n_neighbors': 5, 'weights': 'uniform'}\n",
      "126.634593 (25.748022) with: {'algorithm': 'auto', 'leaf_size': 40, 'metric': 'manhattan', 'n_jobs': -1, 'n_neighbors': 7, 'weights': 'uniform'}\n",
      "125.389575 (26.603013) with: {'algorithm': 'auto', 'leaf_size': 40, 'metric': 'manhattan', 'n_jobs': -1, 'n_neighbors': 9, 'weights': 'uniform'}\n",
      "123.749082 (28.337859) with: {'algorithm': 'auto', 'leaf_size': 40, 'metric': 'manhattan', 'n_jobs': -1, 'n_neighbors': 11, 'weights': 'uniform'}\n",
      "123.002563 (26.746612) with: {'algorithm': 'auto', 'leaf_size': 40, 'metric': 'manhattan', 'n_jobs': -1, 'n_neighbors': 13, 'weights': 'uniform'}\n",
      "122.362254 (24.007276) with: {'algorithm': 'auto', 'leaf_size': 40, 'metric': 'manhattan', 'n_jobs': -1, 'n_neighbors': 15, 'weights': 'uniform'}\n",
      "122.032211 (23.815034) with: {'algorithm': 'auto', 'leaf_size': 40, 'metric': 'manhattan', 'n_jobs': -1, 'n_neighbors': 17, 'weights': 'uniform'}\n",
      "121.717067 (24.715563) with: {'algorithm': 'auto', 'leaf_size': 40, 'metric': 'manhattan', 'n_jobs': -1, 'n_neighbors': 19, 'weights': 'uniform'}\n",
      "121.486045 (24.072461) with: {'algorithm': 'auto', 'leaf_size': 40, 'metric': 'manhattan', 'n_jobs': -1, 'n_neighbors': 21, 'weights': 'uniform'}\n",
      "121.293336 (24.354495) with: {'algorithm': 'auto', 'leaf_size': 40, 'metric': 'manhattan', 'n_jobs': -1, 'n_neighbors': 23, 'weights': 'uniform'}\n",
      "130.041631 (26.091776) with: {'algorithm': 'auto', 'leaf_size': 40, 'metric': 'minkowski', 'n_jobs': -1, 'n_neighbors': 5, 'weights': 'uniform'}\n",
      "126.846387 (26.449220) with: {'algorithm': 'auto', 'leaf_size': 40, 'metric': 'minkowski', 'n_jobs': -1, 'n_neighbors': 7, 'weights': 'uniform'}\n",
      "125.513196 (26.388136) with: {'algorithm': 'auto', 'leaf_size': 40, 'metric': 'minkowski', 'n_jobs': -1, 'n_neighbors': 9, 'weights': 'uniform'}\n",
      "123.817895 (28.053692) with: {'algorithm': 'auto', 'leaf_size': 40, 'metric': 'minkowski', 'n_jobs': -1, 'n_neighbors': 11, 'weights': 'uniform'}\n",
      "123.265614 (25.970747) with: {'algorithm': 'auto', 'leaf_size': 40, 'metric': 'minkowski', 'n_jobs': -1, 'n_neighbors': 13, 'weights': 'uniform'}\n",
      "122.487124 (23.671710) with: {'algorithm': 'auto', 'leaf_size': 40, 'metric': 'minkowski', 'n_jobs': -1, 'n_neighbors': 15, 'weights': 'uniform'}\n",
      "122.168443 (24.356808) with: {'algorithm': 'auto', 'leaf_size': 40, 'metric': 'minkowski', 'n_jobs': -1, 'n_neighbors': 17, 'weights': 'uniform'}\n",
      "121.774475 (25.117238) with: {'algorithm': 'auto', 'leaf_size': 40, 'metric': 'minkowski', 'n_jobs': -1, 'n_neighbors': 19, 'weights': 'uniform'}\n",
      "121.490768 (24.825914) with: {'algorithm': 'auto', 'leaf_size': 40, 'metric': 'minkowski', 'n_jobs': -1, 'n_neighbors': 21, 'weights': 'uniform'}\n",
      "121.396366 (23.260719) with: {'algorithm': 'auto', 'leaf_size': 40, 'metric': 'minkowski', 'n_jobs': -1, 'n_neighbors': 23, 'weights': 'uniform'}\n",
      "130.041631 (26.091776) with: {'algorithm': 'auto', 'leaf_size': 50, 'metric': 'euclidean', 'n_jobs': -1, 'n_neighbors': 5, 'weights': 'uniform'}\n",
      "126.846387 (26.449220) with: {'algorithm': 'auto', 'leaf_size': 50, 'metric': 'euclidean', 'n_jobs': -1, 'n_neighbors': 7, 'weights': 'uniform'}\n",
      "125.513196 (26.388136) with: {'algorithm': 'auto', 'leaf_size': 50, 'metric': 'euclidean', 'n_jobs': -1, 'n_neighbors': 9, 'weights': 'uniform'}\n",
      "123.817895 (28.053692) with: {'algorithm': 'auto', 'leaf_size': 50, 'metric': 'euclidean', 'n_jobs': -1, 'n_neighbors': 11, 'weights': 'uniform'}\n",
      "123.265614 (25.970747) with: {'algorithm': 'auto', 'leaf_size': 50, 'metric': 'euclidean', 'n_jobs': -1, 'n_neighbors': 13, 'weights': 'uniform'}\n",
      "122.487124 (23.671710) with: {'algorithm': 'auto', 'leaf_size': 50, 'metric': 'euclidean', 'n_jobs': -1, 'n_neighbors': 15, 'weights': 'uniform'}\n",
      "122.168443 (24.356808) with: {'algorithm': 'auto', 'leaf_size': 50, 'metric': 'euclidean', 'n_jobs': -1, 'n_neighbors': 17, 'weights': 'uniform'}\n",
      "121.774475 (25.117238) with: {'algorithm': 'auto', 'leaf_size': 50, 'metric': 'euclidean', 'n_jobs': -1, 'n_neighbors': 19, 'weights': 'uniform'}\n",
      "121.490768 (24.825914) with: {'algorithm': 'auto', 'leaf_size': 50, 'metric': 'euclidean', 'n_jobs': -1, 'n_neighbors': 21, 'weights': 'uniform'}\n",
      "121.396366 (23.260719) with: {'algorithm': 'auto', 'leaf_size': 50, 'metric': 'euclidean', 'n_jobs': -1, 'n_neighbors': 23, 'weights': 'uniform'}\n",
      "129.969357 (24.811405) with: {'algorithm': 'auto', 'leaf_size': 50, 'metric': 'manhattan', 'n_jobs': -1, 'n_neighbors': 5, 'weights': 'uniform'}\n",
      "126.634593 (25.748022) with: {'algorithm': 'auto', 'leaf_size': 50, 'metric': 'manhattan', 'n_jobs': -1, 'n_neighbors': 7, 'weights': 'uniform'}\n",
      "125.389575 (26.603013) with: {'algorithm': 'auto', 'leaf_size': 50, 'metric': 'manhattan', 'n_jobs': -1, 'n_neighbors': 9, 'weights': 'uniform'}\n",
      "123.749082 (28.337859) with: {'algorithm': 'auto', 'leaf_size': 50, 'metric': 'manhattan', 'n_jobs': -1, 'n_neighbors': 11, 'weights': 'uniform'}\n",
      "123.002563 (26.746612) with: {'algorithm': 'auto', 'leaf_size': 50, 'metric': 'manhattan', 'n_jobs': -1, 'n_neighbors': 13, 'weights': 'uniform'}\n",
      "122.362254 (24.007276) with: {'algorithm': 'auto', 'leaf_size': 50, 'metric': 'manhattan', 'n_jobs': -1, 'n_neighbors': 15, 'weights': 'uniform'}\n",
      "122.032211 (23.815034) with: {'algorithm': 'auto', 'leaf_size': 50, 'metric': 'manhattan', 'n_jobs': -1, 'n_neighbors': 17, 'weights': 'uniform'}\n",
      "121.717067 (24.715563) with: {'algorithm': 'auto', 'leaf_size': 50, 'metric': 'manhattan', 'n_jobs': -1, 'n_neighbors': 19, 'weights': 'uniform'}\n",
      "121.486045 (24.072461) with: {'algorithm': 'auto', 'leaf_size': 50, 'metric': 'manhattan', 'n_jobs': -1, 'n_neighbors': 21, 'weights': 'uniform'}\n",
      "121.293336 (24.354495) with: {'algorithm': 'auto', 'leaf_size': 50, 'metric': 'manhattan', 'n_jobs': -1, 'n_neighbors': 23, 'weights': 'uniform'}\n",
      "130.041631 (26.091776) with: {'algorithm': 'auto', 'leaf_size': 50, 'metric': 'minkowski', 'n_jobs': -1, 'n_neighbors': 5, 'weights': 'uniform'}\n",
      "126.846387 (26.449220) with: {'algorithm': 'auto', 'leaf_size': 50, 'metric': 'minkowski', 'n_jobs': -1, 'n_neighbors': 7, 'weights': 'uniform'}\n",
      "125.513196 (26.388136) with: {'algorithm': 'auto', 'leaf_size': 50, 'metric': 'minkowski', 'n_jobs': -1, 'n_neighbors': 9, 'weights': 'uniform'}\n",
      "123.817895 (28.053692) with: {'algorithm': 'auto', 'leaf_size': 50, 'metric': 'minkowski', 'n_jobs': -1, 'n_neighbors': 11, 'weights': 'uniform'}\n",
      "123.265614 (25.970747) with: {'algorithm': 'auto', 'leaf_size': 50, 'metric': 'minkowski', 'n_jobs': -1, 'n_neighbors': 13, 'weights': 'uniform'}\n",
      "122.487124 (23.671710) with: {'algorithm': 'auto', 'leaf_size': 50, 'metric': 'minkowski', 'n_jobs': -1, 'n_neighbors': 15, 'weights': 'uniform'}\n",
      "122.168443 (24.356808) with: {'algorithm': 'auto', 'leaf_size': 50, 'metric': 'minkowski', 'n_jobs': -1, 'n_neighbors': 17, 'weights': 'uniform'}\n",
      "121.774475 (25.117238) with: {'algorithm': 'auto', 'leaf_size': 50, 'metric': 'minkowski', 'n_jobs': -1, 'n_neighbors': 19, 'weights': 'uniform'}\n",
      "121.490768 (24.825914) with: {'algorithm': 'auto', 'leaf_size': 50, 'metric': 'minkowski', 'n_jobs': -1, 'n_neighbors': 21, 'weights': 'uniform'}\n",
      "121.396366 (23.260719) with: {'algorithm': 'auto', 'leaf_size': 50, 'metric': 'minkowski', 'n_jobs': -1, 'n_neighbors': 23, 'weights': 'uniform'}\n",
      "130.842733 (28.194666) with: {'algorithm': 'brute', 'leaf_size': 10, 'metric': 'euclidean', 'n_jobs': -1, 'n_neighbors': 5, 'weights': 'uniform'}\n",
      "128.155286 (22.300788) with: {'algorithm': 'brute', 'leaf_size': 10, 'metric': 'euclidean', 'n_jobs': -1, 'n_neighbors': 7, 'weights': 'uniform'}\n",
      "126.001258 (26.128809) with: {'algorithm': 'brute', 'leaf_size': 10, 'metric': 'euclidean', 'n_jobs': -1, 'n_neighbors': 9, 'weights': 'uniform'}\n",
      "124.513719 (25.977618) with: {'algorithm': 'brute', 'leaf_size': 10, 'metric': 'euclidean', 'n_jobs': -1, 'n_neighbors': 11, 'weights': 'uniform'}\n",
      "123.687630 (26.624042) with: {'algorithm': 'brute', 'leaf_size': 10, 'metric': 'euclidean', 'n_jobs': -1, 'n_neighbors': 13, 'weights': 'uniform'}\n",
      "123.199822 (25.227464) with: {'algorithm': 'brute', 'leaf_size': 10, 'metric': 'euclidean', 'n_jobs': -1, 'n_neighbors': 15, 'weights': 'uniform'}\n",
      "122.726714 (23.756830) with: {'algorithm': 'brute', 'leaf_size': 10, 'metric': 'euclidean', 'n_jobs': -1, 'n_neighbors': 17, 'weights': 'uniform'}\n",
      "122.111269 (22.679669) with: {'algorithm': 'brute', 'leaf_size': 10, 'metric': 'euclidean', 'n_jobs': -1, 'n_neighbors': 19, 'weights': 'uniform'}\n",
      "121.956278 (22.708061) with: {'algorithm': 'brute', 'leaf_size': 10, 'metric': 'euclidean', 'n_jobs': -1, 'n_neighbors': 21, 'weights': 'uniform'}\n",
      "121.828239 (22.937505) with: {'algorithm': 'brute', 'leaf_size': 10, 'metric': 'euclidean', 'n_jobs': -1, 'n_neighbors': 23, 'weights': 'uniform'}\n",
      "130.350359 (22.428366) with: {'algorithm': 'brute', 'leaf_size': 10, 'metric': 'manhattan', 'n_jobs': -1, 'n_neighbors': 5, 'weights': 'uniform'}\n",
      "126.689038 (23.218993) with: {'algorithm': 'brute', 'leaf_size': 10, 'metric': 'manhattan', 'n_jobs': -1, 'n_neighbors': 7, 'weights': 'uniform'}\n",
      "125.076576 (24.265788) with: {'algorithm': 'brute', 'leaf_size': 10, 'metric': 'manhattan', 'n_jobs': -1, 'n_neighbors': 9, 'weights': 'uniform'}\n",
      "123.963484 (25.163215) with: {'algorithm': 'brute', 'leaf_size': 10, 'metric': 'manhattan', 'n_jobs': -1, 'n_neighbors': 11, 'weights': 'uniform'}\n",
      "123.211163 (24.624863) with: {'algorithm': 'brute', 'leaf_size': 10, 'metric': 'manhattan', 'n_jobs': -1, 'n_neighbors': 13, 'weights': 'uniform'}\n",
      "122.390695 (24.888586) with: {'algorithm': 'brute', 'leaf_size': 10, 'metric': 'manhattan', 'n_jobs': -1, 'n_neighbors': 15, 'weights': 'uniform'}\n",
      "121.920990 (25.337950) with: {'algorithm': 'brute', 'leaf_size': 10, 'metric': 'manhattan', 'n_jobs': -1, 'n_neighbors': 17, 'weights': 'uniform'}\n",
      "121.544633 (25.362022) with: {'algorithm': 'brute', 'leaf_size': 10, 'metric': 'manhattan', 'n_jobs': -1, 'n_neighbors': 19, 'weights': 'uniform'}\n",
      "121.318812 (26.103527) with: {'algorithm': 'brute', 'leaf_size': 10, 'metric': 'manhattan', 'n_jobs': -1, 'n_neighbors': 21, 'weights': 'uniform'}\n",
      "121.105506 (26.802906) with: {'algorithm': 'brute', 'leaf_size': 10, 'metric': 'manhattan', 'n_jobs': -1, 'n_neighbors': 23, 'weights': 'uniform'}\n",
      "130.842733 (28.194666) with: {'algorithm': 'brute', 'leaf_size': 10, 'metric': 'minkowski', 'n_jobs': -1, 'n_neighbors': 5, 'weights': 'uniform'}\n",
      "128.155286 (22.300788) with: {'algorithm': 'brute', 'leaf_size': 10, 'metric': 'minkowski', 'n_jobs': -1, 'n_neighbors': 7, 'weights': 'uniform'}\n",
      "126.001258 (26.128809) with: {'algorithm': 'brute', 'leaf_size': 10, 'metric': 'minkowski', 'n_jobs': -1, 'n_neighbors': 9, 'weights': 'uniform'}\n",
      "124.513719 (25.977618) with: {'algorithm': 'brute', 'leaf_size': 10, 'metric': 'minkowski', 'n_jobs': -1, 'n_neighbors': 11, 'weights': 'uniform'}\n",
      "123.687630 (26.624042) with: {'algorithm': 'brute', 'leaf_size': 10, 'metric': 'minkowski', 'n_jobs': -1, 'n_neighbors': 13, 'weights': 'uniform'}\n",
      "123.199822 (25.227464) with: {'algorithm': 'brute', 'leaf_size': 10, 'metric': 'minkowski', 'n_jobs': -1, 'n_neighbors': 15, 'weights': 'uniform'}\n",
      "122.726714 (23.756830) with: {'algorithm': 'brute', 'leaf_size': 10, 'metric': 'minkowski', 'n_jobs': -1, 'n_neighbors': 17, 'weights': 'uniform'}\n",
      "122.111269 (22.679669) with: {'algorithm': 'brute', 'leaf_size': 10, 'metric': 'minkowski', 'n_jobs': -1, 'n_neighbors': 19, 'weights': 'uniform'}\n",
      "121.956278 (22.708061) with: {'algorithm': 'brute', 'leaf_size': 10, 'metric': 'minkowski', 'n_jobs': -1, 'n_neighbors': 21, 'weights': 'uniform'}\n",
      "121.828239 (22.937505) with: {'algorithm': 'brute', 'leaf_size': 10, 'metric': 'minkowski', 'n_jobs': -1, 'n_neighbors': 23, 'weights': 'uniform'}\n",
      "130.842733 (28.194666) with: {'algorithm': 'brute', 'leaf_size': 20, 'metric': 'euclidean', 'n_jobs': -1, 'n_neighbors': 5, 'weights': 'uniform'}\n",
      "128.155286 (22.300788) with: {'algorithm': 'brute', 'leaf_size': 20, 'metric': 'euclidean', 'n_jobs': -1, 'n_neighbors': 7, 'weights': 'uniform'}\n",
      "126.001258 (26.128809) with: {'algorithm': 'brute', 'leaf_size': 20, 'metric': 'euclidean', 'n_jobs': -1, 'n_neighbors': 9, 'weights': 'uniform'}\n",
      "124.513719 (25.977618) with: {'algorithm': 'brute', 'leaf_size': 20, 'metric': 'euclidean', 'n_jobs': -1, 'n_neighbors': 11, 'weights': 'uniform'}\n",
      "123.687630 (26.624042) with: {'algorithm': 'brute', 'leaf_size': 20, 'metric': 'euclidean', 'n_jobs': -1, 'n_neighbors': 13, 'weights': 'uniform'}\n",
      "123.199822 (25.227464) with: {'algorithm': 'brute', 'leaf_size': 20, 'metric': 'euclidean', 'n_jobs': -1, 'n_neighbors': 15, 'weights': 'uniform'}\n",
      "122.726714 (23.756830) with: {'algorithm': 'brute', 'leaf_size': 20, 'metric': 'euclidean', 'n_jobs': -1, 'n_neighbors': 17, 'weights': 'uniform'}\n",
      "122.111269 (22.679669) with: {'algorithm': 'brute', 'leaf_size': 20, 'metric': 'euclidean', 'n_jobs': -1, 'n_neighbors': 19, 'weights': 'uniform'}\n",
      "121.956278 (22.708061) with: {'algorithm': 'brute', 'leaf_size': 20, 'metric': 'euclidean', 'n_jobs': -1, 'n_neighbors': 21, 'weights': 'uniform'}\n",
      "121.828239 (22.937505) with: {'algorithm': 'brute', 'leaf_size': 20, 'metric': 'euclidean', 'n_jobs': -1, 'n_neighbors': 23, 'weights': 'uniform'}\n",
      "130.350359 (22.428366) with: {'algorithm': 'brute', 'leaf_size': 20, 'metric': 'manhattan', 'n_jobs': -1, 'n_neighbors': 5, 'weights': 'uniform'}\n",
      "126.689038 (23.218993) with: {'algorithm': 'brute', 'leaf_size': 20, 'metric': 'manhattan', 'n_jobs': -1, 'n_neighbors': 7, 'weights': 'uniform'}\n",
      "125.076576 (24.265788) with: {'algorithm': 'brute', 'leaf_size': 20, 'metric': 'manhattan', 'n_jobs': -1, 'n_neighbors': 9, 'weights': 'uniform'}\n",
      "123.963484 (25.163215) with: {'algorithm': 'brute', 'leaf_size': 20, 'metric': 'manhattan', 'n_jobs': -1, 'n_neighbors': 11, 'weights': 'uniform'}\n",
      "123.211163 (24.624863) with: {'algorithm': 'brute', 'leaf_size': 20, 'metric': 'manhattan', 'n_jobs': -1, 'n_neighbors': 13, 'weights': 'uniform'}\n",
      "122.390695 (24.888586) with: {'algorithm': 'brute', 'leaf_size': 20, 'metric': 'manhattan', 'n_jobs': -1, 'n_neighbors': 15, 'weights': 'uniform'}\n",
      "121.920990 (25.337950) with: {'algorithm': 'brute', 'leaf_size': 20, 'metric': 'manhattan', 'n_jobs': -1, 'n_neighbors': 17, 'weights': 'uniform'}\n",
      "121.544633 (25.362022) with: {'algorithm': 'brute', 'leaf_size': 20, 'metric': 'manhattan', 'n_jobs': -1, 'n_neighbors': 19, 'weights': 'uniform'}\n",
      "121.318812 (26.103527) with: {'algorithm': 'brute', 'leaf_size': 20, 'metric': 'manhattan', 'n_jobs': -1, 'n_neighbors': 21, 'weights': 'uniform'}\n",
      "121.105506 (26.802906) with: {'algorithm': 'brute', 'leaf_size': 20, 'metric': 'manhattan', 'n_jobs': -1, 'n_neighbors': 23, 'weights': 'uniform'}\n",
      "130.842733 (28.194666) with: {'algorithm': 'brute', 'leaf_size': 20, 'metric': 'minkowski', 'n_jobs': -1, 'n_neighbors': 5, 'weights': 'uniform'}\n",
      "128.155286 (22.300788) with: {'algorithm': 'brute', 'leaf_size': 20, 'metric': 'minkowski', 'n_jobs': -1, 'n_neighbors': 7, 'weights': 'uniform'}\n",
      "126.001258 (26.128809) with: {'algorithm': 'brute', 'leaf_size': 20, 'metric': 'minkowski', 'n_jobs': -1, 'n_neighbors': 9, 'weights': 'uniform'}\n",
      "124.513719 (25.977618) with: {'algorithm': 'brute', 'leaf_size': 20, 'metric': 'minkowski', 'n_jobs': -1, 'n_neighbors': 11, 'weights': 'uniform'}\n",
      "123.687630 (26.624042) with: {'algorithm': 'brute', 'leaf_size': 20, 'metric': 'minkowski', 'n_jobs': -1, 'n_neighbors': 13, 'weights': 'uniform'}\n",
      "123.199822 (25.227464) with: {'algorithm': 'brute', 'leaf_size': 20, 'metric': 'minkowski', 'n_jobs': -1, 'n_neighbors': 15, 'weights': 'uniform'}\n",
      "122.726714 (23.756830) with: {'algorithm': 'brute', 'leaf_size': 20, 'metric': 'minkowski', 'n_jobs': -1, 'n_neighbors': 17, 'weights': 'uniform'}\n",
      "122.111269 (22.679669) with: {'algorithm': 'brute', 'leaf_size': 20, 'metric': 'minkowski', 'n_jobs': -1, 'n_neighbors': 19, 'weights': 'uniform'}\n",
      "121.956278 (22.708061) with: {'algorithm': 'brute', 'leaf_size': 20, 'metric': 'minkowski', 'n_jobs': -1, 'n_neighbors': 21, 'weights': 'uniform'}\n",
      "121.828239 (22.937505) with: {'algorithm': 'brute', 'leaf_size': 20, 'metric': 'minkowski', 'n_jobs': -1, 'n_neighbors': 23, 'weights': 'uniform'}\n",
      "130.842733 (28.194666) with: {'algorithm': 'brute', 'leaf_size': 30, 'metric': 'euclidean', 'n_jobs': -1, 'n_neighbors': 5, 'weights': 'uniform'}\n",
      "128.155286 (22.300788) with: {'algorithm': 'brute', 'leaf_size': 30, 'metric': 'euclidean', 'n_jobs': -1, 'n_neighbors': 7, 'weights': 'uniform'}\n",
      "126.001258 (26.128809) with: {'algorithm': 'brute', 'leaf_size': 30, 'metric': 'euclidean', 'n_jobs': -1, 'n_neighbors': 9, 'weights': 'uniform'}\n",
      "124.513719 (25.977618) with: {'algorithm': 'brute', 'leaf_size': 30, 'metric': 'euclidean', 'n_jobs': -1, 'n_neighbors': 11, 'weights': 'uniform'}\n",
      "123.687630 (26.624042) with: {'algorithm': 'brute', 'leaf_size': 30, 'metric': 'euclidean', 'n_jobs': -1, 'n_neighbors': 13, 'weights': 'uniform'}\n",
      "123.199822 (25.227464) with: {'algorithm': 'brute', 'leaf_size': 30, 'metric': 'euclidean', 'n_jobs': -1, 'n_neighbors': 15, 'weights': 'uniform'}\n",
      "122.726714 (23.756830) with: {'algorithm': 'brute', 'leaf_size': 30, 'metric': 'euclidean', 'n_jobs': -1, 'n_neighbors': 17, 'weights': 'uniform'}\n",
      "122.111269 (22.679669) with: {'algorithm': 'brute', 'leaf_size': 30, 'metric': 'euclidean', 'n_jobs': -1, 'n_neighbors': 19, 'weights': 'uniform'}\n",
      "121.956278 (22.708061) with: {'algorithm': 'brute', 'leaf_size': 30, 'metric': 'euclidean', 'n_jobs': -1, 'n_neighbors': 21, 'weights': 'uniform'}\n",
      "121.828239 (22.937505) with: {'algorithm': 'brute', 'leaf_size': 30, 'metric': 'euclidean', 'n_jobs': -1, 'n_neighbors': 23, 'weights': 'uniform'}\n",
      "130.350359 (22.428366) with: {'algorithm': 'brute', 'leaf_size': 30, 'metric': 'manhattan', 'n_jobs': -1, 'n_neighbors': 5, 'weights': 'uniform'}\n",
      "126.689038 (23.218993) with: {'algorithm': 'brute', 'leaf_size': 30, 'metric': 'manhattan', 'n_jobs': -1, 'n_neighbors': 7, 'weights': 'uniform'}\n",
      "125.076576 (24.265788) with: {'algorithm': 'brute', 'leaf_size': 30, 'metric': 'manhattan', 'n_jobs': -1, 'n_neighbors': 9, 'weights': 'uniform'}\n",
      "123.963484 (25.163215) with: {'algorithm': 'brute', 'leaf_size': 30, 'metric': 'manhattan', 'n_jobs': -1, 'n_neighbors': 11, 'weights': 'uniform'}\n",
      "123.211163 (24.624863) with: {'algorithm': 'brute', 'leaf_size': 30, 'metric': 'manhattan', 'n_jobs': -1, 'n_neighbors': 13, 'weights': 'uniform'}\n",
      "122.390695 (24.888586) with: {'algorithm': 'brute', 'leaf_size': 30, 'metric': 'manhattan', 'n_jobs': -1, 'n_neighbors': 15, 'weights': 'uniform'}\n",
      "121.920990 (25.337950) with: {'algorithm': 'brute', 'leaf_size': 30, 'metric': 'manhattan', 'n_jobs': -1, 'n_neighbors': 17, 'weights': 'uniform'}\n",
      "121.544633 (25.362022) with: {'algorithm': 'brute', 'leaf_size': 30, 'metric': 'manhattan', 'n_jobs': -1, 'n_neighbors': 19, 'weights': 'uniform'}\n",
      "121.318812 (26.103527) with: {'algorithm': 'brute', 'leaf_size': 30, 'metric': 'manhattan', 'n_jobs': -1, 'n_neighbors': 21, 'weights': 'uniform'}\n",
      "121.105506 (26.802906) with: {'algorithm': 'brute', 'leaf_size': 30, 'metric': 'manhattan', 'n_jobs': -1, 'n_neighbors': 23, 'weights': 'uniform'}\n",
      "130.842733 (28.194666) with: {'algorithm': 'brute', 'leaf_size': 30, 'metric': 'minkowski', 'n_jobs': -1, 'n_neighbors': 5, 'weights': 'uniform'}\n",
      "128.155286 (22.300788) with: {'algorithm': 'brute', 'leaf_size': 30, 'metric': 'minkowski', 'n_jobs': -1, 'n_neighbors': 7, 'weights': 'uniform'}\n",
      "126.001258 (26.128809) with: {'algorithm': 'brute', 'leaf_size': 30, 'metric': 'minkowski', 'n_jobs': -1, 'n_neighbors': 9, 'weights': 'uniform'}\n",
      "124.513719 (25.977618) with: {'algorithm': 'brute', 'leaf_size': 30, 'metric': 'minkowski', 'n_jobs': -1, 'n_neighbors': 11, 'weights': 'uniform'}\n",
      "123.687630 (26.624042) with: {'algorithm': 'brute', 'leaf_size': 30, 'metric': 'minkowski', 'n_jobs': -1, 'n_neighbors': 13, 'weights': 'uniform'}\n",
      "123.199822 (25.227464) with: {'algorithm': 'brute', 'leaf_size': 30, 'metric': 'minkowski', 'n_jobs': -1, 'n_neighbors': 15, 'weights': 'uniform'}\n",
      "122.726714 (23.756830) with: {'algorithm': 'brute', 'leaf_size': 30, 'metric': 'minkowski', 'n_jobs': -1, 'n_neighbors': 17, 'weights': 'uniform'}\n",
      "122.111269 (22.679669) with: {'algorithm': 'brute', 'leaf_size': 30, 'metric': 'minkowski', 'n_jobs': -1, 'n_neighbors': 19, 'weights': 'uniform'}\n",
      "121.956278 (22.708061) with: {'algorithm': 'brute', 'leaf_size': 30, 'metric': 'minkowski', 'n_jobs': -1, 'n_neighbors': 21, 'weights': 'uniform'}\n",
      "121.828239 (22.937505) with: {'algorithm': 'brute', 'leaf_size': 30, 'metric': 'minkowski', 'n_jobs': -1, 'n_neighbors': 23, 'weights': 'uniform'}\n",
      "130.842733 (28.194666) with: {'algorithm': 'brute', 'leaf_size': 40, 'metric': 'euclidean', 'n_jobs': -1, 'n_neighbors': 5, 'weights': 'uniform'}\n",
      "128.155286 (22.300788) with: {'algorithm': 'brute', 'leaf_size': 40, 'metric': 'euclidean', 'n_jobs': -1, 'n_neighbors': 7, 'weights': 'uniform'}\n",
      "126.001258 (26.128809) with: {'algorithm': 'brute', 'leaf_size': 40, 'metric': 'euclidean', 'n_jobs': -1, 'n_neighbors': 9, 'weights': 'uniform'}\n",
      "124.513719 (25.977618) with: {'algorithm': 'brute', 'leaf_size': 40, 'metric': 'euclidean', 'n_jobs': -1, 'n_neighbors': 11, 'weights': 'uniform'}\n",
      "123.687630 (26.624042) with: {'algorithm': 'brute', 'leaf_size': 40, 'metric': 'euclidean', 'n_jobs': -1, 'n_neighbors': 13, 'weights': 'uniform'}\n",
      "123.199822 (25.227464) with: {'algorithm': 'brute', 'leaf_size': 40, 'metric': 'euclidean', 'n_jobs': -1, 'n_neighbors': 15, 'weights': 'uniform'}\n",
      "122.726714 (23.756830) with: {'algorithm': 'brute', 'leaf_size': 40, 'metric': 'euclidean', 'n_jobs': -1, 'n_neighbors': 17, 'weights': 'uniform'}\n",
      "122.111269 (22.679669) with: {'algorithm': 'brute', 'leaf_size': 40, 'metric': 'euclidean', 'n_jobs': -1, 'n_neighbors': 19, 'weights': 'uniform'}\n",
      "121.956278 (22.708061) with: {'algorithm': 'brute', 'leaf_size': 40, 'metric': 'euclidean', 'n_jobs': -1, 'n_neighbors': 21, 'weights': 'uniform'}\n",
      "121.828239 (22.937505) with: {'algorithm': 'brute', 'leaf_size': 40, 'metric': 'euclidean', 'n_jobs': -1, 'n_neighbors': 23, 'weights': 'uniform'}\n",
      "130.350359 (22.428366) with: {'algorithm': 'brute', 'leaf_size': 40, 'metric': 'manhattan', 'n_jobs': -1, 'n_neighbors': 5, 'weights': 'uniform'}\n",
      "126.689038 (23.218993) with: {'algorithm': 'brute', 'leaf_size': 40, 'metric': 'manhattan', 'n_jobs': -1, 'n_neighbors': 7, 'weights': 'uniform'}\n",
      "125.076576 (24.265788) with: {'algorithm': 'brute', 'leaf_size': 40, 'metric': 'manhattan', 'n_jobs': -1, 'n_neighbors': 9, 'weights': 'uniform'}\n",
      "123.963484 (25.163215) with: {'algorithm': 'brute', 'leaf_size': 40, 'metric': 'manhattan', 'n_jobs': -1, 'n_neighbors': 11, 'weights': 'uniform'}\n",
      "123.211163 (24.624863) with: {'algorithm': 'brute', 'leaf_size': 40, 'metric': 'manhattan', 'n_jobs': -1, 'n_neighbors': 13, 'weights': 'uniform'}\n",
      "122.390695 (24.888586) with: {'algorithm': 'brute', 'leaf_size': 40, 'metric': 'manhattan', 'n_jobs': -1, 'n_neighbors': 15, 'weights': 'uniform'}\n",
      "121.920990 (25.337950) with: {'algorithm': 'brute', 'leaf_size': 40, 'metric': 'manhattan', 'n_jobs': -1, 'n_neighbors': 17, 'weights': 'uniform'}\n",
      "121.544633 (25.362022) with: {'algorithm': 'brute', 'leaf_size': 40, 'metric': 'manhattan', 'n_jobs': -1, 'n_neighbors': 19, 'weights': 'uniform'}\n",
      "121.318812 (26.103527) with: {'algorithm': 'brute', 'leaf_size': 40, 'metric': 'manhattan', 'n_jobs': -1, 'n_neighbors': 21, 'weights': 'uniform'}\n",
      "121.105506 (26.802906) with: {'algorithm': 'brute', 'leaf_size': 40, 'metric': 'manhattan', 'n_jobs': -1, 'n_neighbors': 23, 'weights': 'uniform'}\n",
      "130.842733 (28.194666) with: {'algorithm': 'brute', 'leaf_size': 40, 'metric': 'minkowski', 'n_jobs': -1, 'n_neighbors': 5, 'weights': 'uniform'}\n",
      "128.155286 (22.300788) with: {'algorithm': 'brute', 'leaf_size': 40, 'metric': 'minkowski', 'n_jobs': -1, 'n_neighbors': 7, 'weights': 'uniform'}\n",
      "126.001258 (26.128809) with: {'algorithm': 'brute', 'leaf_size': 40, 'metric': 'minkowski', 'n_jobs': -1, 'n_neighbors': 9, 'weights': 'uniform'}\n",
      "124.513719 (25.977618) with: {'algorithm': 'brute', 'leaf_size': 40, 'metric': 'minkowski', 'n_jobs': -1, 'n_neighbors': 11, 'weights': 'uniform'}\n",
      "123.687630 (26.624042) with: {'algorithm': 'brute', 'leaf_size': 40, 'metric': 'minkowski', 'n_jobs': -1, 'n_neighbors': 13, 'weights': 'uniform'}\n",
      "123.199822 (25.227464) with: {'algorithm': 'brute', 'leaf_size': 40, 'metric': 'minkowski', 'n_jobs': -1, 'n_neighbors': 15, 'weights': 'uniform'}\n",
      "122.726714 (23.756830) with: {'algorithm': 'brute', 'leaf_size': 40, 'metric': 'minkowski', 'n_jobs': -1, 'n_neighbors': 17, 'weights': 'uniform'}\n",
      "122.111269 (22.679669) with: {'algorithm': 'brute', 'leaf_size': 40, 'metric': 'minkowski', 'n_jobs': -1, 'n_neighbors': 19, 'weights': 'uniform'}\n",
      "121.956278 (22.708061) with: {'algorithm': 'brute', 'leaf_size': 40, 'metric': 'minkowski', 'n_jobs': -1, 'n_neighbors': 21, 'weights': 'uniform'}\n",
      "121.828239 (22.937505) with: {'algorithm': 'brute', 'leaf_size': 40, 'metric': 'minkowski', 'n_jobs': -1, 'n_neighbors': 23, 'weights': 'uniform'}\n",
      "130.842733 (28.194666) with: {'algorithm': 'brute', 'leaf_size': 50, 'metric': 'euclidean', 'n_jobs': -1, 'n_neighbors': 5, 'weights': 'uniform'}\n",
      "128.155286 (22.300788) with: {'algorithm': 'brute', 'leaf_size': 50, 'metric': 'euclidean', 'n_jobs': -1, 'n_neighbors': 7, 'weights': 'uniform'}\n",
      "126.001258 (26.128809) with: {'algorithm': 'brute', 'leaf_size': 50, 'metric': 'euclidean', 'n_jobs': -1, 'n_neighbors': 9, 'weights': 'uniform'}\n",
      "124.513719 (25.977618) with: {'algorithm': 'brute', 'leaf_size': 50, 'metric': 'euclidean', 'n_jobs': -1, 'n_neighbors': 11, 'weights': 'uniform'}\n",
      "123.687630 (26.624042) with: {'algorithm': 'brute', 'leaf_size': 50, 'metric': 'euclidean', 'n_jobs': -1, 'n_neighbors': 13, 'weights': 'uniform'}\n",
      "123.199822 (25.227464) with: {'algorithm': 'brute', 'leaf_size': 50, 'metric': 'euclidean', 'n_jobs': -1, 'n_neighbors': 15, 'weights': 'uniform'}\n",
      "122.726714 (23.756830) with: {'algorithm': 'brute', 'leaf_size': 50, 'metric': 'euclidean', 'n_jobs': -1, 'n_neighbors': 17, 'weights': 'uniform'}\n",
      "122.111269 (22.679669) with: {'algorithm': 'brute', 'leaf_size': 50, 'metric': 'euclidean', 'n_jobs': -1, 'n_neighbors': 19, 'weights': 'uniform'}\n",
      "121.956278 (22.708061) with: {'algorithm': 'brute', 'leaf_size': 50, 'metric': 'euclidean', 'n_jobs': -1, 'n_neighbors': 21, 'weights': 'uniform'}\n",
      "121.828239 (22.937505) with: {'algorithm': 'brute', 'leaf_size': 50, 'metric': 'euclidean', 'n_jobs': -1, 'n_neighbors': 23, 'weights': 'uniform'}\n",
      "130.350359 (22.428366) with: {'algorithm': 'brute', 'leaf_size': 50, 'metric': 'manhattan', 'n_jobs': -1, 'n_neighbors': 5, 'weights': 'uniform'}\n",
      "126.689038 (23.218993) with: {'algorithm': 'brute', 'leaf_size': 50, 'metric': 'manhattan', 'n_jobs': -1, 'n_neighbors': 7, 'weights': 'uniform'}\n",
      "125.076576 (24.265788) with: {'algorithm': 'brute', 'leaf_size': 50, 'metric': 'manhattan', 'n_jobs': -1, 'n_neighbors': 9, 'weights': 'uniform'}\n",
      "123.963484 (25.163215) with: {'algorithm': 'brute', 'leaf_size': 50, 'metric': 'manhattan', 'n_jobs': -1, 'n_neighbors': 11, 'weights': 'uniform'}\n",
      "123.211163 (24.624863) with: {'algorithm': 'brute', 'leaf_size': 50, 'metric': 'manhattan', 'n_jobs': -1, 'n_neighbors': 13, 'weights': 'uniform'}\n",
      "122.390695 (24.888586) with: {'algorithm': 'brute', 'leaf_size': 50, 'metric': 'manhattan', 'n_jobs': -1, 'n_neighbors': 15, 'weights': 'uniform'}\n",
      "121.920990 (25.337950) with: {'algorithm': 'brute', 'leaf_size': 50, 'metric': 'manhattan', 'n_jobs': -1, 'n_neighbors': 17, 'weights': 'uniform'}\n",
      "121.544633 (25.362022) with: {'algorithm': 'brute', 'leaf_size': 50, 'metric': 'manhattan', 'n_jobs': -1, 'n_neighbors': 19, 'weights': 'uniform'}\n",
      "121.318812 (26.103527) with: {'algorithm': 'brute', 'leaf_size': 50, 'metric': 'manhattan', 'n_jobs': -1, 'n_neighbors': 21, 'weights': 'uniform'}\n",
      "121.105506 (26.802906) with: {'algorithm': 'brute', 'leaf_size': 50, 'metric': 'manhattan', 'n_jobs': -1, 'n_neighbors': 23, 'weights': 'uniform'}\n",
      "130.842733 (28.194666) with: {'algorithm': 'brute', 'leaf_size': 50, 'metric': 'minkowski', 'n_jobs': -1, 'n_neighbors': 5, 'weights': 'uniform'}\n",
      "128.155286 (22.300788) with: {'algorithm': 'brute', 'leaf_size': 50, 'metric': 'minkowski', 'n_jobs': -1, 'n_neighbors': 7, 'weights': 'uniform'}\n",
      "126.001258 (26.128809) with: {'algorithm': 'brute', 'leaf_size': 50, 'metric': 'minkowski', 'n_jobs': -1, 'n_neighbors': 9, 'weights': 'uniform'}\n",
      "124.513719 (25.977618) with: {'algorithm': 'brute', 'leaf_size': 50, 'metric': 'minkowski', 'n_jobs': -1, 'n_neighbors': 11, 'weights': 'uniform'}\n",
      "123.687630 (26.624042) with: {'algorithm': 'brute', 'leaf_size': 50, 'metric': 'minkowski', 'n_jobs': -1, 'n_neighbors': 13, 'weights': 'uniform'}\n",
      "123.199822 (25.227464) with: {'algorithm': 'brute', 'leaf_size': 50, 'metric': 'minkowski', 'n_jobs': -1, 'n_neighbors': 15, 'weights': 'uniform'}\n",
      "122.726714 (23.756830) with: {'algorithm': 'brute', 'leaf_size': 50, 'metric': 'minkowski', 'n_jobs': -1, 'n_neighbors': 17, 'weights': 'uniform'}\n",
      "122.111269 (22.679669) with: {'algorithm': 'brute', 'leaf_size': 50, 'metric': 'minkowski', 'n_jobs': -1, 'n_neighbors': 19, 'weights': 'uniform'}\n",
      "121.956278 (22.708061) with: {'algorithm': 'brute', 'leaf_size': 50, 'metric': 'minkowski', 'n_jobs': -1, 'n_neighbors': 21, 'weights': 'uniform'}\n",
      "121.828239 (22.937505) with: {'algorithm': 'brute', 'leaf_size': 50, 'metric': 'minkowski', 'n_jobs': -1, 'n_neighbors': 23, 'weights': 'uniform'}\n"
     ]
    }
   ],
   "source": [
    "from sklearn.model_selection import GridSearchCV\n",
    "\n",
    "# Hiperparâmetros\n",
    "param_grid = {\n",
    "    'n_jobs': [-1],\n",
    "    'n_neighbors': list(range(5, 25, 2)),\n",
    "    'weights': [\n",
    "        'uniform'\n",
    "    ],\n",
    "    'leaf_size': list(range(10, 51, 10)),\n",
    "    'algorithm': [\n",
    "        'auto',\n",
    "        'brute',\n",
    "    ],\n",
    "    'metric': [\n",
    "        'euclidean',\n",
    "        'manhattan',\n",
    "        'minkowski',\n",
    "    ]\n",
    "}\n",
    "\n",
    "# Scaler\n",
    "scaler = RobustScaler().fit_transform(X_train)\n",
    "\n",
    "# Instância do modelo\n",
    "model = KNeighborsRegressor()\n",
    "\n",
    "# Cross-validation\n",
    "kfold = KFold(n_splits=num_folds, random_state=seed)\n",
    "grid = GridSearchCV(estimator=model, \n",
    "                    param_grid=param_grid, \n",
    "                    scoring=scoring,\n",
    "                    cv=kfold)\n",
    "\n",
    "grid_result = grid.fit(scaler, Y_train)\n",
    "\n",
    "# Mostrar resultados\n",
    "print(\"Best: %f using %s\" % (np.sqrt(-grid_result.best_score_), \n",
    "                             grid_result.best_params_))\n",
    "means = np.sqrt(-grid_result.cv_results_['mean_test_score'])\n",
    "stds = np.sqrt(grid_result.cv_results_['std_test_score'])\n",
    "params = grid_result.cv_results_['params']\n",
    "for mean, stdev, param in zip(means, stds, params):\n",
    "  print(\"%f (%f) with: %r\" % (mean, stdev, param))"
   ]
  },
  {
   "cell_type": "markdown",
   "metadata": {
    "colab_type": "text",
    "id": "EoOvhiIXbOoA"
   },
   "source": [
    "## Avaliando o model\n",
    "Vamos aplicar o nosso modelo nos dados de teste, para verificarmos o RMSE.\n",
    "\n",
    "**Exercício**:\n",
    "1. Aplique novamente o escalar escolhido."
   ]
  },
  {
   "cell_type": "code",
   "execution_count": 0,
   "metadata": {
    "colab": {
     "base_uri": "https://localhost:8080/",
     "height": 34
    },
    "colab_type": "code",
    "id": "0DalT6XN1dv4",
    "outputId": "ef910484-aceb-4286-9aa6-c8ab9558abd4"
   },
   "outputs": [
    {
     "name": "stdout",
     "output_type": "stream",
     "text": [
      "123.61766192251493\n"
     ]
    }
   ],
   "source": [
    "# Aplicando o modelo no X_test\n",
    "predict = grid_result.best_estimator_.predict(RobustScaler().fit_transform(X_test))\n",
    "\n",
    "# Verificando o RMSE do modelo\n",
    "rmse = np.sqrt(mean_squared_error(predict, Y_test))\n",
    "print(rmse)"
   ]
  }
 ],
 "metadata": {
  "colab": {
   "collapsed_sections": [],
   "name": "Aula 04 - Prática - KNRegression.ipynb",
   "provenance": []
  },
  "kernelspec": {
   "display_name": "Python 3",
   "language": "python",
   "name": "python3"
  },
  "language_info": {
   "codemirror_mode": {
    "name": "ipython",
    "version": 3
   },
   "file_extension": ".py",
   "mimetype": "text/x-python",
   "name": "python",
   "nbconvert_exporter": "python",
   "pygments_lexer": "ipython3",
   "version": "3.7.3"
  },
  "toc": {
   "base_numbering": 1,
   "nav_menu": {},
   "number_sections": true,
   "sideBar": true,
   "skip_h1_title": false,
   "title_cell": "Table of Contents",
   "title_sidebar": "Contents",
   "toc_cell": false,
   "toc_position": {},
   "toc_section_display": true,
   "toc_window_display": false
  },
  "varInspector": {
   "cols": {
    "lenName": 16,
    "lenType": 16,
    "lenVar": 40
   },
   "kernels_config": {
    "python": {
     "delete_cmd_postfix": "",
     "delete_cmd_prefix": "del ",
     "library": "var_list.py",
     "varRefreshCmd": "print(var_dic_list())"
    },
    "r": {
     "delete_cmd_postfix": ") ",
     "delete_cmd_prefix": "rm(",
     "library": "var_list.r",
     "varRefreshCmd": "cat(var_dic_list()) "
    }
   },
   "types_to_exclude": [
    "module",
    "function",
    "builtin_function_or_method",
    "instance",
    "_Feature"
   ],
   "window_display": false
  }
 },
 "nbformat": 4,
 "nbformat_minor": 1
}
