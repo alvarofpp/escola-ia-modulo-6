{
 "cells": [
  {
   "cell_type": "markdown",
   "metadata": {
    "colab_type": "text",
    "id": "NlymPQVIJxkY"
   },
   "source": [
    "O presente notebook possui a intenção de prever o preço de imóveis do Rio de Janeiro. O algoritmo escolhido foi **KNeighborsRegressor**."
   ]
  },
  {
   "cell_type": "markdown",
   "metadata": {
    "colab_type": "text",
    "id": "ITzX6LHtS0DS"
   },
   "source": [
    "# Sobre o KNeighborsRegressor\n",
    "Se trata de um algoritmo de regressão baseada nos k-vizinhos mais próximos. O alvo é previsto pela interpolação local dos alvos associados aos vizinhos mais próximos no conjunto de treinamento. Ele funciona da seguinte forma:\n",
    "\n",
    "1. Selecionamos k vizinhos semelhantes mais próximos, usando algum cálculo de distância, com as quais queremos comparar.\n",
    "1. Agora iremos calcular a semelhança entre cada vizinho e o nosso dado usando uma métrica de similaridade\n",
    "1. Então classificamos cada vizinho usando nossa métrica de similaridade e selecionamos os primeiros k vizinhos.\n",
    "1. Por fim, calculamos o valor médio dos k vizinhos semelhantes e o usamos como nosso valor de tabela."
   ]
  },
  {
   "cell_type": "markdown",
   "metadata": {
    "colab_type": "text",
    "id": "-mtRjbNUJuYw"
   },
   "source": [
    "# Depêndencias iniciais\n",
    "Iremos agora importar as principais bibliotecas, sendo elas:\n",
    "\n",
    "- [Numpy](https://numpy.org/): é um pacote fundamental para a computação científica com Python, usado principalmente para realizar cálculos em _arrays_ multidimensionais.\n",
    "- [Pandas](https://pandas.pydata.org/): é um pacote que fornece estruturas de dados de alto desempenho e fáceis de usar, além de conter ferramentas de análise de dados."
   ]
  },
  {
   "cell_type": "code",
   "execution_count": 0,
   "metadata": {
    "colab": {},
    "colab_type": "code",
    "id": "KezlrUwIKb6Q"
   },
   "outputs": [],
   "source": [
    "import numpy as np\n",
    "import pandas as pd"
   ]
  },
  {
   "cell_type": "markdown",
   "metadata": {
    "colab_type": "text",
    "id": "i5dt9lVtJubH"
   },
   "source": [
    "# O dataset\n",
    "Nessa primeira parte, iremos carregar o _dataset_ na estrutura de dados que utilizaremos, que será o [DataFrame](https://pandas.pydata.org/pandas-docs/stable/reference/api/pandas.DataFrame.html)."
   ]
  },
  {
   "cell_type": "code",
   "execution_count": 0,
   "metadata": {
    "colab": {},
    "colab_type": "code",
    "id": "UfnXOjCNLkPf"
   },
   "outputs": [],
   "source": [
    "# Lendo arquivo CSV\n",
    "df_train = pd.read_csv(\"kn_train.csv\")"
   ]
  },
  {
   "cell_type": "code",
   "execution_count": 0,
   "metadata": {
    "colab": {},
    "colab_type": "code",
    "id": "RJkF0n6-MxAA"
   },
   "outputs": [],
   "source": [
    "# Conhecendo a quantidade de linhas e colunas do dataset, respectivamente\n",
    "print(\"train:= \", df_train.shape)"
   ]
  },
  {
   "cell_type": "code",
   "execution_count": 0,
   "metadata": {
    "colab": {},
    "colab_type": "code",
    "id": "p58oSkoS3f9M"
   },
   "outputs": [],
   "source": [
    "df_train.columns"
   ]
  },
  {
   "cell_type": "markdown",
   "metadata": {
    "colab_type": "text",
    "id": "SuxYP1iU3YwW"
   },
   "source": [
    "O _dataset_ possui as seguintes colunas (total de 26 colunas):\n",
    "\n",
    "- **host_response_time**: tempo de resposta do host;\n",
    "- **host_response_rate**: a taxa de resposta do host;\n",
    "- **host_neighbourhood**: o bairro que o host se localiza;\n",
    "- **host_listings_count**: número de outras listagens que o host possui;\n",
    "- **neighbourhood**: o bairro no qual o espaço se localiza;\n",
    "- **city**: a cidade onde fica o espaço;\n",
    "- **state**: o estado em que o espaço fica;\n",
    "- **zipcode**: o código postal em que fica o espaço;\n",
    "- **latitude**: dimensão da latitude das coordenadas geográficas;\n",
    "- **longitude**: dimensão de longitude das coordenadas geográficas;\n",
    "- **property_type**: o tipo da propriedade;\n",
    "- **room_type**: o tipo de espaço de convivência;\n",
    "- **accommodates**: o número de pessoas que o aluguel pode acomodar;\n",
    "- **bathrooms**: número de banheiros incluídos no aluguel;\n",
    "- **bedrooms**: número de quartos incluídos no aluguel;\n",
    "- **beds**: número de camas incluídas no aluguel;\n",
    "- **bed_type**: o tipo da cama;\n",
    "- **security_deposit**: depósito reembolsável, em caso de danos;\n",
    "- **cleaning_fee**: taxa adicional usada para limpar o espaço após a saída do hóspede;\n",
    "- **extra_people**: taxa adicional para pessoas extras; \n",
    "- **minimum_nights**: número mínimo de noites que um hóspede pode ficar no aluguel;\n",
    "- **maximum_nights**: número máximo de noites que um hóspede pode ficar no aluguel;\n",
    "- **number_of_reviews**: número de comentários que os hóspedes anteriores deixaram;\n",
    "- **review_scores_rating**: pontuação do espaço;\n",
    "- **reviews_per_month**: quantidade de reviews que o espaço recebe por mês;\n",
    "- **price**: preço do aluguel."
   ]
  },
  {
   "cell_type": "markdown",
   "metadata": {
    "colab_type": "text",
    "id": "GjiRbq-yJudH"
   },
   "source": [
    "## Explorando o dataset\n",
    "Aqui iremos utilizar alguns métodos do pandas para conhecermos melhor o nosso _DataFrame_. Os métodos serão:\n",
    "- **[head](https://pandas.pydata.org/pandas-docs/stable/reference/api/pandas.DataFrame.head.html)**: mostra as primeiras _n_ linhas do nosso _dataset_. Por padrão serão as 5 primeiras linhas.\n",
    "- **[info](https://pandas.pydata.org/pandas-docs/stable/reference/api/pandas.DataFrame.info.html)**: imprime informações sobre o nosso _DataFrame_, incluindo o tipo de índice, os tipos de coluna, valores não nulos e uso de memória.\n",
    "\n",
    "- **[describe](https://pandas.pydata.org/pandas-docs/stable/reference/api/pandas.DataFrame.describe.html)**: mostra estatísticas descritivas sobre as colunas do nosso _DataFrame_, como: a tendência central, a dispersão e a forma da distribuição de um conjunto de dados."
   ]
  },
  {
   "cell_type": "code",
   "execution_count": 0,
   "metadata": {
    "colab": {},
    "colab_type": "code",
    "id": "NUsGfqE7Ly9C"
   },
   "outputs": [],
   "source": [
    "# Verificando as primeiras 5 linhas do nosso DataFrame\n",
    "df_train.head()"
   ]
  },
  {
   "cell_type": "code",
   "execution_count": 0,
   "metadata": {
    "colab": {},
    "colab_type": "code",
    "id": "dBUjOXA7Ly_f"
   },
   "outputs": [],
   "source": [
    "# Mais informações sobre o DataFrame\n",
    "df_train.info()"
   ]
  },
  {
   "cell_type": "code",
   "execution_count": 0,
   "metadata": {
    "colab": {},
    "colab_type": "code",
    "id": "KQu2C0PZLzB3"
   },
   "outputs": [],
   "source": [
    "# Verificando detalhes estatísticos do DataFrame\n",
    "df_train.describe()  "
   ]
  },
  {
   "cell_type": "markdown",
   "metadata": {
    "colab_type": "text",
    "id": "M7rMbuImJufn"
   },
   "source": [
    "# Limpando, preparando e manipulando os dados\n",
    "Nessa etapa, iremos realizar o processo de limpeza, preparação e manipulação dos dados do nosso _DataFrame_. Nesse primeiro momento temos que decidir quais as colunas que iremos usar no nosso modelo. Para isso iremos verificar as correlações das colunas com a coluna _price_ usando:\n",
    "- **[corr](https://pandas.pydata.org/pandas-docs/stable/reference/api/pandas.DataFrame.corr.html)**: calcula a correlação entre todas as colunas. Usaremos o parâmetro **method** para especificar o método que iremos usar para calcular a correlação.\n",
    "- **[sort_values](https://pandas.pydata.org/pandas-docs/stable/reference/api/pandas.Series.sort_values.html)**: ordena os valores."
   ]
  },
  {
   "cell_type": "code",
   "execution_count": 0,
   "metadata": {
    "colab": {},
    "colab_type": "code",
    "id": "jQy5TKq3M6L_"
   },
   "outputs": [],
   "source": [
    "# Usamos a correlação de Pearson e ordenamos os valores\n",
    "columns_corr = df_train.corr(method='pearson')['price'].sort_values()\n",
    "print(columns_corr)"
   ]
  },
  {
   "cell_type": "markdown",
   "metadata": {
    "colab_type": "text",
    "id": "Q2CGzw69zx5U"
   },
   "source": [
    "## Filtrando as colunas que queremos\n",
    "Após verificarmos a correlação das colunas entre si, iremos selecionar as 5 melhores colunas mais a coluna _price_."
   ]
  },
  {
   "cell_type": "code",
   "execution_count": 0,
   "metadata": {
    "colab": {},
    "colab_type": "code",
    "id": "UztEm96ezx_u"
   },
   "outputs": [],
   "source": [
    "# Colunas do DataFrame que iremos usar\n",
    "target_cols = columns_corr[-6:].index.tolist()\n",
    "print(target_cols)"
   ]
  },
  {
   "cell_type": "code",
   "execution_count": 0,
   "metadata": {
    "colab": {},
    "colab_type": "code",
    "id": "Xkw2Rni4NIim"
   },
   "outputs": [],
   "source": [
    "# Filtramos o DataFrame para apenas as colunas que queremos usar\n",
    "clean_train = df_train[target_cols]\n",
    "# Mostramos as dimensões do DataFrame\n",
    "print(clean_train.shape)"
   ]
  },
  {
   "cell_type": "code",
   "execution_count": 0,
   "metadata": {
    "colab": {},
    "colab_type": "code",
    "id": "ToKV3kZpNWqA"
   },
   "outputs": [],
   "source": [
    "# Algumas informações sobre o DataFrame\n",
    "clean_train.info()"
   ]
  },
  {
   "cell_type": "markdown",
   "metadata": {
    "colab_type": "text",
    "id": "XAaqBEioJujw"
   },
   "source": [
    "## Tratando os valores nulos\n",
    "Anteriormente podemos notar que as colunas **beds**, **bedrooms** e **bathrooms** possuem valores nulos, portanto agora iremos adicionar a média dos valores da coluna em cada célula NA."
   ]
  },
  {
   "cell_type": "code",
   "execution_count": 0,
   "metadata": {
    "colab": {},
    "colab_type": "code",
    "id": "FnuzDaC8O3hb"
   },
   "outputs": [],
   "source": [
    "# Colunas que iremos preencher os valores NA com a média\n",
    "fillna_mean = ['beds', 'bedrooms', 'bathrooms']"
   ]
  },
  {
   "cell_type": "markdown",
   "metadata": {
    "colab_type": "text",
    "id": "j9vdX4S-PoE-"
   },
   "source": [
    "Para realizarmos a operação de adicionarmos a média em cada campo nulo, iremos utilizar duas funções:\n",
    "- **[fillna](https://pandas.pydata.org/pandas-docs/stable/reference/api/pandas.DataFrame.fillna.html)**: preenche os valores de NA/NaN na coluna. Iremos especificar o valor que queremos aplicar nesses campos com o parâmetro **value**. O parâmetro **inplace** indica que não queremos retornar um novo _DataFrame_, que é para preencher o _DataFrame_ local.\n",
    "- **[mean](https://pandas.pydata.org/pandas-docs/stable/reference/api/pandas.DataFrame.mean.html)**: retorna a média dos valores."
   ]
  },
  {
   "cell_type": "code",
   "execution_count": 0,
   "metadata": {
    "colab": {},
    "colab_type": "code",
    "id": "uNqgsX5ZNbLg"
   },
   "outputs": [],
   "source": [
    "# Adicionamos as médias em cada campo NA/NaN\n",
    "for col in fillna_mean:\n",
    "  clean_train[col].fillna(\n",
    "      value=clean_train[col].mean(),\n",
    "      inplace=True\n",
    "  )"
   ]
  },
  {
   "cell_type": "code",
   "execution_count": 0,
   "metadata": {
    "colab": {},
    "colab_type": "code",
    "id": "9FudpmyQOHr3"
   },
   "outputs": [],
   "source": [
    "clean_train.info()"
   ]
  },
  {
   "cell_type": "code",
   "execution_count": 0,
   "metadata": {
    "colab": {},
    "colab_type": "code",
    "id": "Tg-h4w76NhCg"
   },
   "outputs": [],
   "source": [
    "# Verificando a alteração dos valores nas estatísticas descritivas\n",
    "clean_train.describe()"
   ]
  },
  {
   "cell_type": "markdown",
   "metadata": {
    "colab_type": "text",
    "id": "MqlVrNFFOj54"
   },
   "source": [
    "**Observações**:\n",
    "- Todos os valores de **count** agora são 9000;\n",
    "- A média (**mean**) permaneceu o mesmo valor, o que já era esperado;\n",
    "- Os valores de **std** nas colunas **bathrooms**, **bedrooms** e **beds** diminuiram um pouco, o que já era esperado."
   ]
  },
  {
   "cell_type": "markdown",
   "metadata": {
    "colab_type": "text",
    "id": "8tdu-xyowBAB"
   },
   "source": [
    "## Normalização\n",
    "Como o algoritmo **KNeighborsRegressor** funciona melhor se todos os dados estiverem na mesma escala. Portanto iremos normalizar os dados para o intervalo [0, 1]. Para isso iremos usar:\n",
    "- **[MinMaxScaler](https://scikit-learn.org/stable/modules/generated/sklearn.preprocessing.MinMaxScaler.html)**: transforma os dados para valores em um determinado intervalo. Por padrão é o intervalo que queremos: [0, 1]."
   ]
  },
  {
   "cell_type": "code",
   "execution_count": 0,
   "metadata": {
    "colab": {},
    "colab_type": "code",
    "id": "0MiF2LVzBpd1"
   },
   "outputs": [],
   "source": [
    "from sklearn.preprocessing import MinMaxScaler"
   ]
  },
  {
   "cell_type": "code",
   "execution_count": 0,
   "metadata": {
    "colab": {},
    "colab_type": "code",
    "id": "fAGvYy3OBOAt"
   },
   "outputs": [],
   "source": [
    "# Normalizando os dados\n",
    "normalized_train = MinMaxScaler().fit_transform(clean_train.values)\n",
    "# Criamos um novo DataFrame com os dados normalizados\n",
    "normalized_train = pd.DataFrame(normalized_train, columns=clean_train.columns)\n",
    "# Colocamos a coluna de preço para o seu valor real\n",
    "normalized_train['price'] = clean_train['price']"
   ]
  },
  {
   "cell_type": "code",
   "execution_count": 0,
   "metadata": {
    "colab": {},
    "colab_type": "code",
    "id": "P4PUMv_HB6v9"
   },
   "outputs": [],
   "source": [
    "# Verificamos as estatísticas descritivas do nosso novo DataFrame\n",
    "normalized_train.describe()"
   ]
  },
  {
   "cell_type": "markdown",
   "metadata": {
    "colab_type": "text",
    "id": "Vxcav5oEQdUo"
   },
   "source": [
    "## Outliers\n",
    "Um _outlier_ é um valor que foge da normalidade dos dados que está inserido, podendo causar anomalias nos resultados obtidos nas análises e modelos treinados. Também são conhecidos como \"pontos fora da curva\".\n",
    "\n",
    "Para realizarmos uma exploração inicial dos dados para identificar a existência de _outliers_, iremos usar:\n",
    "- **[matplotlib](https://matplotlib.org/)**: é uma biblioteca de plotagem de gráficos.\n",
    "- **[seaborn](https://seaborn.pydata.org/)**: é uma biblioteca de visualização de dados baseada no matplotlib. Ele fornece uma interface de alto nível para desenhar gráficos estatísticos atraentes e informativos."
   ]
  },
  {
   "cell_type": "code",
   "execution_count": 0,
   "metadata": {
    "colab": {},
    "colab_type": "code",
    "id": "0D3Je0EgBJ7H"
   },
   "outputs": [],
   "source": [
    "# Visualização\n",
    "import matplotlib.pyplot as plt\n",
    "import seaborn as sns"
   ]
  },
  {
   "cell_type": "markdown",
   "metadata": {
    "colab_type": "text",
    "id": "bMLeGVHc8a2_"
   },
   "source": [
    "Iremos criar uma função chamada `print_eda` que irá nos mostrar alguns gráficos e valores que irão nos ajudar na etapa de exploração e identificação de _outliers_."
   ]
  },
  {
   "cell_type": "code",
   "execution_count": 0,
   "metadata": {
    "colab": {},
    "colab_type": "code",
    "id": "vRQLyqsFQ2gf"
   },
   "outputs": [],
   "source": [
    "# Layout padrão\n",
    "default_layout = (2,3)\n",
    "# Figsize padrão\n",
    "default_figsize = (10,4)\n",
    "\n",
    "def plot_density(df):\n",
    "  \"\"\"Plota o gráfico de densidade.\n",
    "  \"\"\"\n",
    "  df.plot(kind=\"density\",\n",
    "          subplots=True,\n",
    "          sharex=False,\n",
    "          layout=default_layout,\n",
    "          figsize=default_figsize)\n",
    "  plt.tight_layout()\n",
    "  plt.show()\n",
    "\n",
    "def plot_box(df):\n",
    "  \"\"\"Plota o boxplot.\n",
    "  \"\"\"\n",
    "  df.plot(kind=\"box\",\n",
    "          subplots=True,\n",
    "          sharex=False,\n",
    "          layout=default_layout,\n",
    "          figsize=default_figsize)\n",
    "  plt.tight_layout()\n",
    "  plt.show()\n",
    "  \n",
    "def print_eda(df):\n",
    "  \"\"\"Mostra gráficos e valores relacionados a etapa de\n",
    "  Exploratory Data Analysis (EDA).\"\"\"\n",
    "  hr = '--------------------------------------------------------------'\n",
    "  print(\"Density\")\n",
    "  plot_density(df)\n",
    "\n",
    "  print(hr)\n",
    "  print(\"Box\")\n",
    "  plot_box(df)\n",
    "\n",
    "  print(hr)\n",
    "  print(\"Shape\")\n",
    "  print(df.shape)\n",
    "\n",
    "  print(hr)\n",
    "  print(\"Correlação\")\n",
    "  print(df.corr()['price'].sort_values())\n",
    "\n",
    "  print(hr)\n",
    "  print(\"Heatmap\")\n",
    "  sns.heatmap(df.corr())"
   ]
  },
  {
   "cell_type": "code",
   "execution_count": 0,
   "metadata": {
    "colab": {},
    "colab_type": "code",
    "id": "WS9wRVynwjZv"
   },
   "outputs": [],
   "source": [
    "# Mostrando os gráficos e valores dos dados que temos até agora\n",
    "print_eda(normalized_train)"
   ]
  },
  {
   "cell_type": "markdown",
   "metadata": {
    "colab_type": "text",
    "id": "2_Pmr3f4yIKo"
   },
   "source": [
    "Para tratar esses valores, iremos usar duas técnicas e, posteriormente, escolher a que melhor comportou nos nossos dados. As técnicas serão:\n",
    "- [Z-score](https://www.statisticshowto.datasciencecentral.com/probability-and-statistics/z-score/): nos permite comparar um valor específico com a população, levando-se em conta o valor típico e a dispersão.\n",
    "- [IQR](https://pt-pt.khanacademy.org/math/statistics-probability/summarizing-quantitative-data/interquartile-range-iqr/a/interquartile-range-review): também conhecida como amplitude interquartil, é uma medida da dispersão dos dados em torno da medida de centralidade."
   ]
  },
  {
   "cell_type": "code",
   "execution_count": 0,
   "metadata": {
    "colab": {},
    "colab_type": "code",
    "id": "c-ylK-47OrSn"
   },
   "outputs": [],
   "source": [
    "from sklearn.preprocessing import StandardScaler"
   ]
  },
  {
   "cell_type": "code",
   "execution_count": 0,
   "metadata": {
    "colab": {},
    "colab_type": "code",
    "id": "Qgjuq4AGQ8ZG"
   },
   "outputs": [],
   "source": [
    "def clean_outliers(data, algorithm='iqr'):\n",
    "  \"\"\"Essa função limpa os outliers, podendo ser escolhido o algoritmo\n",
    "  IQR ou Z-Score.\n",
    "  \n",
    "  Return: df\n",
    "    O dataframe com os outliers tratados.\n",
    "  \"\"\"\n",
    "  df = data.copy()\n",
    "  if algorithm == \"iqr\":\n",
    "    Q1 = df.quantile(0.25)\n",
    "    Q3 = df.quantile(0.75)\n",
    "    IQR = Q3 - Q1\n",
    "    low = Q1 - 1.5 * IQR\n",
    "    up = Q3 + 1.5 * IQR\n",
    "    df = df[((df > low).all(axis=1) & (df < up).all(axis=1))]\n",
    "  elif algorithm == \"z-score\":\n",
    "    df = pd.DataFrame(StandardScaler().fit_transform(df),\n",
    "                            columns=df.columns,\n",
    "                            index=df.index)\n",
    "    df = df[(df < 2.698).all(axis=1) & (df > -2.698).all(axis=1)]\n",
    "  return df"
   ]
  },
  {
   "cell_type": "code",
   "execution_count": 0,
   "metadata": {
    "colab": {},
    "colab_type": "code",
    "id": "jgVJ8q3sQ8bm"
   },
   "outputs": [],
   "source": [
    "train_iqr = clean_outliers(normalized_train,\"iqr\")\n",
    "train_z_score = clean_outliers(normalized_train,\"z-score\")\n",
    "train_z_score['price'] = normalized_train.loc[train_z_score.index.tolist()]['price']"
   ]
  },
  {
   "cell_type": "code",
   "execution_count": 0,
   "metadata": {
    "colab": {},
    "colab_type": "code",
    "id": "3q5dA6KsQ8eE"
   },
   "outputs": [],
   "source": [
    "print_eda(train_iqr)"
   ]
  },
  {
   "cell_type": "code",
   "execution_count": 0,
   "metadata": {
    "colab": {},
    "colab_type": "code",
    "id": "OZAH0WieQ8gX"
   },
   "outputs": [],
   "source": [
    "print_eda(train_z_score)"
   ]
  },
  {
   "cell_type": "markdown",
   "metadata": {
    "colab_type": "text",
    "id": "BaK4o23n9cGl"
   },
   "source": [
    "O método _z-score_ permitiu termos uma quantidade maior de dados para podermos treinar, aumentando inclusive a correlação entre as colunas com _price_, porém tratou os _outliers_ de forma menos eficiente quanto ao _IQR_. Para decidirmos de forma mais firme, a seguir iremos treinar 3 modelos básicos e observaremos os seus [RMSE](https://www.statisticshowto.datasciencecentral.com/rmse/) para podermos escolher qual _DataFrame_ iremos utilizar para treinar nosso modelo."
   ]
  },
  {
   "cell_type": "markdown",
   "metadata": {
    "colab_type": "text",
    "id": "lxcZwZYQJuov"
   },
   "source": [
    "# Modelo inicial\n",
    "No treinamento inicial, iremos treinar 3 modelos:\n",
    "1. Com os dados limpos e normalizados (**normalized_train**);\n",
    "1. Com os dados após IQR (**train_iqr**);\n",
    "1. Com os dados após Z-Score (**train_z_score**).\n",
    "\n",
    "Iremos verificar o RMSE de cada um, para decidirmos qual _DataFrame_ usar. Após, na etapa de encontrar o melhor modelo, iremos aplicar vários modelos nos dados com o melhor RMSE. Por fim, iremos melhorar o nosso modelo final e aplicá-lo nas variáveis de teste.\n",
    "\n",
    "Iremos usar:\n",
    "\n",
    "- **[sqrt](https://docs.scipy.org/doc/numpy/reference/generated/numpy.sqrt.html)**: calcula a raiz quadrada do valor passado.\n",
    "- **[mean_squared_error](https://scikit-learn.org/stable/modules/generated/sklearn.metrics.mean_squared_error.html)**: calcula o erro médio quadrático.\n",
    "- **[train_test_split](https://scikit-learn.org/stable/modules/generated/sklearn.model_selection.train_test_split.html)**: divide matrizes em subconjuntos aleatórios de treino e teste."
   ]
  },
  {
   "cell_type": "code",
   "execution_count": 0,
   "metadata": {
    "colab": {},
    "colab_type": "code",
    "id": "y0yKqc3LCc6l"
   },
   "outputs": [],
   "source": [
    "from sklearn.metrics import mean_squared_error\n",
    "from sklearn.neighbors import KNeighborsRegressor\n",
    "from sklearn.model_selection import train_test_split"
   ]
  },
  {
   "cell_type": "markdown",
   "metadata": {
    "colab_type": "text",
    "id": "kAcj36pjKDMw"
   },
   "source": [
    "## Treinamento inicial\n",
    "A ordem dos modelos será igual a anteriormente citada."
   ]
  },
  {
   "cell_type": "code",
   "execution_count": 0,
   "metadata": {
    "colab": {},
    "colab_type": "code",
    "id": "yVMRgqs-TiZI"
   },
   "outputs": [],
   "source": [
    "# 10% para teste, 90% para treino\n",
    "test_size = 0.10\n",
    "# Semente usada pelo gerador de números aleatórios\n",
    "seed = 20"
   ]
  },
  {
   "cell_type": "markdown",
   "metadata": {
    "colab_type": "text",
    "id": "trCgVl6QTEXB"
   },
   "source": [
    "### Modelo com os dados limpos e normalizados\n",
    "_DataFrame_ utilizado: `normalized_train`."
   ]
  },
  {
   "cell_type": "code",
   "execution_count": 0,
   "metadata": {
    "colab": {},
    "colab_type": "code",
    "id": "RGaqRpo5Tfz3"
   },
   "outputs": [],
   "source": [
    "# Separamos o X e Y de treino e teste\n",
    "X_train, X_test, Y_train, Y_test = train_test_split(normalized_train.drop(axis=1,labels=[\"price\"]), \n",
    "                                                    normalized_train[\"price\"],\n",
    "                                                    test_size=test_size, \n",
    "                                                    random_state=seed)\n",
    "# Imprime as dimensões de X para treino e teste\n",
    "print(X_train.shape, X_test.shape)"
   ]
  },
  {
   "cell_type": "code",
   "execution_count": 0,
   "metadata": {
    "colab": {},
    "colab_type": "code",
    "id": "ybe-FszUTEve"
   },
   "outputs": [],
   "source": [
    "# Modelo básico inicial\n",
    "knn = KNeighborsRegressor(n_neighbors=5, n_jobs=-1)\n",
    "\n",
    "# Treina o modelo básico\n",
    "knn.fit(X_train, Y_train)\n",
    "\n",
    "# Predizer os preços\n",
    "predict = knn.predict(X_test)"
   ]
  },
  {
   "cell_type": "code",
   "execution_count": 0,
   "metadata": {
    "colab": {},
    "colab_type": "code",
    "id": "gkBVL0--TEyO"
   },
   "outputs": [],
   "source": [
    "# RMSE\n",
    "rmse = np.sqrt(mean_squared_error(Y_test,predict))\n",
    "print(rmse)"
   ]
  },
  {
   "cell_type": "markdown",
   "metadata": {
    "colab_type": "text",
    "id": "1pxUT9yRTE5H"
   },
   "source": [
    "### Modelo com os dados após IQR\n",
    "_DataFrame_ utilizado: `train_iqr`."
   ]
  },
  {
   "cell_type": "code",
   "execution_count": 0,
   "metadata": {
    "colab": {},
    "colab_type": "code",
    "id": "I9DuNkPETe8v"
   },
   "outputs": [],
   "source": [
    "# Separamos o X e Y de treino e teste\n",
    "X_train, X_test, Y_train, Y_test = train_test_split(train_iqr.drop(axis=1,labels=[\"price\"]), \n",
    "                                                    train_iqr[\"price\"],\n",
    "                                                    test_size=test_size, \n",
    "                                                    random_state=seed)\n",
    "# Imprime as dimensões de X para treino e teste\n",
    "print(X_train.shape,X_test.shape)"
   ]
  },
  {
   "cell_type": "code",
   "execution_count": 0,
   "metadata": {
    "colab": {},
    "colab_type": "code",
    "id": "tLDR_MIqTE_g"
   },
   "outputs": [],
   "source": [
    "# Modelo básico inicial\n",
    "knn = KNeighborsRegressor(n_neighbors=5, n_jobs=-1)\n",
    "\n",
    "# Treina o modelo básico\n",
    "knn.fit(X_train, Y_train)\n",
    "\n",
    "# Predizer os preços\n",
    "predict = knn.predict(X_test)"
   ]
  },
  {
   "cell_type": "code",
   "execution_count": 0,
   "metadata": {
    "colab": {},
    "colab_type": "code",
    "id": "V89R59n6TFBu"
   },
   "outputs": [],
   "source": [
    "# RMSE\n",
    "rmse = np.sqrt(mean_squared_error(Y_test,predict))\n",
    "print(rmse)"
   ]
  },
  {
   "cell_type": "markdown",
   "metadata": {
    "colab_type": "text",
    "id": "FMZWS21jTFHr"
   },
   "source": [
    "### Modelo com os dados após Z-Score\n",
    "_DataFrame_ utilizado: `train_z_score`."
   ]
  },
  {
   "cell_type": "code",
   "execution_count": 0,
   "metadata": {
    "colab": {},
    "colab_type": "code",
    "id": "ptgzrRklTehX"
   },
   "outputs": [],
   "source": [
    "# Separamos o X e Y de treino e teste\n",
    "X_train, X_test, Y_train, Y_test = train_test_split(train_z_score.drop(axis=1,labels=[\"price\"]), \n",
    "                                                    train_z_score[\"price\"],\n",
    "                                                    test_size=test_size, \n",
    "                                                    random_state=seed)\n",
    "# Imprime as dimensões de X para treino e teste\n",
    "print(X_train.shape,X_test.shape)"
   ]
  },
  {
   "cell_type": "code",
   "execution_count": 0,
   "metadata": {
    "colab": {},
    "colab_type": "code",
    "id": "kLKqTYNFTFOu"
   },
   "outputs": [],
   "source": [
    "# Modelo básico inicial\n",
    "knn = KNeighborsRegressor(n_neighbors=5, n_jobs=-1)\n",
    "\n",
    "# Treina o modelo básico\n",
    "knn.fit(X_train, Y_train)\n",
    "\n",
    "# Predizer os preços\n",
    "predict = knn.predict(X_test)"
   ]
  },
  {
   "cell_type": "code",
   "execution_count": 0,
   "metadata": {
    "colab": {},
    "colab_type": "code",
    "id": "nfWPUvXUTFRG"
   },
   "outputs": [],
   "source": [
    "# RMSE\n",
    "rmse = np.sqrt(mean_squared_error(Y_test,predict))\n",
    "print(rmse)"
   ]
  },
  {
   "cell_type": "markdown",
   "metadata": {
    "colab_type": "text",
    "id": "Ne9HYsWaURtP"
   },
   "source": [
    "Iremos usar os dados por IQR, pois teve o melhor valor de RMSE."
   ]
  },
  {
   "cell_type": "code",
   "execution_count": 0,
   "metadata": {
    "colab": {},
    "colab_type": "code",
    "id": "IcKfqgznUa-H"
   },
   "outputs": [],
   "source": [
    "# Separamos o X e Y de treino e teste\n",
    "X_train, X_test, Y_train, Y_test = train_test_split(train_iqr.drop(axis=1,labels=[\"price\"]),\n",
    "                                                    train_iqr[\"price\"],\n",
    "                                                    test_size=test_size,\n",
    "                                                    random_state=seed)\n",
    "# Imprime as dimensões de X para treino e teste\n",
    "print(X_train.shape, X_test.shape)"
   ]
  },
  {
   "cell_type": "markdown",
   "metadata": {
    "colab_type": "text",
    "id": "jv0BB8R7KDPP"
   },
   "source": [
    "# Encontrando o melhor modelo\n",
    "Agora que sabemos qual _DataFrame_ utilizar, vamos aplicar algumas técnicas de [AutoML](https://www.automl.org/automl/auto-sklearn/) para encontrarmos os melhores parâmetros para o nosso modelo. Usaremos [cross-validation](https://scikit-learn.org/stable/modules/cross_validation.html) para a melhor evolução do modelo.\n",
    "\n",
    "O que estamos usando de novo:\n",
    "\n",
    "- [**sklearn.model_selection.KFold**](https://scikit-learn.org/stable/modules/generated/sklearn.model_selection.KFold.html): K-Folds cross-validator.\n",
    "- [**sklearn.model_selection.cross_val_score**](https://scikit-learn.org/stable/modules/generated/sklearn.model_selection.cross_val_score.html): avaliar o score usando cross-validation.\n",
    "- [**sklearn.pipeline.Pipeline**](https://scikit-learn.org/stable/modules/generated/sklearn.pipeline.Pipeline.html): pipelines que serão aplicados.\n",
    "- [**sklearn.preprocessing.QuantileTransformer**](https://scikit-learn.org/stable/modules/generated/sklearn.preprocessing.QuantileTransformer.html): realiza o `transform` usando quartis.\n",
    "- [**sklearn.preprocessing.Normalizer**](https://scikit-learn.org/stable/modules/generated/sklearn.preprocessing.Normalizer.html): realiza a normalização.\n",
    "- [**sklearn.preprocessing.RobustScaler**](https://scikit-learn.org/stable/modules/generated/sklearn.preprocessing.RobustScaler.html): dimensione recursos usando estatísticas robustas para outliers.\n",
    "- [**sklearn.preprocessing.PowerTransformer**](https://scikit-learn.org/stable/modules/generated/sklearn.preprocessing.PowerTransformer.html): aplica transformação de potência.\n",
    "\n",
    "**Exercícios**:\n",
    "1. Defina o número de _folds_ para `6`.\n",
    "1. Defina a semente de aleatoriedade para `20`.\n",
    "1. Defina os seguintes pipelines:\n",
    "  1. **ScaledKnn**: chame a etapa de `Scaler` e aplique `StandardScaler()`.\n",
    "  1. **NormalizedKnn**: chame a etapa de `Normalizer` e aplique `Normalizer()`.\n",
    "  1. **RobustedKnn**: chame a etapa de `Robust` e aplique `RobustScaler()`.\n",
    "  1. **QuantiledKnn**: chame a etapa de `Quantile` e aplique `QuantileTransformer()`.\n",
    "  1. **PoweredKnn**: chame a etapa de `Power` e aplique `PowerTransformer()`."
   ]
  },
  {
   "cell_type": "code",
   "execution_count": 0,
   "metadata": {
    "colab": {},
    "colab_type": "code",
    "id": "WgFrQrGwLDtf"
   },
   "outputs": [],
   "source": [
    "from sklearn.model_selection import KFold\n",
    "from sklearn.model_selection import cross_val_score\n",
    "\n",
    "from sklearn.pipeline import Pipeline\n",
    "\n",
    "from sklearn.preprocessing import Normalizer\n",
    "from sklearn.preprocessing import RobustScaler\n",
    "from sklearn.preprocessing import PowerTransformer\n",
    "from sklearn.preprocessing import QuantileTransformer"
   ]
  },
  {
   "cell_type": "code",
   "execution_count": 0,
   "metadata": {
    "colab": {},
    "colab_type": "code",
    "id": "KC8avktXUKYw"
   },
   "outputs": [],
   "source": [
    "# Opções de teste e métrica de avaliação\n",
    "num_folds = 6\n",
    "seed = 20\n",
    "scoring = 'neg_mean_squared_error'"
   ]
  },
  {
   "cell_type": "code",
   "execution_count": 0,
   "metadata": {
    "colab": {},
    "colab_type": "code",
    "id": "yi47GE6NUKbC"
   },
   "outputs": [],
   "source": [
    "# Pipeline de modelos que iremos aplicar\n",
    "pipelines = []\n",
    "pipelines.append(('NonScaledKnn', \n",
    "                  Pipeline([('KNN',\n",
    "                             KNeighborsRegressor(n_neighbors=5, algorithm=\"brute\",n_jobs=-1))])))\n",
    "pipelines.append(('ScaledKnn', \n",
    "                  Pipeline([(_____, \n",
    "                             _____),\n",
    "                            ('KNN',\n",
    "                             KNeighborsRegressor(n_neighbors=5, n_jobs=-1))])))\n",
    "pipelines.append(('NormalizedKnn', \n",
    "                  Pipeline([(_____, \n",
    "                             _____),\n",
    "                            ('KNN',\n",
    "                             KNeighborsRegressor(n_neighbors=5, n_jobs=-1))])))\n",
    "pipelines.append(('RobustedKnn', \n",
    "                  Pipeline([(_____, \n",
    "                             _____),\n",
    "                            ('KNN',\n",
    "                             KNeighborsRegressor(n_neighbors=5, n_jobs=-1))])))\n",
    "pipelines.append(('QuantiledKnn', \n",
    "                  Pipeline([(_____, \n",
    "                             _____),\n",
    "                            ('KNN',\n",
    "                             KNeighborsRegressor(n_neighbors=5, n_jobs=-1))])))\n",
    "pipelines.append(('PoweredKnn', \n",
    "                  Pipeline([(_____, \n",
    "                             _____),\n",
    "                            ('KNN',\n",
    "                             KNeighborsRegressor(n_neighbors=5, n_jobs=-1))])))"
   ]
  },
  {
   "cell_type": "markdown",
   "metadata": {
    "colab_type": "text",
    "id": "_6fAN2RV2y_5"
   },
   "source": [
    "**Exercícios**:\n",
    "1. Atribua a `n_splits` a quantidade de _folds_ definido anteriormente.\n",
    "1. Atribua a `random_state` a semente de aleatoriedade definida anteriormente.\n",
    "1. No `cross_val_score`:\n",
    "  1. Atribua o modelo que você quer treinar.\n",
    "  1. Os dados de treinamento (`X_train`).\n",
    "  1. Os dados de teste (`Y_train`).\n",
    "  1. Atribua a `cv` a quantidade de _folds_ definidas anteriormente.\n"
   ]
  },
  {
   "cell_type": "code",
   "execution_count": 0,
   "metadata": {
    "colab": {},
    "colab_type": "code",
    "id": "xL_VtyuGUKdX"
   },
   "outputs": [],
   "source": [
    "# Aplicar os modelos e verificar a mean e std\n",
    "results = []\n",
    "names = []\n",
    "for name, model in pipelines:\n",
    "  kfold = KFold(n_splits=_____, random_state=_____)\n",
    "  cv_results = cross_val_score(_____, _____, _____, cv=_____, scoring=scoring)\n",
    "  results.append(cv_results)\n",
    "  names.append(name)\n",
    "  print(\"%s Mean: %f Std: %f\" % (name, \n",
    "                                 np.sqrt(-cv_results.mean()),\n",
    "                                 np.sqrt(cv_results.std())))"
   ]
  },
  {
   "cell_type": "code",
   "execution_count": 0,
   "metadata": {
    "colab": {},
    "colab_type": "code",
    "id": "yoEpaYK4U0zx"
   },
   "outputs": [],
   "source": [
    "# Mostra um conjunto de BoxPlot para cada modelo\n",
    "fig = plt.figure()\n",
    "ax = fig.add_subplot(111)\n",
    "plt.boxplot(results)\n",
    "ax.set_xticklabels(names,rotation=90)\n",
    "plt.title('Scaled Algorithm Comparison')\n",
    "plt.tight_layout()\n",
    "plt.show()"
   ]
  },
  {
   "cell_type": "markdown",
   "metadata": {
    "colab_type": "text",
    "id": "y5ksoREs298B"
   },
   "source": [
    "## Observações\n",
    "Faça observações sobre os resultados dos seus modelos.\n",
    "\n",
    "**ESCOLHA UM MODELO PARA USAR EM DIANTE**."
   ]
  },
  {
   "cell_type": "markdown",
   "metadata": {
    "colab_type": "text",
    "id": "R_jlQJGBKDRn"
   },
   "source": [
    "## Melhorando o modelo\n",
    "Agora vamos realizar alguns testes para encontrar melhores parâmetros para o nosso modelo já definido.\n",
    "\n",
    "O que estamos usando de novo:\n",
    "- [**sklearn.model_selection.GridSearchCV**](https://scikit-learn.org/stable/modules/generated/sklearn.model_selection.GridSearchCV.html): busca exaustiva por parâmetros específicos.\n",
    "\n",
    "**Exercícios**:\n",
    "- Acesse a documentação e defina quais serão os parâmetros usados na sua malha de busca.\n",
    "- Aplique o escalar escolhido anteriormente.\n",
    "\n",
    "Execute quantas vezes julgar necessário para encontrar os melhores parâmetros."
   ]
  },
  {
   "cell_type": "code",
   "execution_count": 0,
   "metadata": {
    "colab": {},
    "colab_type": "code",
    "id": "tan1pjvOzkSE"
   },
   "outputs": [],
   "source": [
    "from sklearn.model_selection import GridSearchCV\n",
    "\n",
    "# Hiperparâmetros\n",
    "param_grid = {\n",
    "    'n_jobs': [-1],\n",
    "    'n_neighbors': _____,\n",
    "    'weights': [\n",
    "        _____\n",
    "    ],\n",
    "    'leaf_size': _____,\n",
    "    'algorithm': [\n",
    "        _____\n",
    "    ],\n",
    "    'metric': [\n",
    "        _____\n",
    "    ]\n",
    "}\n",
    "\n",
    "# APLIQUE O ESCALAR ESCOLHIDO AQUI\n",
    "scaler = _____.fit_transform(X_train)\n",
    "\n",
    "# Instância do modelo\n",
    "model = KNeighborsRegressor()\n",
    "\n",
    "# Cross-validation\n",
    "kfold = KFold(n_splits=num_folds, random_state=seed)\n",
    "grid = GridSearchCV(estimator=model, \n",
    "                    param_grid=param_grid, \n",
    "                    scoring=scoring,\n",
    "                    cv=kfold)\n",
    "\n",
    "grid_result = grid.fit(scaler, Y_train)\n",
    "\n",
    "# Mostrar resultados\n",
    "print(\"Best: %f using %s\" % (np.sqrt(-grid_result.best_score_), \n",
    "                             grid_result.best_params_))\n",
    "means = np.sqrt(-grid_result.cv_results_['mean_test_score'])\n",
    "stds = np.sqrt(grid_result.cv_results_['std_test_score'])\n",
    "params = grid_result.cv_results_['params']\n",
    "for mean, stdev, param in zip(means, stds, params):\n",
    "  print(\"%f (%f) with: %r\" % (mean, stdev, param))"
   ]
  },
  {
   "cell_type": "markdown",
   "metadata": {
    "colab_type": "text",
    "id": "EoOvhiIXbOoA"
   },
   "source": [
    "## Avaliando o model\n",
    "Vamos aplicar o nosso modelo nos dados de teste, para verificarmos o RMSE.\n",
    "\n",
    "**Exercício**:\n",
    "1. Aplique novamente o escalar escolhido."
   ]
  },
  {
   "cell_type": "code",
   "execution_count": 0,
   "metadata": {
    "colab": {},
    "colab_type": "code",
    "id": "0DalT6XN1dv4"
   },
   "outputs": [],
   "source": [
    "# Aplicando o modelo no X_test\n",
    "predict = grid_result.best_estimator_.predict(_____.fit_transform(X_test))\n",
    "\n",
    "# Verificando o RMSE do modelo\n",
    "rmse = np.sqrt(mean_squared_error(predict, Y_test))\n",
    "print(rmse)"
   ]
  }
 ],
 "metadata": {
  "colab": {
   "collapsed_sections": [],
   "name": "Aula 04 - Prática - KNRegression.ipynb",
   "provenance": []
  },
  "kernelspec": {
   "display_name": "Python 3",
   "language": "python",
   "name": "python3"
  },
  "language_info": {
   "codemirror_mode": {
    "name": "ipython",
    "version": 3
   },
   "file_extension": ".py",
   "mimetype": "text/x-python",
   "name": "python",
   "nbconvert_exporter": "python",
   "pygments_lexer": "ipython3",
   "version": "3.7.3"
  },
  "toc": {
   "base_numbering": 1,
   "nav_menu": {},
   "number_sections": true,
   "sideBar": true,
   "skip_h1_title": false,
   "title_cell": "Table of Contents",
   "title_sidebar": "Contents",
   "toc_cell": false,
   "toc_position": {},
   "toc_section_display": true,
   "toc_window_display": false
  },
  "varInspector": {
   "cols": {
    "lenName": 16,
    "lenType": 16,
    "lenVar": 40
   },
   "kernels_config": {
    "python": {
     "delete_cmd_postfix": "",
     "delete_cmd_prefix": "del ",
     "library": "var_list.py",
     "varRefreshCmd": "print(var_dic_list())"
    },
    "r": {
     "delete_cmd_postfix": ") ",
     "delete_cmd_prefix": "rm(",
     "library": "var_list.r",
     "varRefreshCmd": "cat(var_dic_list()) "
    }
   },
   "types_to_exclude": [
    "module",
    "function",
    "builtin_function_or_method",
    "instance",
    "_Feature"
   ],
   "window_display": false
  }
 },
 "nbformat": 4,
 "nbformat_minor": 1
}
