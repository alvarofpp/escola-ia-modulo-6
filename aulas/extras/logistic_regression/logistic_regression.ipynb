{
 "cells": [
  {
   "cell_type": "markdown",
   "metadata": {
    "colab_type": "text",
    "id": "uT4d8uPWmWBy"
   },
   "source": [
    "# Notação\n",
    "Notação matemática para deep learning.\n",
    "\n",
    "## Tamanhos\n",
    "| Notação | Significado |\n",
    "| -------------- | ------------------ |\n",
    "| $m$ | Número de exemplos no dataset |\n",
    "| $n_{x}$ | Tamanho da entrada  |\n",
    "| $n_{y}$ | Tamanho da saída (ou número de classes)  |\n",
    "| $n_{h}^{[l]}$ | Número de unidades ocultas da camada $l^{th}$ |\n",
    "| $L$ | Número de camadas na rede |\n",
    "\n",
    "**Observação**: Em um _loop_, é possível denotar $n_{x} = n_{h}^{[0]}$ e $n_{y} = n_{h}^{numero\\_de\\_camadas + 1}$.\n",
    "\n",
    "## Objetos\n",
    "| Notação | Significado |\n",
    "| -------------- | ------------------ |\n",
    "| $X \\in \\mathbb{R}^{n_{x} \\times m}$ | Matriz de entrada |\n",
    "| $x^{(i)} \\in \\mathbb{R}^{n_{x}}$ | Representa o vetor da columa $i^{th}$  |\n",
    "| $Y \\in \\mathbb{R}^{n_{y} \\times m}$ | Matriz de rótulos |\n",
    "| $y^{(i)} \\in \\mathbb{R}^{n_{y}}$ | Rótulo de saída para o exemplo $i^{th}$  |\n",
    "| $W^{[l]} \\in \\mathbb{R}^{numero\\_de\\_unidades\\_na\\_proxima\\_camada \\times numero\\_de\\_unidades\\_na\\_camada\\_anterior}$ | É a matriz de peso, $[l]$ indica a camada |\n",
    "| $b^{[l]} \\in \\mathbb{R}^{numero\\_de\\_unidades\\_na\\_proxima\\_camada}$ | É o vetor de viés na camada $l^{th}$ |\n",
    "| $\\hat{y} \\in \\mathbb{R}^{n_{y}}$ | É o vetor de saída previsto. Também pode ser denotado como $a^{[L]}$, onde $L$ é o número de camadas na rede |\n",
    "\\begin{equation}\n",
    "X_{n_{x} \\times m} =\n",
    "  \\begin{bmatrix}\n",
    "    \\vdots & \\vdots &\\vdots &   & \\vdots \\\\\n",
    "    x^{(1)} & x^{(2)} & x^{(3)} & \\dots  & x^{(m)} \\\\\n",
    "    \\vdots & \\vdots &\\vdots &   & \\vdots\n",
    "  \\end{bmatrix}\n",
    "Y_{1 \\times m} =\n",
    "  \\begin{bmatrix}\n",
    "    y^{(1)} & y^{(2)} & y^{(3)} & \\dots  & y^{(m)}\n",
    "  \\end{bmatrix}\n",
    "\\end{equation}\n",
    "\n",
    "## Outros\n",
    "| Notação | Significado |\n",
    "| -------------- | ------------------ |\n",
    "| $(x^{(1)}, y^{(1)})$ | Exemplo de treinamento único |"
   ]
  },
  {
   "cell_type": "markdown",
   "metadata": {
    "colab_type": "text",
    "id": "BHb1xaUR4lAt"
   },
   "source": [
    "# Regressão Logística\n",
    "Regressão logística é um algoritmo de classificação binária, isso quer dizer que é um algoritmo de aprendizagem que usamos quando os rótulos de saída $Y$ em um problema de aprendizado supervisionado são ou $0$ ou $1$.\n",
    "\n",
    "Dado um vetor de característica $x$, nós queremos prever $\\hat{y}$, que é a probabilidade de $y$ ser igual a $1$. Em outras palavras: se $x$ é uma imagem, $\\hat{y}$ nos dirá se o objeto que estamos procurando está na imagem ou não.\n",
    "\n",
    "\\begin{equation}\n",
    "    \\hat{y} = \\underbrace{P(y = 1|x)}_{0 \\leq \\hat{y} \\leq 1}\n",
    "\\end{equation}\n",
    "\n",
    "Os parâmetros de regressão logística serão: $w$, que é um vetor de dimensão $n_{x}$, e $b$, que é um número real.\n",
    "\n",
    "\\begin{equation}\n",
    "    w \\in \\mathbb{R}^{n_{x}} \\\\\n",
    "    b \\in \\mathbb{R}\n",
    "\\end{equation}\n",
    "\n",
    "Se estivessemos usando regressão linear, poderiamos declarar que $\\hat{y} = w^{t} \\times x + b$. O problema é que essa equação pode resultar em números muito maiores que 1 ou até mesmo números negativos, o que não é nada correto visto que nosso problema é de classificação binária. Devido isso, aplicamos a função sigmóide na equação anterior (chamaremos a equação anterior de $z$):\n",
    "\n",
    "\\begin{equation}\n",
    "    \\hat{y} = \\sigma(\\underbrace{w^{t} \\times x + b}_{z})\n",
    "\\end{equation}"
   ]
  },
  {
   "cell_type": "markdown",
   "metadata": {
    "colab_type": "text",
    "id": "yeuojpMkFvh9"
   },
   "source": [
    "## Função sigmóide\n",
    "A função sigmóide é uma função de ativação, isso quer dizer que ela atende a dois critérios:\n",
    "1.  Deve estar ativa (próxima de $+1$) para entradas \"corretas\" e inativa (próxima a $0$) para entradas \"erradas\";\n",
    "2.  Deve ser não linear para que a rede como um todo possa representar funções não-lineares.\n",
    "\n",
    "O gráfico a seguir mostra o comportamento dela ($z$ nesse caso seria o eixo horizontal):\n",
    "\n",
    "<img src=\"https://upload.wikimedia.org/wikipedia/commons/thumb/8/88/Logistic-curve.svg/320px-Logistic-curve.svg.png\">\n",
    "\n",
    "Podemos perceber, por exemplo, que ela cruza o eixo vertical em $0.5$.\n",
    "\n",
    "Sua equação é:\n",
    "\n",
    "\\begin{equation}\n",
    "    \\sigma(z) = \\frac{1}{1+e^{-z}}\n",
    "\\end{equation}\n",
    "\n",
    "Podemos realizar algumas observações, como:\n",
    "1.  Se $z$ é muito grande, então $e^{-z}$ será próximo de zero. Dessa forma: $\\sigma(z) \\thickapprox \\frac{1}{1+0} \\thickapprox 1$;\n",
    "1.  Se $z$ é muito pequeno ou é um número negativo muito grande, então $e^{-z}$ será um número muito grande. Dessa forma: $\\sigma(z) \\thickapprox \\frac{1}{1+numero\\_grande} \\thickapprox 0$;"
   ]
  },
  {
   "cell_type": "markdown",
   "metadata": {
    "colab_type": "text",
    "id": "Zy-29dtFI4Il"
   },
   "source": [
    "## Função de custo\n",
    "Serve para medir o quão bem os seus parâmetros $w$ e $b$ estão perfomando no conjunto de treinamento. Consiste em ser a média da função de perda (que pode ser vista logo mais abaixo) de cada exemplo treinado.\n",
    "\\begin{equation}\n",
    "    J(w,b) = \\frac{1}{m}\\sum_{i=1}^{m} \\mathcal{L}(\\hat{y}^{i}, y^{i}) = -\\frac{1}{m}\\sum_{i=1}^{m} \\begin{bmatrix}\n",
    "    y^{i} \\log \\hat{y}^{i} + (1-y^{i})\\log(1-\\hat{y}^{i})\n",
    "  \\end{bmatrix}\n",
    "\\end{equation}\n",
    "\n",
    "### Função de perda\n",
    "Também chamada de **função de erro**, é usada para medir o quão boa é a saída prevista $\\hat{y}$, quando o rótulo verdadeiro for $y$. Podemos definir a perda quando o algoritmo dá o resultado, $\\hat{y}$, em relação ao rótulo verdadeiro, $y$, como:\n",
    "\n",
    "\\begin{equation}\n",
    "    \\mathcal{L}(\\hat{y}, y) = \\frac{1}{2}(\\hat{y}-y)^{2}\n",
    "\\end{equation}\n",
    "\n",
    "O problema dessa equação acima é que nos deparamos com o problema de otimização com múltiplas ótimos saídas, pois não será convexo. Devido a isso, nossa função de perda deverá ser:\n",
    "\n",
    "\\begin{equation}\n",
    "    \\mathcal{L}(\\hat{y}, y) = (y \\log \\hat{y} + (1-y)\\log(1-\\hat{y}))\n",
    "\\end{equation}\n",
    "\n",
    "Essa equação acima faz sentido se observarmos dois casos: $y=0$ e $y=1$.\n",
    "\n",
    "1.  $y=1 \\Longrightarrow \\mathcal{L}(\\hat{y}, y) = - \\log \\hat{y}$, quanto mais $\\hat{y}$ se aproxima de $0$, $- \\log \\hat{y}$ cresce exponencialmente para o infinito. Porém a função sigmóide não permite que seja maior que $1$, portanto será próximo de $1$.\n",
    "1.  $y=0 \\Longrightarrow \\mathcal{L}(\\hat{y}, y) = - \\log(1-\\hat{y})$, quanto mais $\\hat{y}$ se distancia de $0$, $\\log(1-\\hat{y})$ vai para infinito. Vale notar o sinal $-$ no início da equação. Logo, como a função sigmóide não permite ser menor que $0$, $\\hat{y}$ será próximo de $0$. \n"
   ]
  },
  {
   "cell_type": "markdown",
   "metadata": {
    "colab_type": "text",
    "id": "HoDAknnewR9_"
   },
   "source": [
    "## Derivação\n",
    "A derivada de uma função $f(x) = y$, num ponto $x = x_{0}$, é igual ao valor da tangente trigonométrica do ângulo formado pela tangente geométrica à curva representativa de $f(x) = y$, no $x = x_{0}$, ou seja, a derivada é o coeficiente angular da reta tangente ao gráfico da função no ponto $x_{0}$. Em outras palavras, podemos dizer que a derivada em um ponto de função $f(x) = y$ representa a taxa de variação instantânea do $y$ em relação a $x$ neste ponto.\n",
    "\n",
    "### Algumas propriedades\n",
    "Agora iremos ver algumas propriedades da derivação.\n",
    "\n",
    "- i) Se $f(x) = a$, então $f'(x) = 0$\n",
    "- ii) Se $f(x) = ax$, então $f'(x) = a$\n",
    "- iii) (Regra do tombo) Se $f(x) = x^{a}$, então $f'(x) = a \\times x^{a-1}$\n",
    "- iv) (Derivada da soma) $\\begin{bmatrix}f(x) + g(x)\\end{bmatrix}' = f'(x) + g'(x)$\n",
    "- v) $[a \\times f(x)]' = a \\times f'(x)$\n",
    "- vi) (Regra do produto) $[f(x) \\times g(x)]' = f(x)' \\times g(x) + f(x) \\times g(x)'$\n",
    "- vii) (Regra do quociente) $\\begin{bmatrix}\\frac{f(x)}{g(x)}\\end{bmatrix}'\n",
    "= \\frac{f'(x) \\times g(x) - f(x) \\times g'(x)}{\\begin{bmatrix}g(x)\\end{bmatrix}^{2}}$\n",
    "- viii) (Regra da cadeia) $f$ e $g$ são funções, então $\\frac{d}{dx}(f \\circ g) = \\frac{df}{dg} \\times \\frac{dg}{dx}$\n",
    "\n",
    "### Algumas derivadas básicas\n",
    "\n",
    "- Derivada de uma constante: $\\frac{d}{dx}(c) = 0$\n",
    "- Derivada de soma/subtração: $\\frac{d}{dx}(z \\pm w) = \\frac{dz}{dx} \\pm \\frac{dw}{dx}$\n",
    "- Produto por uma constante: $\\frac{d}{dx}(c \\times w) = c\\frac{dw}{dx}$\n",
    "- Derivada do produto: $\\frac{d}{dx}(z \\times w) = z\\frac{dw}{dx} + w\\frac{dz}{dx}$\n",
    "- Derivada da divisão:  $\\frac{d}{dx}(\\frac{z}{w})\n",
    "= \\frac{w\\frac{dz}{dx} - z\\frac{dw}{dx}}{w^{2}}$\n",
    "- Derivada de $ln$: $f(x) = ln(x)$, então $f'(x) = \\frac{1}{x}$"
   ]
  },
  {
   "cell_type": "markdown",
   "metadata": {
    "colab_type": "text",
    "id": "7TCjfaggfKBi"
   },
   "source": [
    "## Gradiente decrescente\n",
    "Trata-se de um método iterativo de otimização, com ele iremos aprender os parâmetros $w$ e $b$ do conjunto de treinamento.\n",
    "\n",
    "Inicialmente atribuímos valores para $w$ e $b$, normalmente se atribui $0$, mas também pode ser valores aleatórios. Após isso será cálculado um valor referente a $w$ e $b$ que servirá para indicar a direção da descida mais íngreme ou descer o mais rápido possível. Esse passo será repetida várias vezes até convergir ao ponto ideal ou chegue o mais próximo dele.\n",
    "\n",
    "\\begin{equation}\n",
    "      w := w - \\alpha \\frac{\\partial J(w, b)}{\\partial w} \\\\\n",
    "      b := b - \\alpha \\frac{\\partial J(w, b)}{\\partial b} \\\\\n",
    "\\end{equation}\n",
    "\n",
    "Onde:\n",
    "- $\\alpha$ - É a taxa de aprendizagem e controla o quão grande será o passo tomado em cada iteração do gradiente decrescente\n",
    "- $\\frac{\\partial J(w, b)}{\\partial w}$ - Derivada de $w$, representa a atualização ou mudança desejada no parâmetro $w$. O mesmo vale para $\\frac{\\partial J(w, b)}{\\partial b}$.\n",
    "\n",
    "Vale lembrar que a derivada é a inclinação de uma função no ponto. Dessa forma:\n",
    "- Se a derivada for positiva, $w$ sobre uma subtração;\n",
    "- Se a derivada for negativa, $w$ sobre uma adição;\n",
    "- Se a derivada der zero, significa que chegamos no ponto crítico da função. Por se tratar de uma função convexa, existe apenas um único ponto crítico.\n"
   ]
  },
  {
   "cell_type": "markdown",
   "metadata": {
    "colab_type": "text",
    "id": "Dai3Y3YN8dxf"
   },
   "source": [
    "## Implementação\n",
    "Considere $a = \\hat{y}$.\n",
    "\n",
    "### Não vetorizada\n",
    "Teriamos inicialmente as variáveis inicializadas:\n",
    "\\begin{equation}\n",
    "  J = 0, dw_{1} = 0, dw_{2} = 0, db = 0\n",
    "\\end{equation}\n",
    "\n",
    "Depois declaramos um *loop* de $1$ até $m$. Seria algo como `for i = 1 to m`. Dentro desse laço, teriamos essa sequência de cálculos:\n",
    "\\begin{equation}\n",
    "  z^{(i)} = w^{t} \\times x^{(i)} + b \\\\\n",
    "  a^{(i)} = \\sigma(z^{(i)}) \\\\\n",
    "  J += -\\begin{bmatrix}y^{(i)} \\log a^{(i)} + (1-y^{(i)})\\log(1-a^{(i)})\\end{bmatrix} \\\\\n",
    "  dz^{(i)} = a^{(i)}-y^{(i)} \\\\\n",
    "  dw_{1} += x_{1}^{(i)} \\times dz^{(i)} \\\\\n",
    "  dw_{2} += x_{2}^{(i)} \\times dz^{(i)} \\\\\n",
    "  db += dz^{(i)}\n",
    "\\end{equation}\n",
    "\n",
    "E, após todo o laço, dividimos os valores pelo total de *loops* que realizamos:\n",
    "\\begin{equation}\n",
    "  J = \\frac{J}{m}, dw_{1} = \\frac{dw_{1}}{m}, dw_{2} = \\frac{dw_{2}}{m}, db = \\frac{db}{m}\n",
    "\\end{equation}\n",
    "\n",
    "### Vetorizada\n",
    "Para implementar, iremos usar a biblioteca [*numpy*](https://www.numpy.org/), assim não precisamos realizar nenhum *loop*. Dessa forma teriamos:\n",
    "\\begin{equation}\n",
    "  z = np.dot(w.T, x) + b \\\\\n",
    "  a = \\sigma(z^{(i)}) \\\\\n",
    "  dz = a - y \\\\\n",
    "  dw =\\frac{1}{m} \\times dz^{t} \\\\\n",
    "  db =\\frac{1}{m} \\times np.sum(dz) \\\\\n",
    "  w := w - \\alpha \\times dw \\\\\n",
    "  b := b - \\alpha \\times db\n",
    "\\end{equation}"
   ]
  },
  {
   "cell_type": "markdown",
   "metadata": {},
   "source": [
    "- [numpy](http://www.numpy.org/) é o pacote fundamental para computação científica com Python;\n",
    "- [h5py](http://www.h5py.org/) é um pacote comum para interagir com um conjunto de dados armazenado em um arquivo H5;\n",
    "- [matplotlib](https://matplotlib.org/) é uma biblioteca para construir gráficos em Python;\n",
    "- [PIL](http://www.pythonware.com/products/pil/) ou [scipy](https://www.scipy.org/) poderm ser usados para testar seu modelo com outras fotos no final."
   ]
  },
  {
   "cell_type": "code",
   "execution_count": 1,
   "metadata": {
    "ExecuteTime": {
     "end_time": "2019-04-28T19:43:15.764399Z",
     "start_time": "2019-04-28T19:43:05.702977Z"
    },
    "colab": {},
    "colab_type": "code",
    "id": "-NRiQVcs8lEr"
   },
   "outputs": [],
   "source": [
    "import numpy as np\n",
    "import matplotlib.pyplot as plt\n",
    "import h5py\n",
    "import scipy"
   ]
  },
  {
   "cell_type": "markdown",
   "metadata": {
    "colab_type": "text",
    "id": "yRR55yzHcAHJ"
   },
   "source": [
    "Primeiro vamos carregar os dados:"
   ]
  },
  {
   "cell_type": "code",
   "execution_count": 2,
   "metadata": {
    "ExecuteTime": {
     "end_time": "2019-04-28T19:43:22.073544Z",
     "start_time": "2019-04-28T19:43:22.067561Z"
    },
    "colab": {},
    "colab_type": "code",
    "id": "NWJ4ZLt7cAOY"
   },
   "outputs": [],
   "source": [
    "def load_dataset():\n",
    "    train_dataset = h5py.File('datasets/train_catvnoncat.h5', \"r\")\n",
    "    train_set_x_orig = np.array(train_dataset[\"train_set_x\"][:]) # your train set features\n",
    "    train_set_y_orig = np.array(train_dataset[\"train_set_y\"][:]) # your train set labels\n",
    "\n",
    "    test_dataset = h5py.File('datasets/test_catvnoncat.h5', \"r\")\n",
    "    test_set_x_orig = np.array(test_dataset[\"test_set_x\"][:]) # your test set features\n",
    "    test_set_y_orig = np.array(test_dataset[\"test_set_y\"][:]) # your test set labels\n",
    "\n",
    "    classes = np.array(test_dataset[\"list_classes\"][:]) # the list of classes\n",
    "    \n",
    "    train_set_y_orig = train_set_y_orig.reshape((1, train_set_y_orig.shape[0]))\n",
    "    test_set_y_orig = test_set_y_orig.reshape((1, test_set_y_orig.shape[0]))\n",
    "    \n",
    "    return train_set_x_orig, train_set_y_orig, test_set_x_orig, test_set_y_orig, classes"
   ]
  },
  {
   "cell_type": "code",
   "execution_count": 3,
   "metadata": {
    "ExecuteTime": {
     "end_time": "2019-04-28T19:43:23.354934Z",
     "start_time": "2019-04-28T19:43:22.936829Z"
    },
    "colab": {},
    "colab_type": "code",
    "id": "Yl8x8PS4cngg"
   },
   "outputs": [],
   "source": [
    "# Loading the data (cat/non-cat)\n",
    "train_set_x_orig, train_set_y, test_set_x_orig, test_set_y, classes = load_dataset()"
   ]
  },
  {
   "cell_type": "markdown",
   "metadata": {
    "colab_type": "text",
    "id": "DzZUjdIKcKig"
   },
   "source": [
    "Agora precisamos garantir as dimensões dos dados, além de padronizá-los:"
   ]
  },
  {
   "cell_type": "code",
   "execution_count": 4,
   "metadata": {
    "ExecuteTime": {
     "end_time": "2019-04-28T19:43:24.209672Z",
     "start_time": "2019-04-28T19:43:24.193685Z"
    },
    "colab": {},
    "colab_type": "code",
    "id": "NdZDzcuxcKp1"
   },
   "outputs": [],
   "source": [
    "train_set_x_flatten = train_set_x_orig.reshape(train_set_x_orig.shape[0], -1).T\n",
    "test_set_x_flatten = test_set_x_orig.reshape(test_set_x_orig.shape[0], -1).T\n",
    "\n",
    "# standardize dataset\n",
    "train_set_x = train_set_x_flatten/255.\n",
    "test_set_x = test_set_x_flatten/255."
   ]
  },
  {
   "cell_type": "markdown",
   "metadata": {
    "colab_type": "text",
    "id": "c6xEFs9oc-nh"
   },
   "source": [
    "Vamos agora implementar o algoritmo:"
   ]
  },
  {
   "cell_type": "code",
   "execution_count": 5,
   "metadata": {
    "ExecuteTime": {
     "end_time": "2019-04-28T19:43:25.221651Z",
     "start_time": "2019-04-28T19:43:25.202702Z"
    },
    "colab": {},
    "colab_type": "code",
    "id": "SGJ9T5g6B4uE"
   },
   "outputs": [],
   "source": [
    "def sigmoid(x):\n",
    "  \"\"\"Compute the sigmoid of x.\"\"\"\n",
    "  return 1/(1+np.exp(-x))\n",
    "\n",
    "def initialize_with_zeros(dim):\n",
    "    \"\"\"This function creates a vector of zeros of shape (dim, 1) for w and initializes b to 0.\"\"\"\n",
    "    \n",
    "    w = np.zeros((dim, 1))\n",
    "    b = 0.\n",
    "\n",
    "    assert(w.shape == (dim, 1))\n",
    "    assert(isinstance(b, float) or isinstance(b, int))\n",
    "    \n",
    "    return w, b\n",
    "  \n",
    "def propagate(w, b, X, Y):\n",
    "    \"\"\"Implement the cost function and its gradient for the propagation explained above.\"\"\"\n",
    "    \n",
    "    m = X.shape[1]\n",
    "    \n",
    "    # Encontrar o custo (forward propagation)\n",
    "    A = sigmoid(np.dot(w.T, X) + b)\n",
    "    cost = -(1/m)*np.sum(Y * np.log(A) + (1 - Y) * np.log(1 - A))\n",
    "    \n",
    "    # Encontrar o gradiente (backward propagation)\n",
    "    dw = (np.dot(X, (A- Y).T))/m\n",
    "    db = (np.sum(A - Y))/m\n",
    "\n",
    "    assert(dw.shape == w.shape)\n",
    "    assert(db.dtype == float)\n",
    "    cost = np.squeeze(cost)\n",
    "    assert(cost.shape == ())\n",
    "    \n",
    "    grads = {\"dw\": dw,\n",
    "             \"db\": db}\n",
    "    \n",
    "    return grads, cost\n",
    "\n",
    "def optimize(w, b, X, Y, num_iterations, learning_rate, print_cost = False):\n",
    "    \"\"\"This function optimizes w and b by running a gradient descent algorithm.\"\"\"\n",
    "    \n",
    "    costs = []\n",
    "    \n",
    "    for i in range(num_iterations):\n",
    "        grads, cost = propagate(w, b, X, Y)\n",
    "        \n",
    "        dw = grads[\"dw\"]\n",
    "        db = grads[\"db\"]\n",
    "        \n",
    "        w = w - learning_rate * dw\n",
    "        b = b - learning_rate * db\n",
    "        \n",
    "        if i % 100 == 0:\n",
    "            costs.append(cost)\n",
    "        \n",
    "        if print_cost and i % 100 == 0:\n",
    "            print (\"Cost after iteration %i: %f\" %(i, cost))\n",
    "    \n",
    "    params = {\"w\": w,\n",
    "              \"b\": b}\n",
    "    \n",
    "    grads = {\"dw\": dw,\n",
    "             \"db\": db}\n",
    "    \n",
    "    return params, grads, costs\n",
    "  \n",
    "def predict(w, b, X):\n",
    "    '''Predict whether the label is 0 or 1 using learned logistic regression parameters (w, b).'''\n",
    "    \n",
    "    m = X.shape[1]\n",
    "    Y_prediction = np.zeros((1,m))\n",
    "    w = w.reshape(X.shape[0], 1)\n",
    "    \n",
    "    A = sigmoid(np.dot(w.T, X) + b)\n",
    "    \n",
    "    for i in range(A.shape[1]):\n",
    "        Y_prediction[0,i] = A[0,i] >= 0.5\n",
    "    \n",
    "    assert(Y_prediction.shape == (1, m))\n",
    "    \n",
    "    return Y_prediction\n",
    "\n",
    "\n",
    "def model(X_train, Y_train, X_test, Y_test, num_iterations = 2000, learning_rate = 0.5, print_cost = False):\n",
    "    \"\"\"Builds the logistic regression model by calling the function you've implemented previously.\"\"\"\n",
    "    \n",
    "    # Initialize parameters with zeros\n",
    "    w, b = initialize_with_zeros(X_train.shape[0])\n",
    "\n",
    "    # Gradient descent\n",
    "    parameters, grads, costs = optimize(w, b, X_train, Y_train, num_iterations, learning_rate, print_cost)\n",
    "    \n",
    "    # Retrieve parameters w and b from dictionary \"parameters\"\n",
    "    w = parameters[\"w\"]\n",
    "    b = parameters[\"b\"]\n",
    "    \n",
    "    # Predict test/train set examples\n",
    "    Y_prediction_test = predict(w, b, X_test)\n",
    "    Y_prediction_train = predict(w, b, X_train)\n",
    "\n",
    "    # Print train/test Errors\n",
    "    print(\"train accuracy: {} %\".format(100 - np.mean(np.abs(Y_prediction_train - Y_train)) * 100))\n",
    "    print(\"test accuracy: {} %\".format(100 - np.mean(np.abs(Y_prediction_test - Y_test)) * 100))\n",
    "\n",
    "    \n",
    "    d = {\"costs\": costs,\n",
    "         \"Y_prediction_test\": Y_prediction_test, \n",
    "         \"Y_prediction_train\" : Y_prediction_train, \n",
    "         \"w\" : w, \n",
    "         \"b\" : b,\n",
    "         \"learning_rate\" : learning_rate,\n",
    "         \"num_iterations\": num_iterations}\n",
    "    \n",
    "    return d"
   ]
  },
  {
   "cell_type": "markdown",
   "metadata": {
    "colab_type": "text",
    "id": "pP4dLu_KdSWQ"
   },
   "source": [
    "Vamos executar para vermos se está tudo funcionando como deveria:"
   ]
  },
  {
   "cell_type": "code",
   "execution_count": 6,
   "metadata": {
    "ExecuteTime": {
     "end_time": "2019-04-28T19:43:34.770572Z",
     "start_time": "2019-04-28T19:43:28.612432Z"
    },
    "colab": {
     "base_uri": "https://localhost:8080/",
     "height": 424
    },
    "colab_type": "code",
    "id": "zGc6NeMDdSiA",
    "outputId": "b29b8585-aa89-46d5-fa56-38c097890cde"
   },
   "outputs": [
    {
     "name": "stdout",
     "output_type": "stream",
     "text": [
      "Cost after iteration 0: 0.693147\n",
      "Cost after iteration 100: 0.584508\n",
      "Cost after iteration 200: 0.466949\n",
      "Cost after iteration 300: 0.376007\n",
      "Cost after iteration 400: 0.331463\n",
      "Cost after iteration 500: 0.303273\n",
      "Cost after iteration 600: 0.279880\n",
      "Cost after iteration 700: 0.260042\n",
      "Cost after iteration 800: 0.242941\n",
      "Cost after iteration 900: 0.228004\n",
      "Cost after iteration 1000: 0.214820\n",
      "Cost after iteration 1100: 0.203078\n",
      "Cost after iteration 1200: 0.192544\n",
      "Cost after iteration 1300: 0.183033\n",
      "Cost after iteration 1400: 0.174399\n",
      "Cost after iteration 1500: 0.166521\n",
      "Cost after iteration 1600: 0.159305\n",
      "Cost after iteration 1700: 0.152667\n",
      "Cost after iteration 1800: 0.146542\n",
      "Cost after iteration 1900: 0.140872\n",
      "train accuracy: 99.04306220095694 %\n",
      "test accuracy: 70.0 %\n"
     ]
    }
   ],
   "source": [
    "d = model(train_set_x, train_set_y, test_set_x, test_set_y, num_iterations = 2000, learning_rate = 0.005, print_cost = True)"
   ]
  },
  {
   "cell_type": "markdown",
   "metadata": {
    "colab_type": "text",
    "id": "fX0Vp7b7Z9gI"
   },
   "source": [
    "Exemplo de código para ajudar a escolher a taxa de apredizagem:"
   ]
  },
  {
   "cell_type": "code",
   "execution_count": 7,
   "metadata": {
    "ExecuteTime": {
     "end_time": "2019-04-28T19:43:48.059532Z",
     "start_time": "2019-04-28T19:43:34.784535Z"
    },
    "colab": {
     "base_uri": "https://localhost:8080/",
     "height": 616
    },
    "colab_type": "code",
    "id": "1M-48UX-7Bz-",
    "outputId": "eb016d11-6b74-4337-abcc-ba785365fb87"
   },
   "outputs": [
    {
     "name": "stdout",
     "output_type": "stream",
     "text": [
      "learning rate is: 0.01\n",
      "train accuracy: 99.52153110047847 %\n",
      "test accuracy: 68.0 %\n",
      "\n",
      "-------------------------------------------------------\n",
      "\n",
      "learning rate is: 0.001\n",
      "train accuracy: 88.99521531100478 %\n",
      "test accuracy: 64.0 %\n",
      "\n",
      "-------------------------------------------------------\n",
      "\n",
      "learning rate is: 0.0001\n",
      "train accuracy: 68.42105263157895 %\n",
      "test accuracy: 36.0 %\n",
      "\n",
      "-------------------------------------------------------\n",
      "\n"
     ]
    },
    {
     "data": {
      "image/png": "[encoded data removed]",
      "text/plain": [
       "<Figure size 432x288 with 1 Axes>"
      ]
     },
     "metadata": {
      "needs_background": "light"
     },
     "output_type": "display_data"
    }
   ],
   "source": [
    "learning_rates = [0.01, 0.001, 0.0001]\n",
    "models = {}\n",
    "for i in learning_rates:\n",
    "    print (\"learning rate is: \" + str(i))\n",
    "    models[str(i)] = model(train_set_x, train_set_y, test_set_x, test_set_y, num_iterations = 1500, learning_rate = i, print_cost = False)\n",
    "    print ('\\n' + \"-------------------------------------------------------\" + '\\n')\n",
    "\n",
    "for i in learning_rates:\n",
    "    plt.plot(np.squeeze(models[str(i)][\"costs\"]), label= str(models[str(i)][\"learning_rate\"]))\n",
    "\n",
    "plt.ylabel('cost')\n",
    "plt.xlabel('iterations (hundreds)')\n",
    "\n",
    "legend = plt.legend(loc='upper center', shadow=True)\n",
    "frame = legend.get_frame()\n",
    "frame.set_facecolor('0.90')\n",
    "plt.show()"
   ]
  },
  {
   "cell_type": "markdown",
   "metadata": {},
   "source": [
    "O código a seguir serve para testar o modelo final com outras imagens:"
   ]
  },
  {
   "cell_type": "code",
   "execution_count": 0,
   "metadata": {
    "colab": {},
    "colab_type": "code",
    "id": "LjH0FPoLdZOS"
   },
   "outputs": [],
   "source": [
    "my_image = \"my_image.jpg\"\n",
    "\n",
    "# We preprocess the image to fit your algorithm.\n",
    "fname = \"images/\" + my_image\n",
    "image = np.array(ndimage.imread(fname, flatten=False))\n",
    "my_image = scipy.misc.imresize(image, size=(num_px,num_px)).reshape((1, num_px*num_px*3)).T\n",
    "my_predicted_image = predict(d[\"w\"], d[\"b\"], my_image)\n",
    "\n",
    "plt.imshow(image)\n",
    "print(\"y = \" + str(np.squeeze(my_predicted_image)) + \", your algorithm predicts a \\\"\" + classes[int(np.squeeze(my_predicted_image)),].decode(\"utf-8\") +  \"\\\" picture.\")"
   ]
  }
 ],
 "metadata": {
  "accelerator": "GPU",
  "colab": {
   "collapsed_sections": [],
   "name": "logistic-regression.ipynb",
   "provenance": [],
   "version": "0.3.2"
  },
  "kernelspec": {
   "display_name": "Python 3",
   "language": "python",
   "name": "python3"
  },
  "language_info": {
   "codemirror_mode": {
    "name": "ipython",
    "version": 3
   },
   "file_extension": ".py",
   "mimetype": "text/x-python",
   "name": "python",
   "nbconvert_exporter": "python",
   "pygments_lexer": "ipython3",
   "version": "3.7.1"
  },
  "toc": {
   "base_numbering": 1,
   "nav_menu": {},
   "number_sections": true,
   "sideBar": true,
   "skip_h1_title": false,
   "title_cell": "Table of Contents",
   "title_sidebar": "Contents",
   "toc_cell": false,
   "toc_position": {},
   "toc_section_display": true,
   "toc_window_display": false
  },
  "varInspector": {
   "cols": {
    "lenName": 16,
    "lenType": 16,
    "lenVar": 40
   },
   "kernels_config": {
    "python": {
     "delete_cmd_postfix": "",
     "delete_cmd_prefix": "del ",
     "library": "var_list.py",
     "varRefreshCmd": "print(var_dic_list())"
    },
    "r": {
     "delete_cmd_postfix": ") ",
     "delete_cmd_prefix": "rm(",
     "library": "var_list.r",
     "varRefreshCmd": "cat(var_dic_list()) "
    }
   },
   "types_to_exclude": [
    "module",
    "function",
    "builtin_function_or_method",
    "instance",
    "_Feature"
   ],
   "window_display": false
  }
 },
 "nbformat": 4,
 "nbformat_minor": 1
}
